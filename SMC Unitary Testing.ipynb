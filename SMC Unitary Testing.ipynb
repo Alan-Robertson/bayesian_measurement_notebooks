{
 "cells": [
  {
   "cell_type": "code",
   "execution_count": 1,
   "metadata": {},
   "outputs": [
    {
     "name": "stderr",
     "output_type": "stream",
     "text": [
      "Failed to import duecredit due to No module named 'duecredit'\n",
      "/home/alan/aur/miniconda3/lib/python3.8/site-packages/IPython/parallel.py:12: ShimWarning: The `IPython.parallel` package has been deprecated since IPython 4.0. You should import from ipyparallel instead.\n",
      "  warn(\"The `IPython.parallel` package has been deprecated since IPython 4.0. \"\n",
      "/home/alan/aur/miniconda3/lib/python3.8/site-packages/qinfer/parallel.py:61: UserWarning: Could not import IPython parallel. Parallelization support will be disabled.\n",
      "  warnings.warn(\n"
     ]
    },
    {
     "data": {
      "text/plain": [
       "<AccountProvider for IBMQ(hub='ibm-q', group='open', project='main')>"
      ]
     },
     "execution_count": 1,
     "metadata": {},
     "output_type": "execute_result"
    }
   ],
   "source": [
    "import random\n",
    "import math\n",
    "import numpy as np\n",
    "\n",
    "from math import sin, cos, acos\n",
    "\n",
    "import copy\n",
    "\n",
    "\n",
    "import sys, os, time\n",
    "\n",
    "from qinfer import LiuWestResampler\n",
    "from qinfer import utils\n",
    "\n",
    "from qiskit import IBMQ\n",
    "from qiskit import QuantumCircuit, execute, Aer\n",
    "\n",
    "import qiskit.ignis.verification.randomized_benchmarking as rb\n",
    "\n",
    "IBMQ.load_account()"
   ]
  },
  {
   "cell_type": "code",
   "execution_count": 2,
   "metadata": {},
   "outputs": [],
   "source": [
    "import matplotlib.pyplot as plt\n",
    "import seaborn as sbs\n",
    "\n",
    "import smc_unitary as smc\n",
    "Distribution = smc.Distribution\n",
    "\n",
    "sbs.set(style=\"darkgrid\")\n",
    "\n",
    "%matplotlib inline"
   ]
  },
  {
   "cell_type": "code",
   "execution_count": 3,
   "metadata": {},
   "outputs": [],
   "source": [
    "def random_circuit(n_qubits):\n",
    "    length_vector = [1]\n",
    "    n_seeds = 1\n",
    "    \n",
    "    initial_list = list(range(0, n_qubits))    \n",
    "    rb_pattern = []\n",
    "    \n",
    "    while len(initial_list) > 1:\n",
    "        sample = random.sample(initial_list, 2)\n",
    "        [initial_list.remove(i) for i in sample]\n",
    "        rb_pattern.append(sample)\n",
    "    \n",
    "    if len(initial_list) == 1:\n",
    "        rb_pattern.append([initial_list[0]])\n",
    "    \n",
    "    \n",
    "    circuit, xdata = rb.randomized_benchmarking_seq(\n",
    "        length_vector = [1],\n",
    "        nseeds = 1,\n",
    "        rb_pattern = rb_pattern\n",
    "        )\n",
    "    circuit = circuit[0][0]\n",
    "    cregs = circuit.cregs\n",
    "    \n",
    "    circuit.remove_final_measurements(inplace=True)\n",
    "    circuit.cregs = cregs\n",
    "    \n",
    "    for i in range(n_qubits):\n",
    "        circuit.barrier(i)\n",
    "        if (round(random.random())):\n",
    "            circuit.x(i)\n",
    "            circuit.barrier(i)\n",
    "    \n",
    "    return circuit"
   ]
  },
  {
   "cell_type": "code",
   "execution_count": 4,
   "metadata": {},
   "outputs": [],
   "source": [
    "# Only one qubit for now\n",
    "def design_circuit(n_qubits, unitary_arr, circuit=None):\n",
    "    \n",
    "    if circuit is None:\n",
    "        circuit = QuantumCircuit(n_qubits, n_qubits)\n",
    "    \n",
    "    if unitary_arr is not None:\n",
    "        circuit.rx(unitary_arr[0], 0)\n",
    "        circuit.rz(unitary_arr[1], 0)\n",
    "    \n",
    "    circuit.measure(list(range(n_qubits)), list(range(n_qubits)))\n",
    "    return circuit"
   ]
  },
  {
   "cell_type": "code",
   "execution_count": 35,
   "metadata": {},
   "outputs": [],
   "source": [
    "dist = Distribution(n_points=200, n_qubits=1)"
   ]
  },
  {
   "cell_type": "code",
   "execution_count": 41,
   "metadata": {},
   "outputs": [
    {
     "data": {
      "text/html": [
       "<pre style=\"word-wrap: normal;white-space: pre;background: #fff0;line-height: 1.1;font-family: &quot;Courier New&quot;,Courier,monospace\">      ┌───┐ ░ ┌───┐ ░ ┌───┐ ░ \n",
       "qr_0: ┤ Z ├─░─┤ Z ├─░─┤ X ├─░─\n",
       "      └───┘ ░ └───┘ ░ └───┘ ░ \n",
       "cr_0: ════════════════════════\n",
       "                              </pre>"
      ],
      "text/plain": [
       "      ┌───┐ ░ ┌───┐ ░ ┌───┐ ░ \n",
       "qr_0: ┤ Z ├─░─┤ Z ├─░─┤ X ├─░─\n",
       "      └───┘ ░ └───┘ ░ └───┘ ░ \n",
       "cr_0: ════════════════════════\n",
       "                              "
      ]
     },
     "execution_count": 41,
     "metadata": {},
     "output_type": "execute_result"
    }
   ],
   "source": [
    "circuit = random_circuit(n_qubits)\n",
    "circuit.draw()"
   ]
  },
  {
   "cell_type": "code",
   "execution_count": 60,
   "metadata": {},
   "outputs": [],
   "source": [
    "u2_gates = dist.next_experiment()   \n",
    "tmp_circuit = copy.deepcopy(circuit)\n",
    "tmp_circuit = design_circuit(n_qubits, u2_gates, circuit=tmp_circuit)"
   ]
  },
  {
   "cell_type": "code",
   "execution_count": 61,
   "metadata": {},
   "outputs": [
    {
     "data": {
      "text/plain": [
       "array([5.34156439, 4.37537962])"
      ]
     },
     "execution_count": 61,
     "metadata": {},
     "output_type": "execute_result"
    }
   ],
   "source": [
    "u2_gates"
   ]
  },
  {
   "cell_type": "code",
   "execution_count": 62,
   "metadata": {},
   "outputs": [
    {
     "data": {
      "text/html": [
       "<pre style=\"word-wrap: normal;white-space: pre;background: #fff0;line-height: 1.1;font-family: &quot;Courier New&quot;,Courier,monospace\">      ┌───┐ ░ ┌───┐ ░ ┌───┐ ░ ┌────────────┐┌────────────┐┌─┐\n",
       "qr_0: ┤ Z ├─░─┤ Z ├─░─┤ X ├─░─┤ RX(5.3416) ├┤ RZ(4.3754) ├┤M├\n",
       "      └───┘ ░ └───┘ ░ └───┘ ░ └────────────┘└────────────┘└╥┘\n",
       "cr_0: ═════════════════════════════════════════════════════╩═\n",
       "                                                             </pre>"
      ],
      "text/plain": [
       "      ┌───┐ ░ ┌───┐ ░ ┌───┐ ░ ┌────────────┐┌────────────┐┌─┐\n",
       "qr_0: ┤ Z ├─░─┤ Z ├─░─┤ X ├─░─┤ RX(5.3416) ├┤ RZ(4.3754) ├┤M├\n",
       "      └───┘ ░ └───┘ ░ └───┘ ░ └────────────┘└────────────┘└╥┘\n",
       "cr_0: ═════════════════════════════════════════════════════╩═\n",
       "                                                             "
      ]
     },
     "execution_count": 62,
     "metadata": {},
     "output_type": "execute_result"
    }
   ],
   "source": [
    "tmp_circuit.draw()"
   ]
  },
  {
   "cell_type": "code",
   "execution_count": 63,
   "metadata": {},
   "outputs": [
    {
     "ename": "KeyboardInterrupt",
     "evalue": "",
     "output_type": "error",
     "traceback": [
      "\u001b[0;31m---------------------------------------------------------------------------\u001b[0m",
      "\u001b[0;31mKeyboardInterrupt\u001b[0m                         Traceback (most recent call last)",
      "\u001b[0;32m<ipython-input-63-2e2fd79014b1>\u001b[0m in \u001b[0;36m<module>\u001b[0;34m\u001b[0m\n\u001b[1;32m      1\u001b[0m \u001b[0mjob\u001b[0m \u001b[0;34m=\u001b[0m \u001b[0mexecute\u001b[0m\u001b[0;34m(\u001b[0m\u001b[0mtmp_circuit\u001b[0m\u001b[0;34m,\u001b[0m \u001b[0mbackend\u001b[0m\u001b[0;34m,\u001b[0m \u001b[0mshots\u001b[0m\u001b[0;34m=\u001b[0m\u001b[0;36m1\u001b[0m\u001b[0;34m)\u001b[0m\u001b[0;34m\u001b[0m\u001b[0;34m\u001b[0m\u001b[0m\n\u001b[1;32m      2\u001b[0m \u001b[0;34m\u001b[0m\u001b[0m\n\u001b[0;32m----> 3\u001b[0;31m \u001b[0mresult\u001b[0m \u001b[0;34m=\u001b[0m \u001b[0mjob\u001b[0m\u001b[0;34m.\u001b[0m\u001b[0mresult\u001b[0m\u001b[0;34m(\u001b[0m\u001b[0;34m)\u001b[0m\u001b[0;34m\u001b[0m\u001b[0;34m\u001b[0m\u001b[0m\n\u001b[0m\u001b[1;32m      4\u001b[0m \u001b[0moutcome\u001b[0m \u001b[0;34m=\u001b[0m \u001b[0mlist\u001b[0m\u001b[0;34m(\u001b[0m\u001b[0mmap\u001b[0m\u001b[0;34m(\u001b[0m\u001b[0mint\u001b[0m\u001b[0;34m,\u001b[0m \u001b[0mlist\u001b[0m\u001b[0;34m(\u001b[0m\u001b[0mlist\u001b[0m\u001b[0;34m(\u001b[0m\u001b[0mresult\u001b[0m\u001b[0;34m.\u001b[0m\u001b[0mget_counts\u001b[0m\u001b[0;34m(\u001b[0m\u001b[0mtmp_circuit\u001b[0m\u001b[0;34m)\u001b[0m\u001b[0;34m.\u001b[0m\u001b[0mkeys\u001b[0m\u001b[0;34m(\u001b[0m\u001b[0;34m)\u001b[0m\u001b[0;34m)\u001b[0m\u001b[0;34m[\u001b[0m\u001b[0;36m0\u001b[0m\u001b[0;34m]\u001b[0m\u001b[0;34m)\u001b[0m\u001b[0;34m)\u001b[0m\u001b[0;34m)\u001b[0m\u001b[0;34m\u001b[0m\u001b[0;34m\u001b[0m\u001b[0m\n",
      "\u001b[0;32m~/aur/miniconda3/lib/python3.8/site-packages/qiskit/providers/ibmq/job/ibmqjob.py\u001b[0m in \u001b[0;36mresult\u001b[0;34m(self, timeout, wait, partial, refresh)\u001b[0m\n\u001b[1;32m    263\u001b[0m         \"\"\"\n\u001b[1;32m    264\u001b[0m         \u001b[0;31m# pylint: disable=arguments-differ\u001b[0m\u001b[0;34m\u001b[0m\u001b[0;34m\u001b[0m\u001b[0;34m\u001b[0m\u001b[0m\n\u001b[0;32m--> 265\u001b[0;31m         if not self._wait_for_completion(timeout=timeout, wait=wait,\n\u001b[0m\u001b[1;32m    266\u001b[0m                                          required_status=(JobStatus.DONE,)):\n\u001b[1;32m    267\u001b[0m             \u001b[0;32mif\u001b[0m \u001b[0mself\u001b[0m\u001b[0;34m.\u001b[0m\u001b[0m_status\u001b[0m \u001b[0;32mis\u001b[0m \u001b[0mJobStatus\u001b[0m\u001b[0;34m.\u001b[0m\u001b[0mCANCELLED\u001b[0m\u001b[0;34m:\u001b[0m\u001b[0;34m\u001b[0m\u001b[0;34m\u001b[0m\u001b[0m\n",
      "\u001b[0;32m~/aur/miniconda3/lib/python3.8/site-packages/qiskit/providers/ibmq/job/ibmqjob.py\u001b[0m in \u001b[0;36m_wait_for_completion\u001b[0;34m(self, timeout, wait, required_status, status_queue)\u001b[0m\n\u001b[1;32m    814\u001b[0m \u001b[0;34m\u001b[0m\u001b[0m\n\u001b[1;32m    815\u001b[0m         \u001b[0;32mtry\u001b[0m\u001b[0;34m:\u001b[0m\u001b[0;34m\u001b[0m\u001b[0;34m\u001b[0m\u001b[0m\n\u001b[0;32m--> 816\u001b[0;31m             status_response = self._api.job_final_status(\n\u001b[0m\u001b[1;32m    817\u001b[0m                 self.job_id(), timeout=timeout, wait=wait, status_queue=status_queue)\n\u001b[1;32m    818\u001b[0m         \u001b[0;32mexcept\u001b[0m \u001b[0mUserTimeoutExceededError\u001b[0m\u001b[0;34m:\u001b[0m\u001b[0;34m\u001b[0m\u001b[0;34m\u001b[0m\u001b[0m\n",
      "\u001b[0;32m~/aur/miniconda3/lib/python3.8/site-packages/qiskit/providers/ibmq/api/clients/account.py\u001b[0m in \u001b[0;36mjob_final_status\u001b[0;34m(self, job_id, timeout, wait, status_queue)\u001b[0m\n\u001b[1;32m    330\u001b[0m             \u001b[0mstart_time\u001b[0m \u001b[0;34m=\u001b[0m \u001b[0mtime\u001b[0m\u001b[0;34m.\u001b[0m\u001b[0mtime\u001b[0m\u001b[0;34m(\u001b[0m\u001b[0;34m)\u001b[0m\u001b[0;34m\u001b[0m\u001b[0;34m\u001b[0m\u001b[0m\n\u001b[1;32m    331\u001b[0m             \u001b[0;32mtry\u001b[0m\u001b[0;34m:\u001b[0m\u001b[0;34m\u001b[0m\u001b[0;34m\u001b[0m\u001b[0m\n\u001b[0;32m--> 332\u001b[0;31m                 status_response = self._job_final_status_websocket(\n\u001b[0m\u001b[1;32m    333\u001b[0m                     job_id=job_id, timeout=timeout, status_queue=status_queue)\n\u001b[1;32m    334\u001b[0m             \u001b[0;32mexcept\u001b[0m \u001b[0mWebsocketTimeoutError\u001b[0m \u001b[0;32mas\u001b[0m \u001b[0mex\u001b[0m\u001b[0;34m:\u001b[0m\u001b[0;34m\u001b[0m\u001b[0;34m\u001b[0m\u001b[0m\n",
      "\u001b[0;32m~/aur/miniconda3/lib/python3.8/site-packages/qiskit/providers/ibmq/api/clients/account.py\u001b[0m in \u001b[0;36m_job_final_status_websocket\u001b[0;34m(self, job_id, timeout, status_queue)\u001b[0m\n\u001b[1;32m    382\u001b[0m             \u001b[0;32melse\u001b[0m\u001b[0;34m:\u001b[0m\u001b[0;34m\u001b[0m\u001b[0;34m\u001b[0m\u001b[0m\n\u001b[1;32m    383\u001b[0m                 \u001b[0;32mraise\u001b[0m\u001b[0;34m\u001b[0m\u001b[0;34m\u001b[0m\u001b[0m\n\u001b[0;32m--> 384\u001b[0;31m         return loop.run_until_complete(\n\u001b[0m\u001b[1;32m    385\u001b[0m             self.client_ws.get_job_status(job_id, timeout=timeout, status_queue=status_queue))\n\u001b[1;32m    386\u001b[0m \u001b[0;34m\u001b[0m\u001b[0m\n",
      "\u001b[0;32m~/aur/miniconda3/lib/python3.8/site-packages/nest_asyncio.py\u001b[0m in \u001b[0;36mrun_until_complete\u001b[0;34m(self, future)\u001b[0m\n\u001b[1;32m     87\u001b[0m                 \u001b[0mf\u001b[0m\u001b[0;34m.\u001b[0m\u001b[0m_log_destroy_pending\u001b[0m \u001b[0;34m=\u001b[0m \u001b[0;32mFalse\u001b[0m\u001b[0;34m\u001b[0m\u001b[0;34m\u001b[0m\u001b[0m\n\u001b[1;32m     88\u001b[0m             \u001b[0;32mwhile\u001b[0m \u001b[0;32mnot\u001b[0m \u001b[0mf\u001b[0m\u001b[0;34m.\u001b[0m\u001b[0mdone\u001b[0m\u001b[0;34m(\u001b[0m\u001b[0;34m)\u001b[0m\u001b[0;34m:\u001b[0m\u001b[0;34m\u001b[0m\u001b[0;34m\u001b[0m\u001b[0m\n\u001b[0;32m---> 89\u001b[0;31m                 \u001b[0mself\u001b[0m\u001b[0;34m.\u001b[0m\u001b[0m_run_once\u001b[0m\u001b[0;34m(\u001b[0m\u001b[0;34m)\u001b[0m\u001b[0;34m\u001b[0m\u001b[0;34m\u001b[0m\u001b[0m\n\u001b[0m\u001b[1;32m     90\u001b[0m                 \u001b[0;32mif\u001b[0m \u001b[0mself\u001b[0m\u001b[0;34m.\u001b[0m\u001b[0m_stopping\u001b[0m\u001b[0;34m:\u001b[0m\u001b[0;34m\u001b[0m\u001b[0;34m\u001b[0m\u001b[0m\n\u001b[1;32m     91\u001b[0m                     \u001b[0;32mbreak\u001b[0m\u001b[0;34m\u001b[0m\u001b[0;34m\u001b[0m\u001b[0m\n",
      "\u001b[0;32m~/aur/miniconda3/lib/python3.8/site-packages/nest_asyncio.py\u001b[0m in \u001b[0;36m_run_once\u001b[0;34m(self)\u001b[0m\n\u001b[1;32m    111\u001b[0m             \u001b[0;32melse\u001b[0m \u001b[0mmin\u001b[0m\u001b[0;34m(\u001b[0m\u001b[0mmax\u001b[0m\u001b[0;34m(\u001b[0m\u001b[0;36m0\u001b[0m\u001b[0;34m,\u001b[0m \u001b[0mscheduled\u001b[0m\u001b[0;34m[\u001b[0m\u001b[0;36m0\u001b[0m\u001b[0;34m]\u001b[0m\u001b[0;34m.\u001b[0m\u001b[0m_when\u001b[0m \u001b[0;34m-\u001b[0m \u001b[0mnow\u001b[0m\u001b[0;34m)\u001b[0m\u001b[0;34m,\u001b[0m \u001b[0;36m10\u001b[0m\u001b[0;34m)\u001b[0m \u001b[0;32mif\u001b[0m \u001b[0mscheduled\u001b[0m\u001b[0;31m \u001b[0m\u001b[0;31m\\\u001b[0m\u001b[0;34m\u001b[0m\u001b[0;34m\u001b[0m\u001b[0m\n\u001b[1;32m    112\u001b[0m             \u001b[0;32melse\u001b[0m \u001b[0;32mNone\u001b[0m\u001b[0;34m\u001b[0m\u001b[0;34m\u001b[0m\u001b[0m\n\u001b[0;32m--> 113\u001b[0;31m         \u001b[0mevent_list\u001b[0m \u001b[0;34m=\u001b[0m \u001b[0mself\u001b[0m\u001b[0;34m.\u001b[0m\u001b[0m_selector\u001b[0m\u001b[0;34m.\u001b[0m\u001b[0mselect\u001b[0m\u001b[0;34m(\u001b[0m\u001b[0mtimeout\u001b[0m\u001b[0;34m)\u001b[0m\u001b[0;34m\u001b[0m\u001b[0;34m\u001b[0m\u001b[0m\n\u001b[0m\u001b[1;32m    114\u001b[0m         \u001b[0mself\u001b[0m\u001b[0;34m.\u001b[0m\u001b[0m_process_events\u001b[0m\u001b[0;34m(\u001b[0m\u001b[0mevent_list\u001b[0m\u001b[0;34m)\u001b[0m\u001b[0;34m\u001b[0m\u001b[0;34m\u001b[0m\u001b[0m\n\u001b[1;32m    115\u001b[0m \u001b[0;34m\u001b[0m\u001b[0m\n",
      "\u001b[0;32m~/aur/miniconda3/lib/python3.8/selectors.py\u001b[0m in \u001b[0;36mselect\u001b[0;34m(self, timeout)\u001b[0m\n\u001b[1;32m    466\u001b[0m             \u001b[0mready\u001b[0m \u001b[0;34m=\u001b[0m \u001b[0;34m[\u001b[0m\u001b[0;34m]\u001b[0m\u001b[0;34m\u001b[0m\u001b[0;34m\u001b[0m\u001b[0m\n\u001b[1;32m    467\u001b[0m             \u001b[0;32mtry\u001b[0m\u001b[0;34m:\u001b[0m\u001b[0;34m\u001b[0m\u001b[0;34m\u001b[0m\u001b[0m\n\u001b[0;32m--> 468\u001b[0;31m                 \u001b[0mfd_event_list\u001b[0m \u001b[0;34m=\u001b[0m \u001b[0mself\u001b[0m\u001b[0;34m.\u001b[0m\u001b[0m_selector\u001b[0m\u001b[0;34m.\u001b[0m\u001b[0mpoll\u001b[0m\u001b[0;34m(\u001b[0m\u001b[0mtimeout\u001b[0m\u001b[0;34m,\u001b[0m \u001b[0mmax_ev\u001b[0m\u001b[0;34m)\u001b[0m\u001b[0;34m\u001b[0m\u001b[0;34m\u001b[0m\u001b[0m\n\u001b[0m\u001b[1;32m    469\u001b[0m             \u001b[0;32mexcept\u001b[0m \u001b[0mInterruptedError\u001b[0m\u001b[0;34m:\u001b[0m\u001b[0;34m\u001b[0m\u001b[0;34m\u001b[0m\u001b[0m\n\u001b[1;32m    470\u001b[0m                 \u001b[0;32mreturn\u001b[0m \u001b[0mready\u001b[0m\u001b[0;34m\u001b[0m\u001b[0;34m\u001b[0m\u001b[0m\n",
      "\u001b[0;31mKeyboardInterrupt\u001b[0m: "
     ]
    }
   ],
   "source": [
    "job = execute(tmp_circuit, backend, shots=1)\n",
    "\n",
    "result = job.result()\n",
    "outcome = list(map(int, list(list(result.get_counts(tmp_circuit).keys())[0]))) "
   ]
  },
  {
   "cell_type": "code",
   "execution_count": 70,
   "metadata": {},
   "outputs": [
    {
     "data": {
      "text/plain": [
       "array([5.67384751, 0.53825995])"
      ]
     },
     "execution_count": 70,
     "metadata": {},
     "output_type": "execute_result"
    }
   ],
   "source": []
  },
  {
   "cell_type": "code",
   "execution_count": null,
   "metadata": {},
   "outputs": [],
   "source": [
    "dist.measure(outcome, u2_gates)"
   ]
  },
  {
   "cell_type": "code",
   "execution_count": null,
   "metadata": {},
   "outputs": [],
   "source": [
    "sbs.scatterplot(dist.points[:,0],\n",
    "                dist.points[:,1],\n",
    "                size=dist.weights,\n",
    "                sizes=(20, 200),\n",
    "                hue=dist.weights)"
   ]
  },
  {
   "cell_type": "code",
   "execution_count": 309,
   "metadata": {
    "scrolled": true
   },
   "outputs": [
    {
     "name": "stdout",
     "output_type": "stream",
     "text": [
      "[0.46183724 5.03975014]\n",
      "None\n",
      "6.34452856117738 [-4.08866099e-01 -2.41018143e-16]\n",
      "[0.4204554  5.89140439]\n",
      "[ 1.15798069e+00 -2.21827764e-16]\n",
      "6.124971497166325 [-4.36088992e-01 -2.59747735e-16]\n",
      "[0.92342175 1.41951884]\n",
      "[ 1.13501661e+00 -1.85940673e-16]\n",
      "6.068197780511663 [2.3911659  3.09774842]\n",
      "[3.84512264 3.48088959]\n",
      "[0.84718803 3.09905729]\n",
      "5.8772797662532925 [2.32089107 3.08398726]\n",
      "[3.92463148 2.51272072]\n",
      "[0.84237576 3.11928032]\n",
      "5.779826980159813 [2.27039703 3.09360227]\n",
      "[3.83489054 1.67905587]\n",
      "[0.82460335 3.13769681]\n",
      "6.0933569456470735 [2.5049924  3.09279491]\n",
      "[4.05418793 6.05976847]\n",
      "[2.5049924  3.09279491]\n",
      "6.17033247860327 [2.60384569 3.09020449]\n",
      "[3.65340102 0.42163909]\n",
      "[2.60384569 3.09020449]\n",
      "6.300351710588354 [2.67692458 3.10252362]\n",
      "[3.6434718 0.5189042]\n",
      "[2.67692458 3.10252362]\n",
      "6.4186315410092005 [2.75671586 3.11057694]\n",
      "[3.54049427 5.7324578 ]\n",
      "[2.75671586 3.11057694]\n",
      "6.526104492924583 [2.82866165 3.11561142]\n",
      "[3.21259205 2.19686481]\n",
      "[2.82866165 3.11561142]\n",
      "6.621215309959103 [2.85600782 3.11766526]\n",
      "[3.26307173 0.85218379]\n",
      "[2.85600782 3.11766526]\n",
      "6.692166652431338 [2.88717996 3.12008707]\n",
      "[3.27277006 2.18720065]\n",
      "[2.88717996 3.12008707]\n",
      "6.251918046584931 [3.15269132 3.08249196]\n",
      "[3.08173335 4.34692871]\n",
      "[3.15269132 3.08249196]\n",
      "6.300417218780054 [3.13502321 3.08694742]\n",
      "[3.0907569  3.66195519]\n",
      "[3.13502321 3.08694742]\n",
      "5.933347956450678 [3.26332106 3.05728538]\n",
      "[2.76018959 4.92353923]\n",
      "[1.77325368 3.09055243]\n"
     ]
    },
    {
     "name": "stderr",
     "output_type": "stream",
     "text": [
      "Future exception was never retrieved\n",
      "future: <Future finished exception=ConnectionClosed('WebSocket connection is closed: code = 4002 (private use), no reason')>\n",
      "websockets.exceptions.ConnectionClosed: WebSocket connection is closed: code = 4002 (private use), no reason\n"
     ]
    },
    {
     "name": "stdout",
     "output_type": "stream",
     "text": [
      "5.978267770027677 [3.18179975 3.0593135 ]\n",
      "[3.3352457  1.18931674]\n",
      "[1.70084195 3.1094788 ]\n",
      "6.0242496766625795 [3.23481607 3.06948821]\n",
      "[2.84080388 4.20023676]\n",
      "[1.77163739 3.11279287]\n",
      "5.756988841396412 [3.47767275 3.0551491 ]\n",
      "[2.56690787 3.26151114]\n",
      "[1.98473995 3.05273962]\n",
      "5.5763944493483555 [3.2133179  3.02475889]\n",
      "[2.21709692 5.92114064]\n",
      "[3.2133179  3.02475889]\n",
      "5.570606023962096 [3.13650742 3.02389119]\n",
      "[3.49688205 5.05051689]\n",
      "[3.13650742 3.02389119]\n",
      "5.507865912162647 [2.96530715 2.99355601]\n",
      "[3.27286296 4.83298664]\n",
      "[4.42414902 2.89139071]\n",
      "5.510901921407505 [2.95490864 3.00724108]\n",
      "[3.73678031 3.14833539]\n",
      "[4.39337911 2.88784914]\n",
      "5.544979048841995 [3.00725069 3.00818314]\n",
      "[3.448485   3.93484085]\n",
      "[4.44866576 2.89255411]\n",
      "5.566769275375932 [3.02822682 3.02193553]\n",
      "[3.46382231 3.62140311]\n",
      "[4.45490177 2.89154317]\n",
      "5.584705758020589 [3.05336398 3.03369559]\n",
      "[3.03623038 5.91320287]\n",
      "[3.05336398 3.03369559]\n",
      "5.536217533524094 [3.00247498 3.04036475]\n",
      "[3.87552286 3.42808257]\n",
      "[3.00247498 3.04036475]\n",
      "5.575802889086114 [3.08056256 3.03636974]\n",
      "[3.61285495 5.69118656]\n",
      "[3.08056256 3.03636974]\n",
      "5.5924674928987965 [3.13189613 3.04273547]\n",
      "[2.74252329 0.64425891]\n",
      "[3.13189613 3.04273547]\n",
      "5.526220418267906 [3.04243757 3.04392146]\n",
      "[3.06095186 0.4525518 ]\n",
      "[3.04243757 3.04392146]\n",
      "5.670916089130063 [3.19899656 3.02163172]\n",
      "[2.14548555 4.16550954]\n",
      "[4.71805547 2.92318755]\n",
      "5.66262885525172 [3.16022835 3.01765296]\n",
      "[2.67312506 1.1050271 ]\n",
      "[4.67142598 2.91985703]\n",
      "5.623656152785524 [3.09387839 3.01480275]\n",
      "[3.8521815  4.55627732]\n",
      "[4.59085272 2.91125238]\n",
      "5.475809157769416 [2.88213789 3.01201189]\n",
      "[3.35216756 0.95169912]\n",
      "[4.33389985 2.88307741]\n",
      "5.524350461213889 [2.7816406  3.01587211]\n",
      "[3.31386334 0.70393088]\n",
      "[2.7816406  3.01587211]\n",
      "5.568762335480789 [2.77088206 3.00945181]\n",
      "[3.53817929 2.99972392]\n",
      "[2.77088206 3.00945181]\n",
      "5.631140219421458 [2.7911205  2.99109576]\n",
      "[3.50701117 4.08895022]\n",
      "[2.7911205  2.99109576]\n",
      "5.69196060337432 [2.81410263 2.9735151 ]\n",
      "[3.7207008  3.93217457]\n",
      "[2.81410263 2.9735151 ]\n",
      "5.38149817936235 [2.58971693 3.06209954]\n",
      "[3.78541193 0.64050627]\n",
      "[3.93728803 2.80606261]\n",
      "5.284763464023669 [2.57525746 3.10124369]\n",
      "[3.87991108 3.51087918]\n",
      "[3.94111772 2.81604442]\n",
      "5.300638807240859 [2.57525428 3.09205731]\n",
      "[3.66849091 3.69813761]\n",
      "[3.94369792 2.82079166]\n",
      "5.320127666636552 [2.55193341 3.08211779]\n",
      "[3.63163464 3.30822634]\n",
      "[3.91457686 2.81792988]\n",
      "5.337365743427791 [2.52745442 3.07268319]\n",
      "[3.7985138  1.12552745]\n",
      "[3.88198982 2.81515729]\n",
      "5.276902372820465 [2.53647674 3.10558697]\n",
      "[4.22919863 2.48709619]\n",
      "[3.89861077 2.82120199]\n",
      "5.236003470177978 [2.45847958 3.12307462]\n",
      "[3.97691491 2.8867711 ]\n",
      "[3.80554452 2.82700129]\n",
      "5.225256797302723 [2.75340769 2.95867437]\n",
      "[3.19483965 4.03837323]\n",
      "[2.75340769 2.95867437]\n"
     ]
    },
    {
     "name": "stderr",
     "output_type": "stream",
     "text": [
      "Future exception was never retrieved\n",
      "future: <Future finished exception=ConnectionClosed('WebSocket connection is closed: code = 4002 (private use), no reason')>\n",
      "websockets.exceptions.ConnectionClosed: WebSocket connection is closed: code = 4002 (private use), no reason\n"
     ]
    },
    {
     "name": "stdout",
     "output_type": "stream",
     "text": [
      "5.263252550796263 [2.76203715 2.94667951]\n",
      "[3.45448957 2.39553213]\n",
      "[2.76203715 2.94667951]\n"
     ]
    },
    {
     "name": "stderr",
     "output_type": "stream",
     "text": [
      "Future exception was never retrieved\n",
      "future: <Future finished exception=ConnectionClosed('WebSocket connection is closed: code = 4002 (private use), no reason')>\n",
      "websockets.exceptions.ConnectionClosed: WebSocket connection is closed: code = 4002 (private use), no reason\n"
     ]
    },
    {
     "name": "stdout",
     "output_type": "stream",
     "text": [
      "5.309620644963955 [2.79221408 2.94256015]\n",
      "[2.92984076 2.33327363]\n",
      "[2.79221408 2.94256015]\n",
      "5.322281434834324 [2.77675534 2.93549562]\n",
      "[3.54048327 3.39601529]\n",
      "[2.77675534 2.93549562]\n",
      "5.015419233272502 [2.54280343 2.93122088]\n",
      "[3.63990547 3.04575207]\n",
      "[3.85495871 2.77936654]\n",
      "5.04980740553545 [2.52497715 2.93049006]\n",
      "[3.8105696  0.46242272]\n",
      "[3.81209357 2.78440662]\n",
      "5.086813122974365 [2.5233642  2.93333377]\n",
      "[3.84294746 4.23598462]\n",
      "[3.79179949 2.78406092]\n",
      "4.992233263912744 [2.50566678 2.92192032]\n",
      "[3.43635333 0.42009624]\n",
      "[3.82123497 2.78567309]\n",
      "5.009632913189106 [2.4801684  2.91377759]\n",
      "[3.74230476 1.20105164]\n",
      "[3.7734153  2.78927383]\n",
      "5.034433385911557 [2.45956733 2.91246223]\n",
      "[3.52268669 4.0466687 ]\n",
      "[3.73924593 2.7895647 ]\n",
      "5.054069311542704 [2.43834969 2.90675824]\n",
      "[3.60172016 4.75073074]\n",
      "[3.69870803 2.79213566]\n",
      "5.074621271814491 [2.42074442 2.90323084]\n",
      "[3.82792038 2.05260262]\n",
      "[3.66453301 2.79372803]\n",
      "5.0108266379973445 [2.43811287 2.90355902]\n",
      "[4.06682144 0.84444601]\n",
      "[3.7204986  2.79831537]\n",
      "5.001580303135956 [2.44215901 2.90171728]\n",
      "[3.85028059 3.05393014]\n",
      "[3.7227718  2.80893179]\n",
      "4.969487361444579 [2.48383353 2.90720706]\n",
      "[3.83157337 2.90554339]\n",
      "[3.77058201 2.80974942]\n",
      "4.988259594053002 [2.46219879 2.90485682]\n",
      "[3.69413689 5.10635334]\n",
      "[3.74695985 2.81136471]\n",
      "5.003156322935666 [2.4391357 2.9017688]\n",
      "[4.01076404 5.92419101]\n",
      "[3.72057673 2.81235186]\n",
      "5.009648057009988 [2.42311256 2.89932775]\n",
      "[3.7804116  4.22709554]\n",
      "[3.70755184 2.80921829]\n",
      "5.021687125598817 [2.39994506 2.89556563]\n",
      "[3.79778041 1.82155089]\n",
      "[3.68084826 2.80828562]\n",
      "4.9971771979705135 [2.44916651 2.90415679]\n",
      "[3.73805452 0.84664042]\n",
      "[3.73820872 2.81246547]\n",
      "5.0112114691667475 [2.42591699 2.90087469]\n",
      "[3.99858626 2.71400654]\n",
      "[3.71233601 2.81293457]\n",
      "5.016776857171509 [2.40897188 2.89814694]\n",
      "[3.44792129 4.80491861]\n",
      "[3.698825   2.80926087]\n",
      "4.9760667529219855 [2.49722224 2.91777637]\n",
      "[3.65818227 5.26589497]\n",
      "[3.81091296 2.80836233]\n"
     ]
    },
    {
     "name": "stderr",
     "output_type": "stream",
     "text": [
      "Future exception was never retrieved\n",
      "future: <Future finished exception=ConnectionClosed('WebSocket connection is closed: code = 4002 (private use), no reason')>\n",
      "websockets.exceptions.ConnectionClosed: WebSocket connection is closed: code = 4002 (private use), no reason\n"
     ]
    },
    {
     "name": "stdout",
     "output_type": "stream",
     "text": [
      "4.992842631413521 [2.47398576 2.91536635]\n",
      "[3.72760733 4.52916952]\n",
      "[3.78206801 2.81181422]\n",
      "5.008253713691975 [2.45170624 2.91265622]\n",
      "[3.85530132 2.36706666]\n",
      "[3.75688435 2.81301485]\n",
      "5.021949764728756 [2.4320297  2.91117461]\n",
      "[3.43574408 5.99677147]\n",
      "[3.73900114 2.81247975]\n",
      "5.0285973357342595 [2.41002384 2.9043381 ]\n",
      "[4.33697352 4.64421584]\n",
      "[3.70925153 2.81354917]\n"
     ]
    },
    {
     "name": "stderr",
     "output_type": "stream",
     "text": [
      "Future exception was never retrieved\n",
      "future: <Future finished exception=ConnectionClosed('WebSocket connection is closed: code = 4002 (private use), no reason')>\n",
      "websockets.exceptions.ConnectionClosed: WebSocket connection is closed: code = 4002 (private use), no reason\n"
     ]
    },
    {
     "name": "stdout",
     "output_type": "stream",
     "text": [
      "5.016448983953182 [2.43660522 2.91156747]\n",
      "[3.54973392 5.39391296]\n",
      "[3.74139839 2.81042685]\n",
      "4.979637378660271 [2.51010552 2.92995456]\n",
      "[3.52336181 1.5631347 ]\n",
      "[3.84002812 2.8074003 ]\n",
      "4.993867421253375 [2.48868059 2.92411196]\n",
      "[3.63603099 2.95904794]\n",
      "[3.8051971  2.81118677]\n",
      "4.953951278597852 [2.54253797 2.93169888]\n",
      "[3.79262584 2.40845857]\n",
      "[3.87465346 2.80418032]\n",
      "4.920365599277202 [2.56782681 2.92950299]\n",
      "[3.7775585  4.80448655]\n",
      "[3.8998548  2.80086466]\n",
      "4.93931415575439 [2.55537221 2.93086073]\n",
      "[3.74450492 5.38156736]\n",
      "[3.88498366 2.80438803]\n"
     ]
    },
    {
     "name": "stderr",
     "output_type": "stream",
     "text": [
      "Future exception was never retrieved\n",
      "future: <Future finished exception=ConnectionClosed('WebSocket connection is closed: code = 4002 (private use), no reason')>\n",
      "websockets.exceptions.ConnectionClosed: WebSocket connection is closed: code = 4002 (private use), no reason\n"
     ]
    },
    {
     "name": "stdout",
     "output_type": "stream",
     "text": [
      "4.958656091782269 [2.54016351 2.93188821]\n",
      "[3.5851252  2.87740946]\n",
      "[3.86651518 2.80823204]\n",
      "4.91581849622484 [2.58378193 2.9367462 ]\n",
      "[3.6537989  5.14379182]\n",
      "[3.93681068 2.79460199]\n",
      "4.881112493276052 [2.61301071 2.93377578]\n",
      "[3.73678874 1.94461245]\n",
      "[3.98452096 2.78047473]\n",
      "4.854377144573889 [2.62925434 2.92753382]\n",
      "[3.85124098 0.57912265]\n",
      "[4.00582375 2.77201742]\n",
      "4.784801675935296 [2.60065307 2.80649692]\n",
      "[3.63797895 3.47468573]\n",
      "[3.92927345 2.65877076]\n",
      "4.804470180590419 [2.58921372 2.81141096]\n",
      "[3.67347909 1.28927051]\n",
      "[3.89276721 2.67619099]\n"
     ]
    },
    {
     "name": "stderr",
     "output_type": "stream",
     "text": [
      "Future exception was never retrieved\n",
      "future: <Future finished exception=ConnectionClosed('WebSocket connection is closed: code = 4002 (private use), no reason')>\n",
      "websockets.exceptions.ConnectionClosed: WebSocket connection is closed: code = 4002 (private use), no reason\n"
     ]
    },
    {
     "name": "stdout",
     "output_type": "stream",
     "text": [
      "4.750232060090988 [2.60780849 2.79990054]\n",
      "[3.68001323 1.07639508]\n",
      "[3.96919133 2.63557563]\n",
      "4.762254476729718 [2.59210705 2.80429055]\n",
      "[3.82595814 1.37268902]\n",
      "[3.94260606 2.64893305]\n",
      "4.778731524446817 [2.57941705 2.80902729]\n",
      "[3.85169936 0.93184832]\n",
      "[3.93407512 2.66016687]\n",
      "4.7952791548122695 [2.57059794 2.81424521]\n",
      "[3.97590431 2.04982738]\n",
      "[3.93022402 2.67265816]\n",
      "4.812453223216189 [2.5759746  2.82225875]\n",
      "[3.94162753 3.83457117]\n",
      "None\n",
      "4.771194201113847 [2.56011284 2.80762429]\n",
      "[3.58486079 3.87699119]\n",
      "[3.91330032 2.65402786]\n",
      "4.773047619964215 [2.53938624 2.81090399]\n",
      "[4.00870503 4.08439225]\n",
      "[3.87055646 2.66696846]\n",
      "4.750119897627 [2.53448955 2.79813268]\n",
      "[3.79716803 5.8295359 ]\n",
      "[3.84391972 2.65186332]\n",
      "4.738713214335039 [2.57260334 2.78921161]\n",
      "[3.78485257 1.93549286]\n",
      "[3.88473973 2.63482289]\n",
      "4.726388282361043 [2.60804202 2.782396  ]\n",
      "[3.71241698 3.49360887]\n",
      "[3.91745751 2.6224547 ]\n",
      "4.734833826623718 [2.5891044 2.785205 ]\n",
      "[3.39049363 6.11584487]\n",
      "[3.89653031 2.62919016]\n",
      "4.733350123784551 [2.5732931 2.7861578]\n",
      "[3.62095876 1.73368884]\n",
      "[3.87090942 2.63452127]\n",
      "4.7259053218264695 [2.61720186 2.77910023]\n",
      "[3.5673827  1.73317691]\n",
      "[3.9243768  2.61761151]\n",
      "4.7310846270239555 [2.60184282 2.78073692]\n",
      "[3.92832516 4.17890627]\n",
      "[3.90125903 2.62476695]\n",
      "4.73828383251017 [2.62168334 2.77491404]\n",
      "[3.37344766 0.59229404]\n",
      "[3.903008   2.62116025]\n",
      "4.826122450894012 [2.75627676 2.71172746]\n",
      "[3.56319233 1.33777575]\n",
      "[2.75627676 2.71172746]\n",
      "4.856023684921279 [2.7692329  2.72032826]\n",
      "[3.88532777 0.66135397]\n",
      "[2.7692329  2.72032826]\n"
     ]
    },
    {
     "name": "stderr",
     "output_type": "stream",
     "text": [
      "Future exception was never retrieved\n",
      "future: <Future finished exception=ConnectionClosed('WebSocket connection is closed: code = 4002 (private use), no reason')>\n",
      "websockets.exceptions.ConnectionClosed: WebSocket connection is closed: code = 4002 (private use), no reason\n"
     ]
    },
    {
     "name": "stdout",
     "output_type": "stream",
     "text": [
      "4.752394638698194 [2.65690354 2.70889952]\n",
      "[3.74709921 5.37056043]\n",
      "[3.78818764 2.66366443]\n"
     ]
    },
    {
     "name": "stderr",
     "output_type": "stream",
     "text": [
      "Future exception was never retrieved\n",
      "future: <Future finished exception=ConnectionClosed('WebSocket connection is closed: code = 4002 (private use), no reason')>\n",
      "websockets.exceptions.ConnectionClosed: WebSocket connection is closed: code = 4002 (private use), no reason\n"
     ]
    },
    {
     "name": "stdout",
     "output_type": "stream",
     "text": [
      "4.775836581247807 [2.65272038 2.72065129]\n",
      "[3.69013826 4.30003093]\n",
      "[3.75398509 2.67821316]\n",
      "4.702582216788338 [2.65237962 2.68868691]\n",
      "[3.9967033  5.96764994]\n",
      "[3.8541939 2.6365599]\n",
      "4.688213179317767 [2.64199995 2.68080657]\n",
      "[3.88366766 4.47170079]\n",
      "[3.85090779 2.63332995]\n",
      "4.6787838396725165 [2.66150729 2.67270792]\n",
      "[3.6472199  5.37875539]\n",
      "[3.87993385 2.62751744]\n",
      "4.674018676727742 [2.70738612 2.65933893]\n",
      "[3.66443222 4.53372504]\n",
      "[3.93831222 2.604921  ]\n",
      "4.599065248319411 [2.80205319 2.62521888]\n",
      "[3.59422623 5.4954249 ]\n",
      "[2.80205319 2.62521888]\n",
      "4.654735451624688 [2.78270861 2.67530455]\n",
      "[4.07183837 3.28450751]\n",
      "[3.96793808 2.6151271 ]\n",
      "4.678046363094119 [2.79894686 2.665066  ]\n",
      "[4.24338592 5.40132703]\n",
      "None\n",
      "4.596582386106988 [2.72643253 2.6899623 ]\n",
      "[3.50312048 2.81133063]\n",
      "[3.84000359 2.63693275]\n",
      "4.563742826322513 [2.69950276 2.68244966]\n",
      "[3.31685317 4.45686086]\n",
      "[3.78528614 2.63539165]\n",
      "4.537581930538317 [2.67721682 2.67856979]\n",
      "[3.57659058 1.56556201]\n",
      "[3.73937786 2.6373918 ]\n"
     ]
    },
    {
     "name": "stderr",
     "output_type": "stream",
     "text": [
      "Future exception was never retrieved\n",
      "future: <Future finished exception=ConnectionClosed('WebSocket connection is closed: code = 4002 (private use), no reason')>\n",
      "websockets.exceptions.ConnectionClosed: WebSocket connection is closed: code = 4002 (private use), no reason\n"
     ]
    },
    {
     "name": "stdout",
     "output_type": "stream",
     "text": [
      "4.518207421899292 [2.65536411 2.66938974]\n",
      "[3.79931225 3.49137493]\n",
      "[3.69436479 2.63963158]\n",
      "4.5167452519864035 [2.64188987 2.66063915]\n",
      "[3.51595986 4.80957009]\n",
      "[3.65983383 2.64835566]\n",
      "4.504859542221165 [2.6267115  2.65421522]\n",
      "[3.53813063 3.93192476]\n",
      "[3.62288259 2.65358226]\n",
      "4.4996777911542205 [2.6157259  2.64792679]\n",
      "[3.85988534 0.66570122]\n",
      "[3.59196835 2.65893981]\n"
     ]
    },
    {
     "name": "stderr",
     "output_type": "stream",
     "text": [
      "Future exception was never retrieved\n",
      "future: <Future finished exception=ConnectionClosed('WebSocket connection is closed: code = 4002 (private use), no reason')>\n",
      "websockets.exceptions.ConnectionClosed: WebSocket connection is closed: code = 4002 (private use), no reason\n"
     ]
    },
    {
     "name": "stdout",
     "output_type": "stream",
     "text": [
      "4.511742972552412 [2.6145536  2.63970172]\n",
      "[3.68746399 1.7331353 ]\n",
      "[3.569232   2.66562668]\n",
      "4.48055724392742 [2.62147804 2.66917619]\n",
      "[3.6401545  2.23228578]\n",
      "[3.6592915  2.65406498]\n"
     ]
    },
    {
     "name": "stderr",
     "output_type": "stream",
     "text": [
      "Future exception was never retrieved\n",
      "future: <Future finished exception=ConnectionClosed('WebSocket connection is closed: code = 4002 (private use), no reason')>\n",
      "websockets.exceptions.ConnectionClosed: WebSocket connection is closed: code = 4002 (private use), no reason\n"
     ]
    },
    {
     "name": "stdout",
     "output_type": "stream",
     "text": [
      "4.514875275645781 [2.67816065 2.68889213]\n",
      "[3.21922497 0.69285372]\n",
      "[3.77393975 2.62633941]\n"
     ]
    },
    {
     "name": "stderr",
     "output_type": "stream",
     "text": [
      "Future exception was never retrieved\n",
      "future: <Future finished exception=ConnectionClosed('WebSocket connection is closed: code = 4002 (private use), no reason')>\n",
      "websockets.exceptions.ConnectionClosed: WebSocket connection is closed: code = 4002 (private use), no reason\n"
     ]
    },
    {
     "name": "stdout",
     "output_type": "stream",
     "text": [
      "4.4928000464218245 [2.65929206 2.68686559]\n",
      "[3.8090421  1.99395173]\n",
      "[3.74045023 2.62914906]\n",
      "4.51262475967115 [2.697587   2.69767601]\n",
      "[3.64538517 0.79483495]\n",
      "[3.80407644 2.60409651]\n",
      "4.491115401405527 [2.67407104 2.68981199]\n",
      "[3.44702694 1.75391003]\n",
      "[3.76801051 2.60556472]\n",
      "4.469686210152956 [2.65430252 2.68559841]\n",
      "[3.5902705  3.97924383]\n",
      "[3.73591414 2.60961511]\n",
      "4.450998636778599 [2.63412082 2.68065093]\n",
      "[3.77231693 2.48773759]\n",
      "[3.70417234 2.61695195]\n",
      "4.438145665060862 [2.61559146 2.6771174 ]\n",
      "[3.61281744 3.93732245]\n",
      "[3.67470869 2.63118323]\n"
     ]
    },
    {
     "name": "stderr",
     "output_type": "stream",
     "text": [
      "Future exception was never retrieved\n",
      "future: <Future finished exception=ConnectionClosed('WebSocket connection is closed: code = 4002 (private use), no reason')>\n",
      "websockets.exceptions.ConnectionClosed: WebSocket connection is closed: code = 4002 (private use), no reason\n"
     ]
    },
    {
     "name": "stdout",
     "output_type": "stream",
     "text": [
      "4.423539989020265 [2.59832575 2.67383237]\n",
      "[3.7302613  5.63577124]\n",
      "[3.64701453 2.64254356]\n",
      "4.412702296428071 [2.58251427 2.67116908]\n",
      "[3.36992625 2.13089009]\n",
      "[3.62110923 2.6569533 ]\n",
      "4.514171868721324 [2.70838269 2.6414503 ]\n",
      "[3.58446128 0.72532346]\n",
      "[2.70838269 2.6414503 ]\n",
      "4.532629081029667 [2.73170668 2.6451393 ]\n",
      "[3.44267826 0.6517242 ]\n",
      "[2.73170668 2.6451393 ]\n",
      "4.543617973738652 [2.74820301 2.64798624]\n",
      "[3.87103378 0.94123055]\n",
      "[2.74820301 2.64798624]\n",
      "4.544611865063036 [2.79722473 2.65209513]\n",
      "[3.32462502 1.03165676]\n",
      "[2.79722473 2.65209513]\n",
      "4.54700817399043 [2.8081442  2.65494266]\n",
      "[3.54753824 1.42578244]\n",
      "[2.8081442  2.65494266]\n",
      "4.543047026238363 [2.8356341  2.65889091]\n",
      "[2.97771906 0.50337276]\n",
      "[2.8356341  2.65889091]\n",
      "4.334841976403163 [3.15322703 2.62858455]\n",
      "[3.30782569 0.86325568]\n",
      "[3.15322703 2.62858455]\n",
      "4.354479688229111 [2.95594597 2.67308087]\n",
      "[3.18690361 4.17364393]\n",
      "[2.95594597 2.67308087]\n",
      "4.465632008924129 [2.83877162 2.56828644]\n",
      "[3.55208566 3.65242664]\n",
      "[1.83595203 2.61020737]\n"
     ]
    },
    {
     "name": "stderr",
     "output_type": "stream",
     "text": [
      "Future exception was never retrieved\n",
      "future: <Future finished exception=ConnectionClosed('WebSocket connection is closed: code = 4002 (private use), no reason')>\n",
      "websockets.exceptions.ConnectionClosed: WebSocket connection is closed: code = 4002 (private use), no reason\n"
     ]
    },
    {
     "name": "stdout",
     "output_type": "stream",
     "text": [
      "4.42997875092884 [2.87577005 2.56410262]\n",
      "[3.11784642 4.26752982]\n",
      "[1.92001054 2.60925057]\n",
      "4.450592137037131 [2.84415422 2.52511937]\n",
      "[3.78537465 2.34670408]\n",
      "[1.80489842 2.59061963]\n",
      "4.435425501775162 [2.51343698 2.54733013]\n",
      "[3.82647533 3.06075372]\n",
      "[1.29022331 2.5206072 ]\n",
      "4.433888474092481 [2.45938701 2.55476122]\n",
      "[3.89108424 2.35492303]\n",
      "[1.13231418 2.52825173]\n",
      "4.557607034636372 [2.53528413 2.5881043 ]\n",
      "[3.63916026 5.83441556]\n",
      "[2.53528413 2.5881043 ]\n",
      "4.586149621271229 [2.56840272 2.58732625]\n",
      "[3.76072684 5.16478638]\n",
      "[2.56840272 2.58732625]\n",
      "4.5960142926259095 [2.61425861 2.58339406]\n",
      "[3.64418983 2.95357638]\n",
      "[2.61425861 2.58339406]\n",
      "4.616208227834868 [2.65621936 2.58302036]\n",
      "[3.47265607 0.74282626]\n",
      "[2.65621936 2.58302036]\n",
      "4.653893716767705 [2.69101432 2.5901433 ]\n",
      "[3.37997782 2.26448371]\n",
      "[2.69101432 2.5901433 ]\n"
     ]
    },
    {
     "name": "stderr",
     "output_type": "stream",
     "text": [
      "Future exception was never retrieved\n",
      "future: <Future finished exception=ConnectionClosed('WebSocket connection is closed: code = 4002 (private use), no reason')>\n",
      "websockets.exceptions.ConnectionClosed: WebSocket connection is closed: code = 4002 (private use), no reason\n"
     ]
    },
    {
     "name": "stdout",
     "output_type": "stream",
     "text": [
      "4.699017353529259 [2.72227773 2.60337583]\n",
      "[4.13869199 0.60071325]\n",
      "[2.72227773 2.60337583]\n",
      "4.7139012464942605 [2.89050889 2.60570151]\n",
      "[3.12409003 0.98873005]\n",
      "[1.74123437 2.57109645]\n",
      "4.412854374223899 [2.61593035 2.55372705]\n",
      "[4.31948888 1.51382167]\n",
      "[1.65180906 2.47863189]\n",
      "4.351785366683439 [2.48227013 2.53260653]\n",
      "[3.71489634 0.63034309]\n",
      "[2.48227013 2.53260653]\n",
      "4.283240529301795 [2.55603244 2.51418846]\n",
      "[3.76811658 2.58557598]\n",
      "[2.55603244 2.51418846]\n",
      "4.215333235304482 [2.62194891 2.50107953]\n",
      "[2.7588692  0.34182527]\n",
      "[2.62194891 2.50107953]\n",
      "4.316615450349814 [2.60520806 2.50874345]\n",
      "[2.40462262 3.51619597]\n",
      "[2.60520806 2.50874345]\n"
     ]
    },
    {
     "name": "stderr",
     "output_type": "stream",
     "text": [
      "Future exception was never retrieved\n",
      "future: <Future finished exception=ConnectionClosed('WebSocket connection is closed: code = 4002 (private use), no reason')>\n",
      "websockets.exceptions.ConnectionClosed: WebSocket connection is closed: code = 4002 (private use), no reason\n"
     ]
    },
    {
     "name": "stdout",
     "output_type": "stream",
     "text": [
      "3.973126656194982 [2.83106768 2.48299366]\n",
      "[3.64728811 0.25668638]\n",
      "[2.83106768 2.48299366]\n"
     ]
    },
    {
     "name": "stderr",
     "output_type": "stream",
     "text": [
      "Future exception was never retrieved\n",
      "future: <Future finished exception=ConnectionClosed('WebSocket connection is closed: code = 4002 (private use), no reason')>\n",
      "websockets.exceptions.ConnectionClosed: WebSocket connection is closed: code = 4002 (private use), no reason\n"
     ]
    },
    {
     "name": "stdout",
     "output_type": "stream",
     "text": [
      "3.9723402494640276 [2.75450753 2.45225283]\n",
      "[3.78470553 1.96671565]\n",
      "[2.75450753 2.45225283]\n",
      "3.9120736794741053 [2.78073805 2.44251988]\n",
      "[4.14392211 1.75482422]\n",
      "[2.78073805 2.44251988]\n",
      "3.8934869650951365 [2.78248602 2.43974613]\n",
      "[3.09707629 4.59685455]\n",
      "[2.78248602 2.43974613]\n",
      "3.8329700001167604 [2.82149021 2.43309733]\n",
      "[3.49533355 3.67015457]\n",
      "[2.82149021 2.43309733]\n",
      "3.771380215960433 [2.85281557 2.42352886]\n",
      "[2.57829719 2.04439223]\n",
      "[2.85281557 2.42352886]\n",
      "3.7887957778843253 [2.86539663 2.42276062]\n",
      "[3.40100547 1.82653142]\n",
      "[2.86539663 2.42276062]\n",
      "3.7256103787403663 [2.90001266 2.41278332]\n",
      "[3.33980779 0.60194322]\n",
      "[2.90001266 2.41278332]\n"
     ]
    },
    {
     "name": "stderr",
     "output_type": "stream",
     "text": [
      "Future exception was never retrieved\n",
      "future: <Future finished exception=ConnectionClosed('WebSocket connection is closed: code = 4002 (private use), no reason')>\n",
      "websockets.exceptions.ConnectionClosed: WebSocket connection is closed: code = 4002 (private use), no reason\n"
     ]
    },
    {
     "name": "stdout",
     "output_type": "stream",
     "text": [
      "3.673167221172313 [2.93023766 2.40484149]\n",
      "[2.71871464 1.93570767]\n",
      "[2.93023766 2.40484149]\n",
      "3.6564421604569914 [2.95767107 2.39968863]\n",
      "[3.42675375 2.97225957]\n",
      "[2.95767107 2.39968863]\n",
      "4.093628202763264 [2.66642749 2.48758092]\n",
      "[4.73564799 1.48323987]\n",
      "[2.66642749 2.48758092]\n"
     ]
    },
    {
     "name": "stderr",
     "output_type": "stream",
     "text": [
      "Future exception was never retrieved\n",
      "future: <Future finished exception=ConnectionClosed('WebSocket connection is closed: code = 4002 (private use), no reason')>\n",
      "websockets.exceptions.ConnectionClosed: WebSocket connection is closed: code = 4002 (private use), no reason\n"
     ]
    },
    {
     "name": "stdout",
     "output_type": "stream",
     "text": [
      "4.12193461150657 [2.65200978 2.48743792]\n",
      "[3.96191805 3.5606247 ]\n",
      "[1.86725331 2.43699127]\n",
      "4.50806367868237 [2.4780749  2.55997999]\n",
      "[3.86959228 0.34238196]\n",
      "[1.3467981  2.56476785]\n",
      "4.707139444471866 [2.5391293  2.62587745]\n",
      "[1.83901961 0.19956808]\n",
      "[2.5391293  2.62587745]\n",
      "4.5193180720569055 [2.94722445 2.54706842]\n",
      "[3.49182274 2.2027188 ]\n",
      "[2.94722445 2.54706842]\n",
      "4.434828636011988 [2.9192438  2.56662696]\n",
      "[2.79150874 2.74399545]\n",
      "[2.9192438  2.56662696]\n",
      "4.503632516194885 [2.93837044 2.56674945]\n",
      "[2.81096764 1.78639863]\n",
      "[2.93837044 2.56674945]\n",
      "4.564954297128777 [2.95081301 2.56766362]\n",
      "[3.25755249 1.30949117]\n",
      "[2.95081301 2.56766362]\n",
      "4.563381776301133 [2.55838849 2.58199678]\n",
      "[4.16294676 2.21726216]\n",
      "[1.54975352 2.55069057]\n",
      "5.0832892905869445 [2.46866292 2.64269652]\n",
      "[3.41087209 0.5693615 ]\n",
      "[3.81223722 2.67009089]\n",
      "4.883167272249682 [2.31850123 2.57025635]\n",
      "[3.73043631 3.46758305]\n",
      "[1.11778896 2.56438896]\n",
      "4.993593112620407 [2.29860459 2.58968866]\n",
      "[4.47167438 3.85775402]\n",
      "[1.05746636 2.59165568]\n",
      "4.936153172466709 [2.303005   2.57959674]\n",
      "[4.11925372 3.08905159]\n",
      "[1.09456114 2.57793258]\n",
      "5.253347968080279 [2.41203686 2.6542752 ]\n",
      "[3.50026338 3.13944435]\n",
      "[2.41203686 2.6542752 ]\n",
      "5.324643961270341 [2.45380223 2.64340465]\n",
      "[4.12536927 0.02288986]\n",
      "[2.45380223 2.64340465]\n",
      "5.2688506078988935 [2.5252561  2.64955873]\n",
      "[2.11892926 0.92973197]\n",
      "[2.5252561  2.64955873]\n",
      "5.234025949405698 [2.46251658 2.65185875]\n",
      "[3.54669976 4.85929058]\n",
      "[2.46251658 2.65185875]\n",
      "5.29092675369817 [2.51315106 2.64282197]\n",
      "[3.95925876 5.62436319]\n",
      "[2.51315106 2.64282197]\n",
      "5.245543898943473 [2.59017114 2.64585653]\n",
      "[4.0025101  0.65151594]\n",
      "[2.59017114 2.64585653]\n",
      "5.177654956642329 [2.66193236 2.65020918]\n",
      "[3.77597758 1.74224073]\n",
      "[2.66193236 2.65020918]\n",
      "5.154329858502306 [2.73369027 2.64851122]\n",
      "[2.73822667 5.97543449]\n",
      "[2.73369027 2.64851122]\n",
      "5.312762229270277 [2.70893334 2.67578767]\n",
      "[3.44928848 6.16175317]\n",
      "None\n",
      "5.4162355349282985 [2.80249755 2.68741189]\n",
      "[3.75047251 2.18454529]\n",
      "[2.80249755 2.68741189]\n",
      "5.424188432634215 [2.91356725 2.69240504]\n",
      "[3.3076374  4.93108696]\n",
      "[2.91356725 2.69240504]\n",
      "5.523996440444272 [2.98219474 2.7097706 ]\n",
      "[3.2376146  2.91849488]\n",
      "[2.98219474 2.7097706 ]\n",
      "5.616752667629612 [3.03412906 2.72470364]\n",
      "[3.37823806 4.64572683]\n",
      "[3.03412906 2.72470364]\n",
      "5.666892213380336 [3.09552072 2.73566341]\n",
      "[3.51961653 4.25416109]\n",
      "[3.09552072 2.73566341]\n",
      "5.084404963810446 [2.44236913 2.65256581]\n",
      "[3.93783873 2.38259514]\n",
      "None\n",
      "5.050933926521517 [2.512906  2.6495535]\n",
      "[3.7732429  1.05801144]\n",
      "None\n",
      "5.046382570853469 [2.58248128 2.64660131]\n",
      "[3.62564835 0.4019128 ]\n",
      "None\n",
      "4.837267345044912 [2.35254736 2.63540085]\n",
      "[4.42820284 2.27359951]\n",
      "[1.17468305 2.59358847]\n",
      "4.753415704844516 [2.37662376 2.62959491]\n",
      "[3.93262509 1.59296076]\n",
      "[1.26125655 2.58105519]\n",
      "4.671674414917052 [2.42640006 2.61279545]\n",
      "[3.79204778 6.21325727]\n",
      "[1.34651223 2.5670539 ]\n",
      "4.607854779996109 [2.47694526 2.59455478]\n",
      "[3.40958049 0.05494202]\n",
      "None\n",
      "4.649977733315403 [2.49787484 2.59778704]\n",
      "[3.52192263 4.19690313]\n",
      "None\n",
      "4.665466828410098 [2.52951372 2.59433225]\n",
      "[3.78233942 4.05534911]\n",
      "None\n",
      "4.815914269569935 [2.34465582 2.6246993 ]\n",
      "[3.90167967 1.45189417]\n",
      "[1.15271756 2.5842055 ]\n",
      "4.97441625385133 [2.24412529 2.669038  ]\n",
      "[3.37767712 4.00196385]\n",
      "[0.96469293 2.63664622]\n",
      "5.338276880809342 [2.45857535 2.7969596 ]\n",
      "[3.97063073 1.7097757 ]\n",
      "[2.45857535 2.7969596 ]\n",
      "5.24591726886669 [2.26754261 2.78115073]\n",
      "[4.23706609 5.00623231]\n",
      "[0.77668096 2.70784632]\n",
      "5.236555604232699 [2.29635358 2.77131028]\n",
      "[3.72141922 2.88104245]\n",
      "[0.8352815  2.70016019]\n",
      "5.2821034700959855 [2.32642409 2.77831742]\n",
      "[4.31987345 1.67465315]\n",
      "[3.81460907 2.843743  ]\n",
      "5.262085643380536 [2.35949759 2.76741653]\n",
      "[3.68900436 4.82161447]\n",
      "[0.89039566 2.70337305]\n",
      "5.319813909281043 [2.40404863 2.77486629]\n",
      "[3.01074672 4.97879637]\n",
      "None\n",
      "5.3833469029524 [2.40773713 2.78322048]\n",
      "[3.556379   3.34997474]\n",
      "None\n",
      "5.457179979737785 [2.45270556 2.79198694]\n",
      "[3.97475882 6.0559589 ]\n",
      "None\n",
      "5.301135465564039 [2.2877762  2.79340903]\n",
      "[4.01751149 5.5535685 ]\n",
      "[3.75239175 2.85654727]\n",
      "5.327098951590992 [2.31556716 2.79129382]\n",
      "[3.52649359 0.29657959]\n",
      "[3.74688609 2.85026991]\n",
      "5.376695305082597 [2.3367952  2.79981387]\n",
      "[4.1288758  1.42462915]\n",
      "[3.71450579 2.85107723]\n",
      "5.30475616072316 [2.24517581 2.81380277]\n",
      "[4.04108708 4.08993002]\n",
      "[3.69277372 2.87946489]\n",
      "5.331135581244035 [2.26694994 2.81138193]\n",
      "[4.17927338 4.97310669]\n",
      "[3.68168979 2.87132805]\n",
      "5.283776749725649 [2.20302417 2.82439752]\n",
      "[3.84854781 2.88716893]\n",
      "[3.66626632 2.89429593]\n",
      "5.303792742400152 [2.20763191 2.82978873]\n",
      "[3.90698799 2.06695788]\n",
      "[3.64052248 2.89629269]\n",
      "5.328888576802058 [2.22104324 2.83288986]\n",
      "[4.46171761 1.40319287]\n",
      "[3.61928367 2.89444599]\n",
      "5.305148679535141 [2.17951111 2.84444056]\n",
      "[3.82178547 6.15099213]\n",
      "[3.56604959 2.90558234]\n",
      "6.163848312849023 [2.75901509 2.94466314]\n",
      "[3.38555765 0.7131616 ]\n",
      "[2.75901509 2.94466314]\n",
      "6.256490847838928 [2.81426278 2.95990922]\n",
      "[3.29152927 2.06047206]\n",
      "[2.81426278 2.95990922]\n",
      "5.164013141429163 [2.36360021 2.81130831]\n",
      "[3.77940827 1.09347576]\n",
      "[2.36360021 2.81130831]\n"
     ]
    },
    {
     "name": "stderr",
     "output_type": "stream",
     "text": [
      "Future exception was never retrieved\n",
      "future: <Future finished exception=ConnectionClosed('WebSocket connection is closed: code = 4002 (private use), no reason')>\n",
      "websockets.exceptions.ConnectionClosed: WebSocket connection is closed: code = 4002 (private use), no reason\n"
     ]
    },
    {
     "name": "stdout",
     "output_type": "stream",
     "text": [
      "4.970538785844024 [2.20407024 2.78266809]\n",
      "[3.29449644 5.45894857]\n",
      "[0.92035882 2.68897549]\n",
      "5.313565013167773 [2.32024517 2.68692857]\n",
      "[3.25948826 1.12871795]\n",
      "[2.32024517 2.68692857]\n",
      "5.452657180255228 [2.33295112 2.68476636]\n",
      "[3.57489939 0.81710694]\n",
      "[2.33295112 2.68476636]\n",
      "5.598745131523624 [2.38245027 2.67672221]\n",
      "[3.86974133 0.26625785]\n",
      "[2.38245027 2.67672221]\n",
      "5.718646908737711 [2.47003856 2.66544545]\n",
      "[3.85422753 0.75544451]\n",
      "[2.47003856 2.66544545]\n",
      "5.820331608245168 [2.56395254 2.65173013]\n",
      "[3.62649802 4.65127845]\n",
      "[2.56395254 2.65173013]\n",
      "5.923960890838479 [2.63787491 2.64122743]\n",
      "[3.11366697 0.04773841]\n",
      "[2.63787491 2.64122743]\n",
      "6.017198799048683 [2.64689782 2.64672554]\n",
      "[2.92125873 2.58905684]\n",
      "[2.64689782 2.64672554]\n",
      "5.763936445781413 [3.03462484 2.6587079 ]\n",
      "[2.80114433 3.23104478]\n",
      "[3.03462484 2.6587079 ]\n",
      "5.817680084598675 [3.00298449 2.66255735]\n",
      "[3.42907742 1.63140962]\n",
      "[3.00298449 2.66255735]\n",
      "5.84477361035747 [3.06932224 2.66492197]\n",
      "[3.15016487 5.6044766 ]\n",
      "[3.06932224 2.66492197]\n",
      "5.339993756616897 [2.82961027 2.62920475]\n",
      "[3.96291187 1.25257606]\n",
      "[1.55084338 2.65451455]\n",
      "5.320687271402099 [2.94245367 2.62174541]\n",
      "[3.25834291 0.57980623]\n",
      "[1.72380745 2.67227425]\n",
      "5.314892887768973 [2.98646837 2.6213153 ]\n",
      "[3.47020404 0.82719844]\n",
      "[1.77702301 2.68712063]\n",
      "5.276757042796156 [3.06191206 2.61922058]\n",
      "[3.34825015 2.07733035]\n",
      "[1.87360073 2.7048494 ]\n",
      "5.255063276391887 [3.11543297 2.61719712]\n",
      "[2.69855937 3.12851859]\n",
      "[1.93796257 2.71476454]\n",
      "5.317815780163488 [3.04849652 2.61862169]\n",
      "[3.03716161 1.16256541]\n",
      "[3.04849652 2.61862169]\n"
     ]
    },
    {
     "name": "stderr",
     "output_type": "stream",
     "text": [
      "Future exception was never retrieved\n",
      "future: <Future finished exception=ConnectionClosed('WebSocket connection is closed: code = 4002 (private use), no reason')>\n",
      "websockets.exceptions.ConnectionClosed: WebSocket connection is closed: code = 4002 (private use), no reason\n"
     ]
    },
    {
     "name": "stdout",
     "output_type": "stream",
     "text": [
      "5.340801922652479 [3.04432944 2.61919868]\n",
      "[2.85403853 3.00039108]\n",
      "[3.04432944 2.61919868]\n",
      "5.378469295904123 [3.00141033 2.62098319]\n",
      "[3.36313625 3.0207427 ]\n",
      "[3.00141033 2.62098319]\n",
      "5.370183528204825 [3.05464299 2.61928695]\n"
     ]
    }
   ],
   "source": [
    "provider = IBMQ.get_provider(group='open', project='main')\n",
    "backend = provider.get_backend('ibmq_vigo')\n",
    "\n",
    "\n",
    "n_qubits = 1\n",
    "n_circuits_sampled = 1\n",
    "\n",
    "for __ in range(n_circuits_sampled):\n",
    "    \n",
    "    \n",
    "    \n",
    "    circuit = random_circuit(n_qubits)\n",
    "    while len(circuit) > 6:\n",
    "            circuit = random_circuit(n_qubits)\n",
    "    \n",
    "    result_data = {}\n",
    "    result_data['risk'] = []\n",
    "    result_data['mean'] = []\n",
    "    result_data['counts'] = []\n",
    "    result_data['circuit'] = circuit\n",
    "\n",
    "    dist = Distribution(n_points=1000, n_qubits=1)\n",
    "    for _ in range(240):\n",
    "\n",
    "        u2_gates = dist.next_experiment()     \n",
    "\n",
    "        print(u2_gates)\n",
    "\n",
    "        tmp_circuit = copy.deepcopy(circuit)\n",
    "        tmp_circuit = design_circuit(n_qubits, u2_gates, circuit=tmp_circuit)\n",
    "\n",
    "        job = execute(tmp_circuit, backend, shots=1)\n",
    "\n",
    "        result = job.result()\n",
    "        outcome = list(map(int, list(list(result.get_counts(tmp_circuit).keys())[0])))     \n",
    "\n",
    "        best_estimate = dist.calc_best_experiment()\n",
    "        print(best_estimate)\n",
    "               \n",
    "        \n",
    "        tmp_circuit = copy.deepcopy(circuit)\n",
    "        tmp_circuit = design_circuit(n_qubits, best_estimate, circuit=tmp_circuit)\n",
    "\n",
    "        job = execute(tmp_circuit, backend, shots=4096)\n",
    "        result = job.result()\n",
    "        outcome_full = result.get_counts(tmp_circuit)\n",
    "\n",
    "        dist.measure(outcome, u2_gates)\n",
    "\n",
    "        result_data['risk'].append(dist.calc_bayes_risk())\n",
    "        result_data['mean'].append(dist.calc_bayes_mean())\n",
    "        result_data['counts'].append(outcome_full)\n",
    "\n",
    "        print(result_data['risk'][-1], result_data['mean'][-1])\n",
    "\n",
    "    result_data['distrubtion'] = dist\n",
    "    results.append(result_data)"
   ]
  },
  {
   "cell_type": "code",
   "execution_count": 77,
   "metadata": {},
   "outputs": [],
   "source": [
    "best_estimate"
   ]
  },
  {
   "cell_type": "code",
   "execution_count": 114,
   "metadata": {},
   "outputs": [
    {
     "data": {
      "text/plain": [
       "<matplotlib.axes._subplots.AxesSubplot at 0x7f353fde88e0>"
      ]
     },
     "execution_count": 114,
     "metadata": {},
     "output_type": "execute_result"
    },
    {
     "data": {
      "image/png": "[encoded data removed]",
      "text/plain": [
       "<Figure size 432x288 with 1 Axes>"
      ]
     },
     "metadata": {
      "needs_background": "light"
     },
     "output_type": "display_data"
    }
   ],
   "source": [
    "sbs.scatterplot(dist.points[:,0],\n",
    "                dist.points[:,1],\n",
    "                size=dist.weights,\n",
    "                sizes=(20, 200),\n",
    "                hue=dist.weights)"
   ]
  },
  {
   "cell_type": "code",
   "execution_count": 66,
   "metadata": {},
   "outputs": [
    {
     "data": {
      "text/plain": [
       "[<matplotlib.lines.Line2D at 0x7f3545a58dc0>,\n",
       " <matplotlib.lines.Line2D at 0x7f3545a58ee0>]"
      ]
     },
     "execution_count": 66,
     "metadata": {},
     "output_type": "execute_result"
    },
    {
     "data": {
      "image/png": "[encoded data removed]",
      "text/plain": [
       "<Figure size 432x288 with 1 Axes>"
      ]
     },
     "metadata": {
      "needs_background": "light"
     },
     "output_type": "display_data"
    }
   ],
   "source": [
    "plt.plot(results[-1]['mean'])"
   ]
  },
  {
   "cell_type": "code",
   "execution_count": 71,
   "metadata": {},
   "outputs": [
    {
     "data": {
      "text/plain": [
       "10"
      ]
     },
     "execution_count": 71,
     "metadata": {},
     "output_type": "execute_result"
    }
   ],
   "source": [
    "len(results)"
   ]
  },
  {
   "cell_type": "code",
   "execution_count": 310,
   "metadata": {},
   "outputs": [
    {
     "data": {
      "text/plain": [
       "[<matplotlib.lines.Line2D at 0x7f353c914e80>]"
      ]
     },
     "execution_count": 310,
     "metadata": {},
     "output_type": "execute_result"
    },
    {
     "data": {
      "image/png": "[encoded data removed]",
      "text/plain": [
       "<Figure size 432x288 with 1 Axes>"
      ]
     },
     "metadata": {
      "needs_background": "light"
     },
     "output_type": "display_data"
    }
   ],
   "source": [
    "plt.plot([1 - (max(results[-1]['counts'][i]['1'], results[-1]['counts'][i]['0']) / 4096) for i in range(1, 120)])"
   ]
  },
  {
   "cell_type": "code",
   "execution_count": 159,
   "metadata": {},
   "outputs": [
    {
     "data": {
      "text/plain": [
       "[{'0': 4063, '1': 33},\n",
       " {'0': 2588, '1': 1508},\n",
       " {'0': 2492, '1': 1604},\n",
       " {'0': 2551, '1': 1545},\n",
       " {'0': 2465, '1': 1631},\n",
       " {'0': 2653, '1': 1443},\n",
       " {'0': 2262, '1': 1834},\n",
       " {'0': 2573, '1': 1523},\n",
       " {'0': 4056, '1': 40},\n",
       " {'0': 535, '1': 3561},\n",
       " {'0': 671, '1': 3425},\n",
       " {'0': 1366, '1': 2730},\n",
       " {'0': 1315, '1': 2781},\n",
       " {'0': 1198, '1': 2898},\n",
       " {'0': 1272, '1': 2824},\n",
       " {'0': 1169, '1': 2927},\n",
       " {'0': 3653, '1': 443},\n",
       " {'0': 1156, '1': 2940},\n",
       " {'0': 1183, '1': 2913},\n",
       " {'0': 1011, '1': 3085},\n",
       " {'0': 1000, '1': 3096},\n",
       " {'0': 987, '1': 3109},\n",
       " {'0': 1004, '1': 3092},\n",
       " {'0': 984, '1': 3112},\n",
       " {'0': 3551, '1': 545},\n",
       " {'0': 967, '1': 3129},\n",
       " {'0': 850, '1': 3246},\n",
       " {'0': 912, '1': 3184},\n",
       " {'0': 952, '1': 3144},\n",
       " {'0': 908, '1': 3188},\n",
       " {'0': 821, '1': 3275},\n",
       " {'0': 825, '1': 3271},\n",
       " {'0': 833, '1': 3263},\n",
       " {'0': 869, '1': 3227},\n",
       " {'0': 907, '1': 3189},\n",
       " {'0': 824, '1': 3272},\n",
       " {'0': 957, '1': 3139},\n",
       " {'0': 817, '1': 3279},\n",
       " {'0': 847, '1': 3249},\n",
       " {'0': 785, '1': 3311},\n",
       " {'0': 729, '1': 3367},\n",
       " {'0': 856, '1': 3240},\n",
       " {'0': 988, '1': 3108},\n",
       " {'0': 1012, '1': 3084},\n",
       " {'0': 900, '1': 3196},\n",
       " {'0': 836, '1': 3260},\n",
       " {'0': 826, '1': 3270},\n",
       " {'0': 738, '1': 3358},\n",
       " {'0': 941, '1': 3155},\n",
       " {'0': 809, '1': 3287},\n",
       " {'0': 896, '1': 3200},\n",
       " {'0': 1328, '1': 2768},\n",
       " {'0': 1390, '1': 2706},\n",
       " {'0': 3282, '1': 814},\n",
       " {'0': 920, '1': 3176},\n",
       " {'0': 1013, '1': 3083},\n",
       " {'0': 1030, '1': 3066},\n",
       " {'0': 854, '1': 3242},\n",
       " {'0': 932, '1': 3164},\n",
       " {'0': 851, '1': 3245},\n",
       " {'0': 846, '1': 3250},\n",
       " {'0': 842, '1': 3254},\n",
       " {'0': 825, '1': 3271},\n",
       " {'0': 800, '1': 3296},\n",
       " {'0': 803, '1': 3293},\n",
       " {'0': 851, '1': 3245},\n",
       " {'0': 908, '1': 3188},\n",
       " {'0': 846, '1': 3250},\n",
       " {'0': 948, '1': 3148},\n",
       " {'0': 811, '1': 3285},\n",
       " {'0': 929, '1': 3167},\n",
       " {'0': 971, '1': 3125},\n",
       " {'0': 1099, '1': 2997},\n",
       " {'0': 1215, '1': 2881},\n",
       " {'0': 1176, '1': 2920},\n",
       " {'0': 1255, '1': 2841},\n",
       " {'0': 1216, '1': 2880},\n",
       " {'0': 4066, '1': 30},\n",
       " {'0': 907, '1': 3189},\n",
       " {'0': 863, '1': 3233},\n",
       " {'0': 1152, '1': 2944},\n",
       " {'0': 1093, '1': 3003},\n",
       " {'0': 1269, '1': 2827},\n",
       " {'0': 1187, '1': 2909},\n",
       " {'0': 1104, '1': 2992},\n",
       " {'0': 1074, '1': 3022},\n",
       " {'0': 1117, '1': 2979},\n",
       " {'0': 2320, '1': 1776},\n",
       " {'0': 986, '1': 3110},\n",
       " {'0': 893, '1': 3203},\n",
       " {'0': 1003, '1': 3093},\n",
       " {'0': 908, '1': 3188},\n",
       " {'0': 939, '1': 3157},\n",
       " {'0': 979, '1': 3117},\n",
       " {'0': 943, '1': 3153},\n",
       " {'0': 887, '1': 3209},\n",
       " {'0': 858, '1': 3238},\n",
       " {'0': 4078, '1': 18},\n",
       " {'0': 863, '1': 3233},\n",
       " {'0': 900, '1': 3196},\n",
       " {'0': 912, '1': 3184},\n",
       " {'0': 893, '1': 3203},\n",
       " {'0': 1081, '1': 3015},\n",
       " {'0': 1963, '1': 2133},\n",
       " {'0': 4072, '1': 24},\n",
       " {'0': 3166, '1': 930},\n",
       " {'0': 2583, '1': 1513},\n",
       " {'0': 2657, '1': 1439},\n",
       " {'0': 2145, '1': 1951},\n",
       " {'0': 1398, '1': 2698},\n",
       " {'0': 861, '1': 3235},\n",
       " {'0': 806, '1': 3290},\n",
       " {'0': 1058, '1': 3038},\n",
       " {'0': 1139, '1': 2957},\n",
       " {'0': 1055, '1': 3041},\n",
       " {'0': 1056, '1': 3040},\n",
       " {'0': 1046, '1': 3050},\n",
       " {'0': 1034, '1': 3062},\n",
       " {'0': 945, '1': 3151},\n",
       " {'0': 936, '1': 3160}]"
      ]
     },
     "execution_count": 159,
     "metadata": {},
     "output_type": "execute_result"
    }
   ],
   "source": [
    "results[-4]['counts']"
   ]
  },
  {
   "cell_type": "code",
   "execution_count": 228,
   "metadata": {},
   "outputs": [],
   "source": [
    "def bootstrap(result, samples=900, repeats=1000):\n",
    "    sampler = []\n",
    "    for i in result:\n",
    "        for _ in range(result[i]):\n",
    "            sampler.append(int(i))\n",
    "            \n",
    "    target = int(max(result.keys(), key=lambda key: result[key]))\n",
    "    \n",
    "    probs = []\n",
    "    \n",
    "    for _ in range(repeats):\n",
    "        tally = 0\n",
    "        for i in range(samples):\n",
    "            sample = sampler[random.randint(0, len(sampler) - 1)]\n",
    "            \n",
    "            if sample == target:\n",
    "                tally += 1\n",
    "        \n",
    "        probs.append(tally / samples)\n",
    "    return probs"
   ]
  },
  {
   "cell_type": "code",
   "execution_count": 229,
   "metadata": {},
   "outputs": [
    {
     "data": {
      "text/plain": [
       "[0.7, 1.0, 0.7, 0.6, 0.8, 0.7, 0.6, 0.9, 0.9, 0.8]"
      ]
     },
     "execution_count": 229,
     "metadata": {},
     "output_type": "execute_result"
    }
   ],
   "source": [
    "bootstrap(results[-4]['counts'][10], repeats=10, samples=10)"
   ]
  },
  {
   "cell_type": "code",
   "execution_count": 591,
   "metadata": {},
   "outputs": [
    {
     "data": {
      "text/plain": [
       "6"
      ]
     },
     "execution_count": 591,
     "metadata": {},
     "output_type": "execute_result"
    }
   ],
   "source": [
    "len(results[17]['circuit'])"
   ]
  },
  {
   "cell_type": "code",
   "execution_count": 593,
   "metadata": {},
   "outputs": [],
   "source": [
    "import pickle"
   ]
  },
  {
   "cell_type": "code",
   "execution_count": 594,
   "metadata": {},
   "outputs": [],
   "source": [
    "f = open(\"rb_single.pkl\", \"wb\")\n",
    "pickle.dump(results, f)\n",
    "f.close()"
   ]
  },
  {
   "cell_type": "code",
   "execution_count": 587,
   "metadata": {},
   "outputs": [],
   "source": [
    "n_repeats=64\n",
    "samples=64\n",
    "tar_point = 17\n",
    "\n",
    "x_coords = np.array([[i] * n_repeats for i in range(len(results[tar_point]['counts']))][1:]).flatten()\n",
    "y_coords = 1 - np.array([bootstrap(res, samples=samples, repeats=n_repeats) for res in results[tar_point]['counts'][1:]]).flatten()"
   ]
  },
  {
   "cell_type": "code",
   "execution_count": 590,
   "metadata": {},
   "outputs": [
    {
     "data": {
      "image/png": "[encoded data removed]",
      "text/plain": [
       "<Figure size 432x288 with 1 Axes>"
      ]
     },
     "metadata": {
      "needs_background": "light"
     },
     "output_type": "display_data"
    }
   ],
   "source": [
    "p_box = sbs.boxplot(x_coords, y_coords, palette='winter', linewidth=0.5)\n",
    "\n",
    "# ax = sbs.lineplot(\n",
    "#     range(len(results[tar_point]['risk'])), \n",
    "#     [i / max(results[tar_point]['risk']) / 2 for i in results[tar_point]['risk']] , \n",
    "#     marker='.', linestyle='--',markersize=10,\n",
    "#     label='Risk')\n",
    "\n",
    "ax.lines[1].set_marker('.')\n",
    "ax.lines[1].set_linestyle('-')\n",
    "\n",
    "#plt.legend()\n",
    "plt.ylabel('Error Probability')\n",
    "plt.xlabel('Number of Measurements / SMB Iterations')\n",
    "plt.title('Adaptive Unitary On Random One Qubit Circuit')\n",
    "\n",
    "p_box.axes.set_xticklabels([i if (0 == i % 10) else '' for i in range(121)])\n",
    "#plt.show()\n",
    "plt.savefig(\"figs/120_unitary.pdf\")\n",
    "#_box.set(xticks=[i * 10 for i in range(12)])\n",
    "#plt.axes(xticks=[i * 10 for i in range(12)])"
   ]
  },
  {
   "cell_type": "code",
   "execution_count": 563,
   "metadata": {},
   "outputs": [],
   "source": [
    "?plt.axes"
   ]
  },
  {
   "cell_type": "code",
   "execution_count": 553,
   "metadata": {},
   "outputs": [],
   "source": [
    "?sbs.boxplot"
   ]
  },
  {
   "cell_type": "code",
   "execution_count": 526,
   "metadata": {},
   "outputs": [
    {
     "data": {
      "text/plain": [
       "<matplotlib.axes._subplots.AxesSubplot at 0x7f353a3592e0>"
      ]
     },
     "execution_count": 526,
     "metadata": {},
     "output_type": "execute_result"
    },
    {
     "data": {
      "image/png": "[encoded data removed]",
      "text/plain": [
       "<Figure size 432x288 with 1 Axes>"
      ]
     },
     "metadata": {
      "needs_background": "light"
     },
     "output_type": "display_data"
    }
   ],
   "source": [
    "d_targ = results[17]['distrubtion']\n",
    "\n",
    "sbs.scatterplot(d_targ.points[:, 0], d_targ.points[:, 1], \n",
    "size=d_targ.weights,\n",
    "                sizes=(20, 200),\n",
    "                hue=d_targ.weights\n",
    ")"
   ]
  },
  {
   "cell_type": "code",
   "execution_count": null,
   "metadata": {},
   "outputs": [],
   "source": [
    "sbs.lineplot(x_coords, y_coords, label=\"Error Rate\")\n",
    "\n",
    "\n",
    "ax = sbs.lineplot(\n",
    "    range(len(results[tar_point]['risk'])), \n",
    "    [i / max(results[tar_point]['risk']) / 2 for i in results[tar_point]['risk']] , \n",
    "    marker='.', linestyle='--',markersize=10,\n",
    "    label='Risk')\n",
    "\n",
    "ax.lines[1].set_marker('.')\n",
    "ax.lines[1].set_linestyle('-')\n",
    "\n",
    "\n",
    "plt.ylabel('Error Probability')\n",
    "plt.xlabel('Number of Measurements')\n",
    "plt.title('Adaptive Unitary Method')"
   ]
  },
  {
   "cell_type": "code",
   "execution_count": null,
   "metadata": {},
   "outputs": [],
   "source": [
    "#ax=sbs.lineplot(results[-4]['mean'])\n",
    "\n",
    "#plt.plot(results[-4]['mean'])\n",
    "plt.plot([1 - (max(results[-4]['counts'][i]['1'], results[-4]['counts'][i]['0']) / 4096) for i in range(1, 120)])"
   ]
  },
  {
   "cell_type": "code",
   "execution_count": 146,
   "metadata": {},
   "outputs": [
    {
     "data": {
      "text/plain": [
       "[<matplotlib.lines.Line2D at 0x7f353f35ec70>]"
      ]
     },
     "execution_count": 146,
     "metadata": {},
     "output_type": "execute_result"
    },
    {
     "data": {
      "image/png": "[encoded data removed]",
      "text/plain": [
       "<Figure size 432x288 with 1 Axes>"
      ]
     },
     "metadata": {
      "needs_background": "light"
     },
     "output_type": "display_data"
    }
   ],
   "source": [
    "plt.plot([len(results[i]['circuit']) for i in range(len(results))])"
   ]
  },
  {
   "cell_type": "code",
   "execution_count": 81,
   "metadata": {},
   "outputs": [
    {
     "data": {
      "text/plain": [
       "4"
      ]
     },
     "execution_count": 81,
     "metadata": {},
     "output_type": "execute_result"
    }
   ],
   "source": [
    "len(circuit)"
   ]
  },
  {
   "cell_type": "code",
   "execution_count": 109,
   "metadata": {},
   "outputs": [
    {
     "name": "stdout",
     "output_type": "stream",
     "text": [
      "30\n",
      "30\n",
      "30\n",
      "30\n",
      "30\n",
      "30\n",
      "30\n",
      "30\n",
      "30\n",
      "30\n",
      "60\n",
      "60\n",
      "60\n",
      "60\n",
      "60\n",
      "60\n",
      "60\n",
      "120\n",
      "120\n",
      "120\n",
      "120\n"
     ]
    }
   ],
   "source": [
    "for i in results:\n",
    "    print(len(i['mean']))"
   ]
  },
  {
   "cell_type": "code",
   "execution_count": 275,
   "metadata": {},
   "outputs": [
    {
     "data": {
      "text/plain": [
       "[<matplotlib.lines.Line2D at 0x7f353cf08af0>]"
      ]
     },
     "execution_count": 275,
     "metadata": {},
     "output_type": "execute_result"
    },
    {
     "data": {
      "image/png": "[encoded data removed]",
      "text/plain": [
       "<Figure size 432x288 with 1 Axes>"
      ]
     },
     "metadata": {
      "needs_background": "light"
     },
     "output_type": "display_data"
    }
   ],
   "source": [
    "plt.plot(results[-6]['risk'])"
   ]
  },
  {
   "cell_type": "code",
   "execution_count": null,
   "metadata": {},
   "outputs": [],
   "source": [
    "n_repeats=64\n",
    "samples=64\n",
    "tar_point = 17\n",
    "\n",
    "x_coords = np.array([[results[tar_point]] * n_repeats for i in range(len(results[tar_point]['counts']))][1:]).flatten()\n",
    "y_coords = 1 - np.array([bootstrap(res, samples=samples, repeats=n_repeats) for res in results[tar_point]['counts'][1:]]).flatten()"
   ]
  },
  {
   "cell_type": "code",
   "execution_count": null,
   "metadata": {},
   "outputs": [],
   "source": []
  },
  {
   "cell_type": "code",
   "execution_count": 411,
   "metadata": {},
   "outputs": [
    {
     "data": {
      "text/plain": [
       "{'0': 569, '1': 3527}"
      ]
     },
     "execution_count": 411,
     "metadata": {},
     "output_type": "execute_result"
    }
   ],
   "source": [
    "best_found(results[0]['counts'])"
   ]
  },
  {
   "cell_type": "code",
   "execution_count": 410,
   "metadata": {},
   "outputs": [],
   "source": [
    "def best_found(res):\n",
    "    return max(res, key=lambda x: max(x['0'], x['1']))\n",
    "        "
   ]
  },
  {
   "cell_type": "code",
   "execution_count": 439,
   "metadata": {},
   "outputs": [
    {
     "data": {
      "text/plain": [
       "{'0': 4076, '1': 20}"
      ]
     },
     "execution_count": 439,
     "metadata": {},
     "output_type": "execute_result"
    }
   ],
   "source": [
    "results[10]['counts'][0]"
   ]
  },
  {
   "cell_type": "code",
   "execution_count": 485,
   "metadata": {},
   "outputs": [],
   "source": [
    "e_val = lambda x: 1 - (max(x['counts'][0]['1'], x['counts'][0]['0']) / 4096)\n",
    "tp_avg = lambda x, i:  sum([x[i][1], x[i + 1][1], x[i + 1][1]]) / 3\n",
    "                      \n",
    "#y_init_trend = [tp_avg(i) for i in range(len(results) - 2)]\n",
    "\n",
    "y_vals = list(map(e_val, results ))\n",
    "c_vals = [len(res['circuit']) for res in results]\n",
    "         \n",
    "    \n",
    "y_vals_clean = []\n",
    "c_vals_clean = []\n",
    "c_vals_count = []\n",
    "for v, c in zip(y_vals, c_vals):\n",
    "    if c not in c_vals_clean:\n",
    "        c_vals_clean.append(c)\n",
    "        y_vals_clean.append(v)\n",
    "        c_vals_count.append(1)\n",
    "    else:\n",
    "        index = c_vals_clean.index(c)\n",
    "        c_vals_count[index] += 1\n",
    "        y_vals_clean[index] += v\n",
    "\n",
    "y_vals_avg = [v / c for v, c in zip(y_vals_clean, c_vals_count)]\n",
    "c_y_tuple = list(zip(c_vals_clean, y_vals_avg))\n",
    "c_y_tuple.sort()"
   ]
  },
  {
   "cell_type": "code",
   "execution_count": 486,
   "metadata": {},
   "outputs": [
    {
     "data": {
      "text/plain": [
       "[(1, 0.0040283203125),\n",
       " (3, 0.1630859375),\n",
       " (4, 0.034830729166666664),\n",
       " (6, 0.12760416666666666),\n",
       " (8, 0.1424560546875),\n",
       " (10, 0.11857096354166667)]"
      ]
     },
     "execution_count": 486,
     "metadata": {},
     "output_type": "execute_result"
    }
   ],
   "source": [
    "c_y_tuple"
   ]
  },
  {
   "cell_type": "code",
   "execution_count": 491,
   "metadata": {},
   "outputs": [],
   "source": [
    "trip_avg = np.array([[c_y_tuple[i + 1][0] ,tp_avg(c_y_tuple, i)] for i in range(len(c_y_tuple) - 2)])"
   ]
  },
  {
   "cell_type": "code",
   "execution_count": 492,
   "metadata": {},
   "outputs": [
    {
     "data": {
      "text/plain": [
       "array([[3.        , 0.11006673],\n",
       "       [4.        , 0.07758247],\n",
       "       [6.        , 0.09667969],\n",
       "       [8.        , 0.13750543]])"
      ]
     },
     "execution_count": 492,
     "metadata": {},
     "output_type": "execute_result"
    }
   ],
   "source": [
    "trip_avg"
   ]
  },
  {
   "cell_type": "code",
   "execution_count": 584,
   "metadata": {},
   "outputs": [],
   "source": [
    "samples = 64\n",
    "n_repeats = 64\n",
    "\n",
    "x_coords = np.array([[len(res['circuit'])] * n_repeats for res in results]).flatten()\n",
    "y_coords_init = 1 - np.array([bootstrap(res['counts'][0], samples=samples, repeats=n_repeats) for res in results]).flatten()\n",
    "y_coords_final = 1 - np.array([bootstrap(best_found(res['counts']), samples=samples, repeats=n_repeats) for res in results]).flatten()\n"
   ]
  },
  {
   "cell_type": "code",
   "execution_count": 585,
   "metadata": {},
   "outputs": [
    {
     "data": {
      "image/png": "[encoded data removed]",
      "text/plain": [
       "<Figure size 432x288 with 1 Axes>"
      ]
     },
     "metadata": {
      "needs_background": "light"
     },
     "output_type": "display_data"
    }
   ],
   "source": [
    "sbs.lineplot(x_coords, y_coords_init,  ci=100, marker='.', markersize=12, label='Initial Circuits')\n",
    "sbs.lineplot(x_coords, y_coords_final, ci=100, marker='d', markersize=10, label='Best Found')\n",
    "#sbs.lineplot(trip_avg[:,0], trip_avg[:,1], linestyle='-')\n",
    "\n",
    "\n",
    "plt.ylabel('Error Rate')\n",
    "plt.xlabel('Initial Circuit Depth')\n",
    "plt.title('Initial and Best Found Error Rates ')\n",
    "plt.savefig('figs/RB_Depth_unitary.pdf')"
   ]
  },
  {
   "cell_type": "code",
   "execution_count": null,
   "metadata": {},
   "outputs": [],
   "source": []
  }
 ],
 "metadata": {
  "kernelspec": {
   "display_name": "Python 3",
   "language": "python",
   "name": "python3"
  },
  "language_info": {
   "codemirror_mode": {
    "name": "ipython",
    "version": 3
   },
   "file_extension": ".py",
   "mimetype": "text/x-python",
   "name": "python",
   "nbconvert_exporter": "python",
   "pygments_lexer": "ipython3",
   "version": "3.8.2"
  }
 },
 "nbformat": 4,
 "nbformat_minor": 4
}

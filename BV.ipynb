{
 "cells": [
  {
   "cell_type": "markdown",
   "metadata": {},
   "source": [
    "## This Notebook runs the Bernstein-Vazirani Algorithm ##"
   ]
  },
  {
   "cell_type": "code",
   "execution_count": 1,
   "metadata": {},
   "outputs": [
    {
     "name": "stderr",
     "output_type": "stream",
     "text": [
      "Failed to import duecredit due to No module named 'duecredit'\n",
      "/home/alan/aur/miniconda3/lib/python3.8/site-packages/IPython/parallel.py:12: ShimWarning: The `IPython.parallel` package has been deprecated since IPython 4.0. You should import from ipyparallel instead.\n",
      "  warn(\"The `IPython.parallel` package has been deprecated since IPython 4.0. \"\n",
      "/home/alan/aur/miniconda3/lib/python3.8/site-packages/qinfer/parallel.py:61: UserWarning: Could not import IPython parallel. Parallelization support will be disabled.\n",
      "  warnings.warn(\n",
      "/home/alan/aur/miniconda3/lib/python3.8/site-packages/qiskit/providers/ibmq/ibmqfactory.py:192: UserWarning: Timestamps in IBMQ backend properties, jobs, and job results are all now in local time instead of UTC.\n",
      "  warnings.warn('Timestamps in IBMQ backend properties, jobs, and job results '\n"
     ]
    }
   ],
   "source": [
    "import random\n",
    "import math\n",
    "import numpy as np\n",
    "\n",
    "import copy\n",
    "\n",
    "\n",
    "import sys, os, time\n",
    "\n",
    "from qinfer import LiuWestResampler\n",
    "from qinfer import utils\n",
    "\n",
    "from qiskit import IBMQ, Aer\n",
    "from qiskit import QuantumCircuit, execute, Aer, QuantumCircuit\n",
    "import qiskit.ignis.verification.randomized_benchmarking as rb\n",
    "import matplotlib.lines as mlines\n",
    "\n",
    "IBMQ.load_account()\n",
    "import warnings\n",
    "warnings.filterwarnings(\"ignore\", message=\"numpy.dtype size changed\")\n",
    "warnings.filterwarnings(\"ignore\", message=\"numpy.ufunc size changed\")"
   ]
  },
  {
   "cell_type": "code",
   "execution_count": 2,
   "metadata": {},
   "outputs": [],
   "source": [
    "import matplotlib.pyplot as plt\n",
    "import seaborn as sbs\n",
    "\n",
    "import smc_linear as smc\n",
    "Distribution = smc.Distribution\n",
    "\n",
    "sbs.set(style=\"darkgrid\")\n",
    "\n",
    "%matplotlib inline"
   ]
  },
  {
   "cell_type": "code",
   "execution_count": 3,
   "metadata": {},
   "outputs": [],
   "source": [
    "def design_circuit(n_qubits, inv_arr, circuit=None):\n",
    "    \n",
    "    if circuit is None:\n",
    "        circuit = QuantumCircuit(n_qubits, n_qubits)\n",
    "    \n",
    "    for i, element in enumerate(inv_arr):\n",
    "        if element == 1:\n",
    "            circuit.x(i)\n",
    "    \n",
    "    circuit.measure(list(range(n_qubits)), list(range(n_qubits)))\n",
    "    return circuit"
   ]
  },
  {
   "cell_type": "markdown",
   "metadata": {},
   "source": [
    "The below function constructs a BV circuit given a particular string and number of qubits"
   ]
  },
  {
   "cell_type": "code",
   "execution_count": 4,
   "metadata": {},
   "outputs": [],
   "source": [
    "def bv_circuit(bv_string, n_qubits):\n",
    "    '''\n",
    "    bv_circuit\n",
    "    Constructs a circuit that implements the Bernstein-Vazirani algorithm\n",
    "    The string parameter dictates the expected state\n",
    "    '''\n",
    "        bv_circuit = QuantumCircuit(n_qubits, n_qubits - 1)\n",
    "        \n",
    "        for i in range(n_qubits):\n",
    "            bv_circuit.h(i)\n",
    "            \n",
    "        bv_circuit.z(n_qubits - 1)\n",
    "        \n",
    "        bv_circuit.barrier()\n",
    "        \n",
    "        for i in range(n_qubits -1):\n",
    "            if bv_string[i] == '1':\n",
    "                bv_circuit.cx(i, n_qubits - 1)\n",
    "        \n",
    "        \n",
    "        bv_circuit.barrier()\n",
    "        \n",
    "        for i in range(n_qubits - 1):\n",
    "            bv_circuit.h(i)\n",
    "        \n",
    "        return bv_circuit"
   ]
  },
  {
   "cell_type": "code",
   "execution_count": 5,
   "metadata": {},
   "outputs": [
    {
     "data": {
      "text/html": [
       "<pre style=\"word-wrap: normal;white-space: pre;background: #fff0;line-height: 1.1;font-family: &quot;Courier New&quot;,Courier,monospace\">     ┌───┐      ░            ░ ┌───┐\n",
       "q_0: ┤ H ├──────░───■────────░─┤ H ├\n",
       "     ├───┤      ░   │        ░ ├───┤\n",
       "q_1: ┤ H ├──────░───┼────────░─┤ H ├\n",
       "     ├───┤      ░   │        ░ ├───┤\n",
       "q_2: ┤ H ├──────░───┼────────░─┤ H ├\n",
       "     ├───┤      ░   │        ░ ├───┤\n",
       "q_3: ┤ H ├──────░───┼────■───░─┤ H ├\n",
       "     ├───┤┌───┐ ░ ┌─┴─┐┌─┴─┐ ░ └───┘\n",
       "q_4: ┤ H ├┤ Z ├─░─┤ X ├┤ X ├─░──────\n",
       "     └───┘└───┘ ░ └───┘└───┘ ░      \n",
       "c: 4/═══════════════════════════════\n",
       "                                    </pre>"
      ],
      "text/plain": [
       "     ┌───┐      ░            ░ ┌───┐\n",
       "q_0: ┤ H ├──────░───■────────░─┤ H ├\n",
       "     ├───┤      ░   │        ░ ├───┤\n",
       "q_1: ┤ H ├──────░───┼────────░─┤ H ├\n",
       "     ├───┤      ░   │        ░ ├───┤\n",
       "q_2: ┤ H ├──────░───┼────────░─┤ H ├\n",
       "     ├───┤      ░   │        ░ ├───┤\n",
       "q_3: ┤ H ├──────░───┼────■───░─┤ H ├\n",
       "     ├───┤┌───┐ ░ ┌─┴─┐┌─┴─┐ ░ └───┘\n",
       "q_4: ┤ H ├┤ Z ├─░─┤ X ├┤ X ├─░──────\n",
       "     └───┘└───┘ ░ └───┘└───┘ ░      \n",
       "c: 4/═══════════════════════════════\n",
       "                                    "
      ]
     },
     "execution_count": 5,
     "metadata": {},
     "output_type": "execute_result"
    }
   ],
   "source": [
    "q = bv_circuit(str(1001), 5)\n",
    "q.draw()"
   ]
  },
  {
   "cell_type": "code",
   "execution_count": 7,
   "metadata": {},
   "outputs": [],
   "source": [
    "n_qubits = 4\n",
    "circuit = bv_circuit(str(1001), 5)"
   ]
  },
  {
   "cell_type": "code",
   "execution_count": null,
   "metadata": {},
   "outputs": [],
   "source": [
    "provider = IBMQ.get_provider(group='open', project='main')\n",
    "backend = provider.get_backend('ibmq_quito') # ibmq_vigo\n",
    "\n",
    "n_measurements = 40\n",
    "n_experiments = 20\n",
    "n_points = 4000\n",
    "\n",
    "results = []\n",
    "\n",
    "for i in range(n_experiments):    \n",
    "\n",
    "    result_data = {}\n",
    "    \n",
    "    \n",
    "\n",
    "    result_data['circuit'] = circuit\n",
    "    result_data['risk'] = []\n",
    "    result_data['mean'] = []\n",
    "    result_data['len'] = len(circuit)\n",
    "    \n",
    "    dist = Distribution(n_points=n_points, n_qubits=n_qubits)\n",
    "\n",
    "\n",
    "    for _ in range(n_measurements):\n",
    "        \n",
    "        inversion_arr = dist.next_experiment()       \n",
    "        \n",
    "        tmp_circuit = copy.deepcopy(circuit)\n",
    "        tmp_circuit = design_circuit(n_qubits, inversion_arr, circuit=tmp_circuit)\n",
    "\n",
    "        \n",
    "        job = execute(tmp_circuit, backend, shots=1)\n",
    "        \n",
    "        result = job.result()\n",
    "        outcome = list(map(int, list(list(result.get_counts(circuit).keys())[0])))     \n",
    "        \n",
    "        print(\"Measurements: {} Outcome: {}\".format(inversion_arr, outcome))\n",
    "        dist.measure(outcome, inversion_arr)\n",
    "        \n",
    "        result_data['risk'].append(dist.calc_bayes_risk())\n",
    "        result_data['mean'].append(dist.calc_bayes_mean())\n",
    "\n",
    "    \n",
    "    result_data['distrubtion'] = dist\n",
    "    results.append(result_data)"
   ]
  },
  {
   "cell_type": "code",
   "execution_count": null,
   "metadata": {},
   "outputs": [],
   "source": [
    "provider = IBMQ.get_provider(group='open', project='main')\n",
    "backend = provider.get_backend('ibmq_quito') # ibmq_vigo\n",
    "\n",
    "for i, result in enumerate(results):\n",
    "    \n",
    "    \n",
    "    tmp_circuit = copy.deepcopy(result['circuit'])\n",
    "    inv_arr = np.zeros(n_qubits, dtype=int)\n",
    "    \n",
    "    tmp_circuit = design_circuit(n_qubits, inv_arr, circuit=tmp_circuit)\n",
    "    job = execute(tmp_circuit, backend, shots=1024)\n",
    "    ibm_result = job.result()\n",
    "    \n",
    "    results[i]['initial'] = ibm_result\n",
    "    \n",
    "    inv_arr = result['distrubtion'].next_experiment()\n",
    "    \n",
    "    tmp_circuit = copy.deepcopy(result['circuit'])\n",
    "    tmp_circuit = design_circuit(n_qubits, inv_arr, circuit=tmp_circuit)\n",
    "    job = execute(tmp_circuit, backend, shots=1024)\n",
    "    ibm_result = job.result() \n",
    "    \n",
    "    results[i]['final'] = ibm_result\n",
    "    \n",
    "    print(i)\n",
    "    "
   ]
  },
  {
   "cell_type": "markdown",
   "metadata": {},
   "source": [
    "And here we plot our initial and final counts"
   ]
  },
  {
   "cell_type": "code",
   "execution_count": null,
   "metadata": {},
   "outputs": [],
   "source": [
    "plt.plot([max(i['initial'].get_counts().values()) / 1024 for i in results])) \n",
    "plt.plot([max(i['final'].get_counts().values()) / 1024 for i in results])"
   ]
  },
  {
   "cell_type": "code",
   "execution_count": null,
   "metadata": {},
   "outputs": [],
   "source": [
    "print(max([max(i['initial'].get_counts().values()) / 1024 for i in results]))\n",
    "print(max([max(i['final'].get_counts().values()) / 1024 for i in results]))"
   ]
  },
  {
   "cell_type": "code",
   "execution_count": null,
   "metadata": {},
   "outputs": [],
   "source": [
    "init = max([max(i['initial'].get_counts().values()) / 1024 for i in results])\n",
    "final = max([max(i['final'].get_counts().values()) / 1024 for i in results])\n",
    "\n",
    "((final - init) / init + 1) * init\n"
   ]
  },
  {
   "cell_type": "code",
   "execution_count": 38,
   "metadata": {},
   "outputs": [
    {
     "data": {
      "text/html": [
       "<pre style=\"word-wrap: normal;white-space: pre;background: #fff0;line-height: 1.1;font-family: &quot;Courier New&quot;,Courier,monospace\">     ┌───┐      ░            ░ ┌───┐\n",
       "q_0: ┤ H ├──────░───■────────░─┤ H ├\n",
       "     ├───┤      ░   │        ░ ├───┤\n",
       "q_1: ┤ H ├──────░───┼────────░─┤ H ├\n",
       "     ├───┤      ░   │        ░ ├───┤\n",
       "q_2: ┤ H ├──────░───┼────────░─┤ H ├\n",
       "     ├───┤      ░   │        ░ ├───┤\n",
       "q_3: ┤ H ├──────░───┼────■───░─┤ H ├\n",
       "     ├───┤┌───┐ ░ ┌─┴─┐┌─┴─┐ ░ └───┘\n",
       "q_4: ┤ H ├┤ Z ├─░─┤ X ├┤ X ├─░──────\n",
       "     └───┘└───┘ ░ └───┘└───┘ ░      \n",
       "c: 4/═══════════════════════════════\n",
       "                                    </pre>"
      ],
      "text/plain": [
       "     ┌───┐      ░            ░ ┌───┐\n",
       "q_0: ┤ H ├──────░───■────────░─┤ H ├\n",
       "     ├───┤      ░   │        ░ ├───┤\n",
       "q_1: ┤ H ├──────░───┼────────░─┤ H ├\n",
       "     ├───┤      ░   │        ░ ├───┤\n",
       "q_2: ┤ H ├──────░───┼────────░─┤ H ├\n",
       "     ├───┤      ░   │        ░ ├───┤\n",
       "q_3: ┤ H ├──────░───┼────■───░─┤ H ├\n",
       "     ├───┤┌───┐ ░ ┌─┴─┐┌─┴─┐ ░ └───┘\n",
       "q_4: ┤ H ├┤ Z ├─░─┤ X ├┤ X ├─░──────\n",
       "     └───┘└───┘ ░ └───┘└───┘ ░      \n",
       "c: 4/═══════════════════════════════\n",
       "                                    "
      ]
     },
     "execution_count": 38,
     "metadata": {},
     "output_type": "execute_result"
    }
   ],
   "source": [
    "results[i - 1]['circuit'].draw()"
   ]
  },
  {
   "cell_type": "code",
   "execution_count": null,
   "metadata": {},
   "outputs": [],
   "source": []
  }
 ],
 "metadata": {
  "kernelspec": {
   "display_name": "Python 3",
   "language": "python",
   "name": "python3"
  },
  "language_info": {
   "codemirror_mode": {
    "name": "ipython",
    "version": 3
   },
   "file_extension": ".py",
   "mimetype": "text/x-python",
   "name": "python",
   "nbconvert_exporter": "python",
   "pygments_lexer": "ipython3",
   "version": "3.8.3"
  }
 },
 "nbformat": 4,
 "nbformat_minor": 4
}

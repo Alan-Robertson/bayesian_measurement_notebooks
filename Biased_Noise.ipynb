{
 "cells": [
  {
   "cell_type": "markdown",
   "id": "seven-slovak",
   "metadata": {},
   "source": [
    "## Biased Noise ##\n",
    "This notebook was used for constructing and testing biased and correlated noise channels "
   ]
  },
  {
   "cell_type": "code",
   "execution_count": 1,
   "id": "sporting-naples",
   "metadata": {},
   "outputs": [],
   "source": [
    "from qiskit import QuantumCircuit, execute\n",
    "from qiskit import IBMQ, Aer\n",
    "from qiskit.visualization import plot_histogram\n",
    "from qiskit.providers.aer.noise import NoiseModel\n",
    "import qiskit.providers.aer.noise as noise\n"
   ]
  },
  {
   "cell_type": "code",
   "execution_count": 2,
   "id": "double-conducting",
   "metadata": {},
   "outputs": [],
   "source": [
    "import numpy as np\n",
    "import matplotlib.pyplot as plt"
   ]
  },
  {
   "cell_type": "markdown",
   "id": "logical-middle",
   "metadata": {},
   "source": [
    "This function constructs an error channel that can exhibit both multi-qubit correlated errors and biased errors with a small generating description."
   ]
  },
  {
   "cell_type": "code",
   "execution_count": null,
   "id": "sustainable-canada",
   "metadata": {},
   "outputs": [],
   "source": [
    "def gen_error_probs(error_arr_c, error_arr_u, error_arr_d, n_qubits = 4, s_penalty=0.3):\n",
    "\n",
    "    probs = [[0] * (2 ** n_qubits) for _ in range(2 ** n_qubits)]\n",
    "    \n",
    "    if len(error_arr_c) != n_qubits + 1:\n",
    "        raise Exception(\"Incorrect Error Array\")\n",
    "    \n",
    "    if len(error_arr_u) != n_qubits + 1:\n",
    "        raise Exception(\"Incorrect Error Array\")\n",
    "        \n",
    "        \n",
    "    if len(error_arr_d) != n_qubits + 1:\n",
    "        raise Exception(\"Incorrect Error Array\")\n",
    "    \n",
    "    for row in range(2 ** n_qubits):\n",
    "        row_str = bin(row)[2:].zfill(n_qubits)\n",
    "\n",
    "\n",
    "        for col in range(2 ** n_qubits):\n",
    "            col_str = bin(col)[2:].zfill(n_qubits)\n",
    "\n",
    "            diff_str = [i - j for i, j in zip(list(map(int, row_str)), list(map(int, col_str)))]   \n",
    "            \n",
    "            #probs[row][col] -= s_penalty * sum(1 if i == 1 else 0 for i in row_str)\n",
    "            \n",
    "            probs[row][col] += error_arr_u[sum(1 if i == -1 else 0 for i in diff_str)]\n",
    "            probs[row][col] += error_arr_d[sum(1 if i == 1 else 0 for i in diff_str)]\n",
    "            probs[row][col] += error_arr_c[n_qubits - sum(1 if i == 0 else 0 for i in diff_str)]\n",
    "            \n",
    "            probs[row][col] = max(0, probs[row][col])\n",
    "            \n",
    "    #Normalise rows, we can then do arbitrary scaling factors in the error arr\n",
    "    for row, _ in enumerate(probs):\n",
    "        np_row = np.array(probs[row])\n",
    "        if sum(np_row) > 0:\n",
    "            np_row = np_row / sum(np_row) \n",
    "        probs[row] = list(np_row)\n",
    "    \n",
    "    return probs"
   ]
  },
  {
   "cell_type": "markdown",
   "id": "municipal-salon",
   "metadata": {},
   "source": [
    "And here we apply a particular error channel to our output distribution"
   ]
  },
  {
   "cell_type": "code",
   "execution_count": null,
   "id": "sensitive-utility",
   "metadata": {},
   "outputs": [],
   "source": [
    "def noisy_measure(counts, probs=np.array(gen_error_probs(\n",
    "        [0,3,3,1000], # Const\n",
    "        [0,1,2,3], # 0 -> 1\n",
    "        [0,9,16,25] # 1 -> 0\n",
    "        )),\n",
    "        n_qubits=3):\n",
    "    \n",
    "    #print(probs)\n",
    "\n",
    "    vec = np.zeros((2 ** n_qubits, 1))\n",
    "\n",
    "    for i in range(2 ** n_qubits):\n",
    "        try:\n",
    "            vec[i][0] = counts[str(bin(i)[2:].zfill(n_qubits))]\n",
    "        except:\n",
    "            pass\n",
    "\n",
    "    err_counts = list(map(round, list((probs @ vec).flatten())))\n",
    "    \n",
    "    counts_final = {}\n",
    "    for i in range(2 ** n_qubits):\n",
    "        i_str = bin(i)[2:].zfill(n_qubits)\n",
    "        counts_final[i_str] = err_counts[i] \n",
    "\n",
    "    return counts_final"
   ]
  },
  {
   "cell_type": "markdown",
   "id": "romantic-quick",
   "metadata": {},
   "source": [
    "Simulate (or perform) some arbitrary circuit"
   ]
  },
  {
   "cell_type": "code",
   "execution_count": 89,
   "id": "great-horizon",
   "metadata": {},
   "outputs": [],
   "source": [
    "# Simulator backend, can be replaced\n",
    "backend = Aer.get_backend(\"qasm_simulator\")\n",
    "\n",
    "# Make a circuit\n",
    "circ = QuantumCircuit(3, 3)\n",
    "\n",
    "# Perform whatever operations you want in here\n",
    "\n",
    "# circ.h(0)\n",
    "# circ.h(1)\n",
    "# circ.h(2)\n",
    "circ.x(0)\n",
    "circ.cx(0, 1)\n",
    "circ.cx(1, 2)\n",
    "\n",
    "# Measure everything\n",
    "circ.measure([0, 1, 2], [0, 1, 2])\n",
    "\n",
    "# Perform a noise simulation\n",
    "result = execute(circ,\n",
    "                 Aer.get_backend('qasm_simulator'),\n",
    "                 noise_model=noise_model,\n",
    "                 shots=100000).result()\n",
    "counts = result.get_counts(0)"
   ]
  },
  {
   "cell_type": "markdown",
   "id": "innovative-shoot",
   "metadata": {},
   "source": [
    "Apply our noisy measurement channel"
   ]
  },
  {
   "cell_type": "code",
   "execution_count": 409,
   "id": "persistent-anxiety",
   "metadata": {},
   "outputs": [],
   "source": [
    "n_qubits = 3\n",
    "probs = gen_error_probs(\n",
    "        [100,10,40,1], # Const - Controls correlation of error weights\n",
    "        [0, 4,3,3], # 1 -> 0 - Controls error biases\n",
    "        [0,-5,-5,-5] # 0 -> 1 - Controls error biases\n",
    "        )\n",
    "\n",
    "\n",
    "for line in probs:\n",
    "    for val in line:\n",
    "        print(\"%.2f \" % val, end='')\n",
    "    print()\n",
    "\n",
    "# Apply Noise\n",
    "counts_final = noisy_measure(counts, probs=probs)"
   ]
  },
  {
   "cell_type": "markdown",
   "id": "durable-condition",
   "metadata": {},
   "source": [
    "Initial Measurement Distribution"
   ]
  },
  {
   "cell_type": "code",
   "execution_count": 410,
   "id": "framed-ethiopia",
   "metadata": {},
   "outputs": [
    {
     "data": {
      "image/png": "[encoded data removed]",
      "text/plain": [
       "<Figure size 504x360 with 1 Axes>"
      ]
     },
     "execution_count": 410,
     "metadata": {},
     "output_type": "execute_result"
    }
   ],
   "source": [
    "plot_histogram(counts)"
   ]
  },
  {
   "cell_type": "markdown",
   "id": "based-wealth",
   "metadata": {},
   "source": [
    "Errored Measurement Distribution"
   ]
  },
  {
   "cell_type": "code",
   "execution_count": 411,
   "id": "entitled-ranch",
   "metadata": {},
   "outputs": [
    {
     "data": {
      "image/png": "[encoded data removed]",
      "text/plain": [
       "<Figure size 504x360 with 1 Axes>"
      ]
     },
     "execution_count": 411,
     "metadata": {},
     "output_type": "execute_result"
    }
   ],
   "source": [
    "plot_histogram(counts_final)"
   ]
  }
 ],
 "metadata": {
  "kernelspec": {
   "display_name": "Python 3",
   "language": "python",
   "name": "python3"
  },
  "language_info": {
   "codemirror_mode": {
    "name": "ipython",
    "version": 3
   },
   "file_extension": ".py",
   "mimetype": "text/x-python",
   "name": "python",
   "nbconvert_exporter": "python",
   "pygments_lexer": "ipython3",
   "version": "3.8.3"
  }
 },
 "nbformat": 4,
 "nbformat_minor": 5
}

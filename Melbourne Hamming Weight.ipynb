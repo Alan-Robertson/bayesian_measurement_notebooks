{
 "cells": [
  {
   "cell_type": "code",
   "execution_count": 16,
   "metadata": {},
   "outputs": [
    {
     "name": "stderr",
     "output_type": "stream",
     "text": [
      "ibmqfactory.load_account:WARNING:2020-08-21 16:16:26,610: Credentials are already in use. The existing account in the session will be replaced.\n"
     ]
    }
   ],
   "source": [
    "import matplotlib.pyplot as plt\n",
    "import seaborn as sbs\n",
    "\n",
    "import random\n",
    "import math\n",
    "import numpy as np\n",
    "from numpy import array\n",
    "\n",
    "import copy\n",
    "\n",
    "\n",
    "import sys, os, time\n",
    "\n",
    "from qinfer import LiuWestResampler\n",
    "from qinfer import utils\n",
    "\n",
    "from qiskit import IBMQ\n",
    "from qiskit import QuantumCircuit, execute, Aer\n",
    "from qiskit.compiler import transpile\n",
    "from qiskit.transpiler import PassManager\n",
    "\n",
    "IBMQ.load_account()\n",
    "\n",
    "from qinfer import FiniteOutcomeModel, DifferentiableModel\n",
    "from qinfer.smc import SMCUpdater\n",
    "\n",
    "sbs.set(style=\"darkgrid\")\n",
    "\n",
    "import matplotlib.lines as mlines\n",
    "%matplotlib inline"
   ]
  },
  {
   "cell_type": "code",
   "execution_count": 4,
   "metadata": {},
   "outputs": [],
   "source": [
    "def design_circuit(n_qubits, inv_arr):\n",
    "    circuit = QuantumCircuit(n_qubits, n_qubits)\n",
    "    for i, element in enumerate(inv_arr):\n",
    "        if element == 1:\n",
    "            circuit.barrier(i)\n",
    "            circuit.x(i)\n",
    "            circuit.barrier(i)\n",
    "    \n",
    "    circuit.measure(list(range(n_qubits)), list(range(n_qubits)))\n",
    "    return circuit"
   ]
  },
  {
   "cell_type": "code",
   "execution_count": 8,
   "metadata": {},
   "outputs": [
    {
     "name": "stdout",
     "output_type": "stream",
     "text": [
      "[0 0 0 0 0 0 0 0 0 0 0 0 0 0 0]\n",
      "[0 0 0 0 0 0 0 0 0 0 0 0 0 0 1]\n",
      "[0 0 0 0 0 0 0 0 0 0 0 0 0 1 0]\n",
      "[0 0 0 0 0 0 0 0 0 0 0 0 0 1 1]\n",
      "[0 0 0 0 0 0 0 0 0 0 0 0 1 0 0]\n",
      "[0 0 0 0 0 0 0 0 0 0 0 0 1 0 1]\n",
      "[0 0 0 0 0 0 0 0 0 0 0 0 1 1 0]\n",
      "[0 0 0 0 0 0 0 0 0 0 0 0 1 1 1]\n",
      "[0 0 0 0 0 0 0 0 0 0 0 1 0 0 0]\n",
      "[0 0 0 0 0 0 0 0 0 0 0 1 0 0 1]\n",
      "[0 0 0 0 0 0 0 0 0 0 0 1 0 1 0]\n",
      "[0 0 0 0 0 0 0 0 0 0 0 1 0 1 1]\n",
      "[0 0 0 0 0 0 0 0 0 0 0 1 1 0 0]\n",
      "[0 0 0 0 0 0 0 0 0 0 0 1 1 0 1]\n",
      "[0 0 0 0 0 0 0 0 0 0 0 1 1 1 0]\n",
      "[0 0 0 0 0 0 0 0 0 0 0 1 1 1 1]\n",
      "[0 0 0 0 0 0 0 0 0 0 1 0 0 0 0]\n",
      "[0 0 0 0 0 0 0 0 0 0 1 0 0 0 1]\n",
      "[0 0 0 0 0 0 0 0 0 0 1 0 0 1 0]\n",
      "[0 0 0 0 0 0 0 0 0 0 1 0 0 1 1]\n",
      "[0 0 0 0 0 0 0 0 0 0 1 0 1 0 0]\n",
      "[0 0 0 0 0 0 0 0 0 0 1 0 1 0 1]\n",
      "[0 0 0 0 0 0 0 0 0 0 1 0 1 1 0]\n",
      "[0 0 0 0 0 0 0 0 0 0 1 0 1 1 1]\n",
      "[0 0 0 0 0 0 0 0 0 0 1 1 0 0 0]\n",
      "[0 0 0 0 0 0 0 0 0 0 1 1 0 0 1]\n",
      "[0 0 0 0 0 0 0 0 0 0 1 1 0 1 0]\n",
      "[0 0 0 0 0 0 0 0 0 0 1 1 0 1 1]\n",
      "[0 0 0 0 0 0 0 0 0 0 1 1 1 0 0]\n",
      "[0 0 0 0 0 0 0 0 0 0 1 1 1 0 1]\n",
      "[0 0 0 0 0 0 0 0 0 0 1 1 1 1 0]\n",
      "[0 0 0 0 0 0 0 0 0 0 1 1 1 1 1]\n",
      "[0 0 0 0 0 0 0 0 0 1 0 0 0 0 0]\n",
      "[0 0 0 0 0 0 0 0 0 1 0 0 0 0 1]\n",
      "[0 0 0 0 0 0 0 0 0 1 0 0 0 1 0]\n",
      "[0 0 0 0 0 0 0 0 0 1 0 0 0 1 1]\n",
      "[0 0 0 0 0 0 0 0 0 1 0 0 1 0 0]\n",
      "[0 0 0 0 0 0 0 0 0 1 0 0 1 0 1]\n",
      "[0 0 0 0 0 0 0 0 0 1 0 0 1 1 0]\n",
      "[0 0 0 0 0 0 0 0 0 1 0 0 1 1 1]\n",
      "[0 0 0 0 0 0 0 0 0 1 0 1 0 0 0]\n",
      "[0 0 0 0 0 0 0 0 0 1 0 1 0 0 1]\n",
      "[0 0 0 0 0 0 0 0 0 1 0 1 0 1 0]\n",
      "[0 0 0 0 0 0 0 0 0 1 0 1 0 1 1]\n",
      "[0 0 0 0 0 0 0 0 0 1 0 1 1 0 0]\n",
      "[0 0 0 0 0 0 0 0 0 1 0 1 1 0 1]\n"
     ]
    },
    {
     "name": "stderr",
     "output_type": "stream",
     "text": [
      "Future exception was never retrieved\n",
      "future: <Future finished exception=ConnectionClosed('WebSocket connection is closed: code = 4002 (private use), no reason')>\n",
      "websockets.exceptions.ConnectionClosed: WebSocket connection is closed: code = 4002 (private use), no reason\n"
     ]
    },
    {
     "name": "stdout",
     "output_type": "stream",
     "text": [
      "[0 0 0 0 0 0 0 0 0 1 0 1 1 1 0]\n",
      "[0 0 0 0 0 0 0 0 0 1 0 1 1 1 1]\n",
      "[0 0 0 0 0 0 0 0 0 1 1 0 0 0 0]\n",
      "[0 0 0 0 0 0 0 0 0 1 1 0 0 0 1]\n",
      "[0 0 0 0 0 0 0 0 0 1 1 0 0 1 0]\n",
      "[0 0 0 0 0 0 0 0 0 1 1 0 0 1 1]\n",
      "[0 0 0 0 0 0 0 0 0 1 1 0 1 0 0]\n",
      "[0 0 0 0 0 0 0 0 0 1 1 0 1 0 1]\n",
      "[0 0 0 0 0 0 0 0 0 1 1 0 1 1 0]\n",
      "[0 0 0 0 0 0 0 0 0 1 1 0 1 1 1]\n",
      "[0 0 0 0 0 0 0 0 0 1 1 1 0 0 0]\n",
      "[0 0 0 0 0 0 0 0 0 1 1 1 0 0 1]\n",
      "[0 0 0 0 0 0 0 0 0 1 1 1 0 1 0]\n",
      "[0 0 0 0 0 0 0 0 0 1 1 1 0 1 1]\n",
      "[0 0 0 0 0 0 0 0 0 1 1 1 1 0 0]\n",
      "[0 0 0 0 0 0 0 0 0 1 1 1 1 0 1]\n",
      "[0 0 0 0 0 0 0 0 0 1 1 1 1 1 0]\n",
      "[0 0 0 0 0 0 0 0 0 1 1 1 1 1 1]\n",
      "[0 0 0 0 0 0 0 0 1 0 0 0 0 0 0]\n",
      "[0 0 0 0 0 0 0 0 1 0 0 0 0 0 1]\n",
      "[0 0 0 0 0 0 0 0 1 0 0 0 0 1 0]\n",
      "[0 0 0 0 0 0 0 0 1 0 0 0 0 1 1]\n"
     ]
    },
    {
     "ename": "KeyboardInterrupt",
     "evalue": "",
     "output_type": "error",
     "traceback": [
      "\u001b[0;31m---------------------------------------------------------------------------\u001b[0m",
      "\u001b[0;31mKeyboardInterrupt\u001b[0m                         Traceback (most recent call last)",
      "\u001b[0;32m<ipython-input-8-34124b23ad43>\u001b[0m in \u001b[0;36m<module>\u001b[0;34m\u001b[0m\n\u001b[1;32m     26\u001b[0m         \u001b[0;32mcontinue\u001b[0m\u001b[0;34m\u001b[0m\u001b[0;34m\u001b[0m\u001b[0m\n\u001b[1;32m     27\u001b[0m \u001b[0;34m\u001b[0m\u001b[0m\n\u001b[0;32m---> 28\u001b[0;31m     \u001b[0mresult\u001b[0m \u001b[0;34m=\u001b[0m \u001b[0mjob\u001b[0m\u001b[0;34m.\u001b[0m\u001b[0mresult\u001b[0m\u001b[0;34m(\u001b[0m\u001b[0;34m)\u001b[0m\u001b[0;34m\u001b[0m\u001b[0;34m\u001b[0m\u001b[0m\n\u001b[0m\u001b[1;32m     29\u001b[0m \u001b[0;34m\u001b[0m\u001b[0m\n\u001b[1;32m     30\u001b[0m     \u001b[0mresults\u001b[0m\u001b[0;34m.\u001b[0m\u001b[0mappend\u001b[0m\u001b[0;34m(\u001b[0m\u001b[0;34m[\u001b[0m\u001b[0mcurr_inversion_arr\u001b[0m\u001b[0;34m,\u001b[0m \u001b[0mresult\u001b[0m\u001b[0;34m.\u001b[0m\u001b[0mget_counts\u001b[0m\u001b[0;34m(\u001b[0m\u001b[0mcircuit_op_0\u001b[0m\u001b[0;34m)\u001b[0m\u001b[0;34m]\u001b[0m\u001b[0;34m)\u001b[0m\u001b[0;34m\u001b[0m\u001b[0;34m\u001b[0m\u001b[0m\n",
      "\u001b[0;32m~/aur/miniconda3/lib/python3.8/site-packages/qiskit/providers/ibmq/job/ibmqjob.py\u001b[0m in \u001b[0;36mresult\u001b[0;34m(self, timeout, wait, partial, refresh)\u001b[0m\n\u001b[1;32m    263\u001b[0m         \"\"\"\n\u001b[1;32m    264\u001b[0m         \u001b[0;31m# pylint: disable=arguments-differ\u001b[0m\u001b[0;34m\u001b[0m\u001b[0;34m\u001b[0m\u001b[0;34m\u001b[0m\u001b[0m\n\u001b[0;32m--> 265\u001b[0;31m         if not self._wait_for_completion(timeout=timeout, wait=wait,\n\u001b[0m\u001b[1;32m    266\u001b[0m                                          required_status=(JobStatus.DONE,)):\n\u001b[1;32m    267\u001b[0m             \u001b[0;32mif\u001b[0m \u001b[0mself\u001b[0m\u001b[0;34m.\u001b[0m\u001b[0m_status\u001b[0m \u001b[0;32mis\u001b[0m \u001b[0mJobStatus\u001b[0m\u001b[0;34m.\u001b[0m\u001b[0mCANCELLED\u001b[0m\u001b[0;34m:\u001b[0m\u001b[0;34m\u001b[0m\u001b[0;34m\u001b[0m\u001b[0m\n",
      "\u001b[0;32m~/aur/miniconda3/lib/python3.8/site-packages/qiskit/providers/ibmq/job/ibmqjob.py\u001b[0m in \u001b[0;36m_wait_for_completion\u001b[0;34m(self, timeout, wait, required_status, status_queue)\u001b[0m\n\u001b[1;32m    814\u001b[0m \u001b[0;34m\u001b[0m\u001b[0m\n\u001b[1;32m    815\u001b[0m         \u001b[0;32mtry\u001b[0m\u001b[0;34m:\u001b[0m\u001b[0;34m\u001b[0m\u001b[0;34m\u001b[0m\u001b[0m\n\u001b[0;32m--> 816\u001b[0;31m             status_response = self._api.job_final_status(\n\u001b[0m\u001b[1;32m    817\u001b[0m                 self.job_id(), timeout=timeout, wait=wait, status_queue=status_queue)\n\u001b[1;32m    818\u001b[0m         \u001b[0;32mexcept\u001b[0m \u001b[0mUserTimeoutExceededError\u001b[0m\u001b[0;34m:\u001b[0m\u001b[0;34m\u001b[0m\u001b[0;34m\u001b[0m\u001b[0m\n",
      "\u001b[0;32m~/aur/miniconda3/lib/python3.8/site-packages/qiskit/providers/ibmq/api/clients/account.py\u001b[0m in \u001b[0;36mjob_final_status\u001b[0;34m(self, job_id, timeout, wait, status_queue)\u001b[0m\n\u001b[1;32m    330\u001b[0m             \u001b[0mstart_time\u001b[0m \u001b[0;34m=\u001b[0m \u001b[0mtime\u001b[0m\u001b[0;34m.\u001b[0m\u001b[0mtime\u001b[0m\u001b[0;34m(\u001b[0m\u001b[0;34m)\u001b[0m\u001b[0;34m\u001b[0m\u001b[0;34m\u001b[0m\u001b[0m\n\u001b[1;32m    331\u001b[0m             \u001b[0;32mtry\u001b[0m\u001b[0;34m:\u001b[0m\u001b[0;34m\u001b[0m\u001b[0;34m\u001b[0m\u001b[0m\n\u001b[0;32m--> 332\u001b[0;31m                 status_response = self._job_final_status_websocket(\n\u001b[0m\u001b[1;32m    333\u001b[0m                     job_id=job_id, timeout=timeout, status_queue=status_queue)\n\u001b[1;32m    334\u001b[0m             \u001b[0;32mexcept\u001b[0m \u001b[0mWebsocketTimeoutError\u001b[0m \u001b[0;32mas\u001b[0m \u001b[0mex\u001b[0m\u001b[0;34m:\u001b[0m\u001b[0;34m\u001b[0m\u001b[0;34m\u001b[0m\u001b[0m\n",
      "\u001b[0;32m~/aur/miniconda3/lib/python3.8/site-packages/qiskit/providers/ibmq/api/clients/account.py\u001b[0m in \u001b[0;36m_job_final_status_websocket\u001b[0;34m(self, job_id, timeout, status_queue)\u001b[0m\n\u001b[1;32m    382\u001b[0m             \u001b[0;32melse\u001b[0m\u001b[0;34m:\u001b[0m\u001b[0;34m\u001b[0m\u001b[0;34m\u001b[0m\u001b[0m\n\u001b[1;32m    383\u001b[0m                 \u001b[0;32mraise\u001b[0m\u001b[0;34m\u001b[0m\u001b[0;34m\u001b[0m\u001b[0m\n\u001b[0;32m--> 384\u001b[0;31m         return loop.run_until_complete(\n\u001b[0m\u001b[1;32m    385\u001b[0m             self.client_ws.get_job_status(job_id, timeout=timeout, status_queue=status_queue))\n\u001b[1;32m    386\u001b[0m \u001b[0;34m\u001b[0m\u001b[0m\n",
      "\u001b[0;32m~/aur/miniconda3/lib/python3.8/site-packages/nest_asyncio.py\u001b[0m in \u001b[0;36mrun_until_complete\u001b[0;34m(self, future)\u001b[0m\n\u001b[1;32m     87\u001b[0m                 \u001b[0mf\u001b[0m\u001b[0;34m.\u001b[0m\u001b[0m_log_destroy_pending\u001b[0m \u001b[0;34m=\u001b[0m \u001b[0;32mFalse\u001b[0m\u001b[0;34m\u001b[0m\u001b[0;34m\u001b[0m\u001b[0m\n\u001b[1;32m     88\u001b[0m             \u001b[0;32mwhile\u001b[0m \u001b[0;32mnot\u001b[0m \u001b[0mf\u001b[0m\u001b[0;34m.\u001b[0m\u001b[0mdone\u001b[0m\u001b[0;34m(\u001b[0m\u001b[0;34m)\u001b[0m\u001b[0;34m:\u001b[0m\u001b[0;34m\u001b[0m\u001b[0;34m\u001b[0m\u001b[0m\n\u001b[0;32m---> 89\u001b[0;31m                 \u001b[0mself\u001b[0m\u001b[0;34m.\u001b[0m\u001b[0m_run_once\u001b[0m\u001b[0;34m(\u001b[0m\u001b[0;34m)\u001b[0m\u001b[0;34m\u001b[0m\u001b[0;34m\u001b[0m\u001b[0m\n\u001b[0m\u001b[1;32m     90\u001b[0m                 \u001b[0;32mif\u001b[0m \u001b[0mself\u001b[0m\u001b[0;34m.\u001b[0m\u001b[0m_stopping\u001b[0m\u001b[0;34m:\u001b[0m\u001b[0;34m\u001b[0m\u001b[0;34m\u001b[0m\u001b[0m\n\u001b[1;32m     91\u001b[0m                     \u001b[0;32mbreak\u001b[0m\u001b[0;34m\u001b[0m\u001b[0;34m\u001b[0m\u001b[0m\n",
      "\u001b[0;32m~/aur/miniconda3/lib/python3.8/site-packages/nest_asyncio.py\u001b[0m in \u001b[0;36m_run_once\u001b[0;34m(self)\u001b[0m\n\u001b[1;32m    111\u001b[0m             \u001b[0;32melse\u001b[0m \u001b[0mmin\u001b[0m\u001b[0;34m(\u001b[0m\u001b[0mmax\u001b[0m\u001b[0;34m(\u001b[0m\u001b[0;36m0\u001b[0m\u001b[0;34m,\u001b[0m \u001b[0mscheduled\u001b[0m\u001b[0;34m[\u001b[0m\u001b[0;36m0\u001b[0m\u001b[0;34m]\u001b[0m\u001b[0;34m.\u001b[0m\u001b[0m_when\u001b[0m \u001b[0;34m-\u001b[0m \u001b[0mnow\u001b[0m\u001b[0;34m)\u001b[0m\u001b[0;34m,\u001b[0m \u001b[0;36m10\u001b[0m\u001b[0;34m)\u001b[0m \u001b[0;32mif\u001b[0m \u001b[0mscheduled\u001b[0m\u001b[0;31m \u001b[0m\u001b[0;31m\\\u001b[0m\u001b[0;34m\u001b[0m\u001b[0;34m\u001b[0m\u001b[0m\n\u001b[1;32m    112\u001b[0m             \u001b[0;32melse\u001b[0m \u001b[0;32mNone\u001b[0m\u001b[0;34m\u001b[0m\u001b[0;34m\u001b[0m\u001b[0m\n\u001b[0;32m--> 113\u001b[0;31m         \u001b[0mevent_list\u001b[0m \u001b[0;34m=\u001b[0m \u001b[0mself\u001b[0m\u001b[0;34m.\u001b[0m\u001b[0m_selector\u001b[0m\u001b[0;34m.\u001b[0m\u001b[0mselect\u001b[0m\u001b[0;34m(\u001b[0m\u001b[0mtimeout\u001b[0m\u001b[0;34m)\u001b[0m\u001b[0;34m\u001b[0m\u001b[0;34m\u001b[0m\u001b[0m\n\u001b[0m\u001b[1;32m    114\u001b[0m         \u001b[0mself\u001b[0m\u001b[0;34m.\u001b[0m\u001b[0m_process_events\u001b[0m\u001b[0;34m(\u001b[0m\u001b[0mevent_list\u001b[0m\u001b[0;34m)\u001b[0m\u001b[0;34m\u001b[0m\u001b[0;34m\u001b[0m\u001b[0m\n\u001b[1;32m    115\u001b[0m \u001b[0;34m\u001b[0m\u001b[0m\n",
      "\u001b[0;32m~/aur/miniconda3/lib/python3.8/selectors.py\u001b[0m in \u001b[0;36mselect\u001b[0;34m(self, timeout)\u001b[0m\n\u001b[1;32m    466\u001b[0m             \u001b[0mready\u001b[0m \u001b[0;34m=\u001b[0m \u001b[0;34m[\u001b[0m\u001b[0;34m]\u001b[0m\u001b[0;34m\u001b[0m\u001b[0;34m\u001b[0m\u001b[0m\n\u001b[1;32m    467\u001b[0m             \u001b[0;32mtry\u001b[0m\u001b[0;34m:\u001b[0m\u001b[0;34m\u001b[0m\u001b[0;34m\u001b[0m\u001b[0m\n\u001b[0;32m--> 468\u001b[0;31m                 \u001b[0mfd_event_list\u001b[0m \u001b[0;34m=\u001b[0m \u001b[0mself\u001b[0m\u001b[0;34m.\u001b[0m\u001b[0m_selector\u001b[0m\u001b[0;34m.\u001b[0m\u001b[0mpoll\u001b[0m\u001b[0;34m(\u001b[0m\u001b[0mtimeout\u001b[0m\u001b[0;34m,\u001b[0m \u001b[0mmax_ev\u001b[0m\u001b[0;34m)\u001b[0m\u001b[0;34m\u001b[0m\u001b[0;34m\u001b[0m\u001b[0m\n\u001b[0m\u001b[1;32m    469\u001b[0m             \u001b[0;32mexcept\u001b[0m \u001b[0mInterruptedError\u001b[0m\u001b[0;34m:\u001b[0m\u001b[0;34m\u001b[0m\u001b[0;34m\u001b[0m\u001b[0m\n\u001b[1;32m    470\u001b[0m                 \u001b[0;32mreturn\u001b[0m \u001b[0mready\u001b[0m\u001b[0;34m\u001b[0m\u001b[0;34m\u001b[0m\u001b[0m\n",
      "\u001b[0;31mKeyboardInterrupt\u001b[0m: "
     ]
    }
   ],
   "source": [
    "provider = IBMQ.get_provider(group='open', project='main')\n",
    "backend = provider.get_backend('ibmq_16_melbourne')\n",
    "\n",
    "results = []\n",
    "\n",
    "n_qubits = 15\n",
    "max_weight = 10\n",
    "\n",
    "range_max = 2 ** n_qubits\n",
    "for i in range(range_max):\n",
    "    # Slapshod generator for the inversion array\n",
    "    curr_inversion_arr = list(map(int, list(bin(i)[2:])))\n",
    "    curr_inversion_arr = [0] * (n_qubits - len(curr_inversion_arr)) + curr_inversion_arr\n",
    "    curr_inversion_arr = np.array(curr_inversion_arr)\n",
    "    print(curr_inversion_arr)\n",
    "    \n",
    "    if (sum(curr_inversion_arr) > max_weight):\n",
    "        continue\n",
    "    \n",
    "    circuit = design_circuit(n_qubits, curr_inversion_arr)\n",
    "    \n",
    "    try:\n",
    "        circuit_op_0 = transpile(circuit, backend=backend, optimization_level=0)\n",
    "        job = execute(circuit_op_0, backend, shots=1000)\n",
    "    except:\n",
    "        continue\n",
    "        \n",
    "    result = job.result()\n",
    "    \n",
    "    results.append([curr_inversion_arr, result.get_counts(circuit_op_0)])"
   ]
  },
  {
   "cell_type": "code",
   "execution_count": 20,
   "metadata": {},
   "outputs": [
    {
     "data": {
      "text/plain": [
       "[array([0, 0, 0, 0, 0, 0, 0, 0, 0, 0, 0, 0, 0, 0, 0]),\n",
       " {'001000000000100': 2,\n",
       "  '000000100001000': 5,\n",
       "  '011000000000000': 8,\n",
       "  '001000000001000': 14,\n",
       "  '100010000000000': 1,\n",
       "  '010000000000000': 27,\n",
       "  '000000010000010': 1,\n",
       "  '000100010000000': 1,\n",
       "  '010100000000000': 1,\n",
       "  '000001000000010': 1,\n",
       "  '000010000000000': 8,\n",
       "  '001010000000000': 5,\n",
       "  '000000000000001': 2,\n",
       "  '001000010000000': 3,\n",
       "  '000000001000000': 2,\n",
       "  '010000000001000': 3,\n",
       "  '001000000000000': 188,\n",
       "  '110000000000000': 1,\n",
       "  '001000000000010': 1,\n",
       "  '000000000000100': 1,\n",
       "  '001000010100000': 1,\n",
       "  '000000000000000': 511,\n",
       "  '000000100000100': 2,\n",
       "  '001000001000000': 1,\n",
       "  '001001000000000': 7,\n",
       "  '001000010001000': 1,\n",
       "  '001010000001000': 2,\n",
       "  '001000000010000': 4,\n",
       "  '001000100000000': 15,\n",
       "  '010001000000000': 3,\n",
       "  '001100000000000': 7,\n",
       "  '000001000001000': 2,\n",
       "  '000000000100000': 2,\n",
       "  '000000000010000': 13,\n",
       "  '100000000000000': 22,\n",
       "  '000100000000000': 14,\n",
       "  '000100100000000': 1,\n",
       "  '010000100000000': 2,\n",
       "  '000000000001001': 1,\n",
       "  '001000000100000': 1,\n",
       "  '011000000001000': 2,\n",
       "  '001101000000000': 1,\n",
       "  '001100000001000': 1,\n",
       "  '000100000001000': 1,\n",
       "  '001001000001000': 1,\n",
       "  '000000000000011': 1,\n",
       "  '000110000000000': 2,\n",
       "  '100000000001000': 2,\n",
       "  '000000000000010': 3,\n",
       "  '101000000000000': 5,\n",
       "  '000000100000000': 20,\n",
       "  '001110100000000': 1,\n",
       "  '000000010000000': 5,\n",
       "  '001000100001000': 2,\n",
       "  '011000100000000': 1,\n",
       "  '000000000001000': 50,\n",
       "  '000001000000000': 15}]"
      ]
     },
     "execution_count": 20,
     "metadata": {},
     "output_type": "execute_result"
    }
   ],
   "source": [
    "results[0]"
   ]
  },
  {
   "cell_type": "code",
   "execution_count": 10,
   "metadata": {},
   "outputs": [],
   "source": [
    "results_melb = [results[i][0], "
   ]
  },
  {
   "cell_type": "code",
   "execution_count": 11,
   "metadata": {},
   "outputs": [],
   "source": [
    "results_london = [[array([0, 0, 0, 0, 0]), {'00001': 4, '00010': 10, '11000': 1, '10000': 3, '00000': 845, '01100': 3, '00100': 115, '00110': 2, '01000': 17}], [array([0, 0, 0, 0, 1]), {'10101': 1, '00001': 1, '11000': 4, '10000': 800, '10010': 8, '00000': 72, '10100': 94, '10001': 5, '00100': 15}], [array([0, 0, 0, 1, 0]), {'01101': 1, '01110': 3, '00010': 1, '11000': 5, '10000': 1, '01010': 9, '00000': 51, '01100': 126, '00100': 17, '01001': 6, '01000': 780}], [array([0, 0, 0, 1, 1]), {'10101': 1, '01110': 2, '11010': 13, '11000': 715, '10000': 39, '11101': 1, '10100': 12, '00000': 6, '11110': 3, '01010': 4, '01100': 15, '11001': 2, '11100': 110, '01000': 77}], [array([0, 0, 1, 0, 0]), {'10100': 4, '00000': 100, '01100': 5, '00100': 871, '00101': 4, '00110': 13, '00111': 1, '01000': 2}], [array([0, 0, 1, 0, 1]), {'10101': 6, '11000': 5, '10000': 85, '10100': 805, '00000': 8, '01100': 2, '10001': 1, '00100': 77, '00101': 1, '11100': 4, '00110': 1, '10110': 5}], [array([0, 0, 1, 1, 0]), {'01101': 2, '01110': 15, '01010': 1, '10100': 1, '00000': 2, '01100': 840, '00100': 52, '01001': 1, '11100': 6, '01000': 80}], [array([0, 0, 1, 1, 1]), {'01110': 4, '11010': 3, '11000': 66, '10000': 7, '11110': 4, '10100': 45, '01100': 63, '00100': 3, '11100': 797, '10110': 2, '01000': 6}], [array([0, 1, 0, 0, 0]), {'01110': 1, '00010': 812, '10000': 1, '01010': 2, '10010': 2, '00000': 38, '00011': 6, '00100': 13, '00101': 1, '00110': 123, '00111': 1}], [array([0, 1, 0, 0, 1]), {'11010': 3, '10011': 3, '10000': 38, '00010': 74, '10010': 743, '00000': 3, '10100': 5, '01100': 1, '00100': 1, '00110': 11, '10110': 115, '01000': 3}], [array([0, 1, 0, 1, 0]), {'01111': 2, '01110': 119, '11010': 2, '11110': 1, '00010': 51, '01010': 763, '00000': 2, '01100': 2, '01001': 1, '11100': 1, '00110': 9, '01011': 5, '01000': 42}], [array([0, 1, 0, 1, 1]), {'01110': 7, '11010': 718, '11000': 49, '10000': 1, '11110': 117, '10010': 38, '00010': 3, '01010': 55, '11111': 1, '11011': 1, '11100': 3, '10110': 6, '01000': 1}], [array([0, 1, 1, 0, 0]), {'01110': 6, '00010': 78, '01010': 1, '10010': 1, '00000': 5, '10100': 1, '00011': 1, '00100': 46, '00110': 852, '10110': 5, '00111': 3, '01000': 1}], [array([0, 1, 1, 0, 1]), {'10101': 1, '01110': 2, '11010': 2, '11110': 2, '10000': 3, '00010': 4, '10010': 83, '10100': 50, '10111': 4, '01100': 2, '00100': 1, '00110': 56, '10110': 790}], [array([0, 1, 1, 1, 0]), {'01111': 6, '01101': 3, '01110': 780, '11110': 5, '00010': 1, '01010': 89, '01100': 55, '00100': 3, '11100': 2, '00110': 52, '01000': 4}], [array([0, 1, 1, 1, 1]), {'01110': 60, '11010': 70, '11000': 2, '11101': 1, '11110': 757, '10010': 5, '01010': 4, '01100': 6, '11111': 4, '11011': 2, '11100': 39, '00110': 3, '10110': 47}], [array([1, 0, 0, 0, 0]), {'00001': 782, '01101': 1, '00010': 3, '00000': 59, '00011': 22, '10001': 3, '00100': 9, '00101': 115, '01001': 4, '00111': 1, '01000': 1}], [array([1, 0, 0, 0, 1]), {'10101': 128, '00001': 64, '10011': 22, '10000': 48, '11000': 1, '10010': 1, '00000': 5, '10100': 10, '10111': 1, '10001': 697, '00011': 2, '11001': 8, '00101': 9, '01001': 2, '10110': 2}], [array([1, 0, 0, 1, 0]), {'00001': 46, '01111': 4, '01101': 133, '11000': 1, '00000': 5, '00011': 3, '10001': 2, '01100': 8, '00100': 1, '11001': 3, '00101': 10, '01001': 715, '00111': 1, '01011': 11, '01000': 57}], [array([1, 0, 0, 1, 1]), {'01101': 14, '11010': 1, '11000': 41, '10000': 5, '11101': 99, '11111': 2, '11001': 683, '11011': 7, '00101': 1, '01001': 67, '01011': 3, '10101': 10, '00001': 6, '01111': 1, '01100': 1, '10001': 50, '11100': 8, '01000': 1}], [array([1, 0, 1, 0, 0]), {'10101': 3, '00001': 93, '01101': 2, '00000': 5, '00011': 1, '10001': 3, '01100': 2, '00100': 55, '00101': 829, '01001': 2, '00111': 5}], [array([1, 0, 1, 0, 1]), {'10101': 771, '00001': 8, '01101': 1, '10011': 2, '10000': 2, '11000': 1, '10100': 48, '11101': 4, '10111': 13, '10001': 80, '00100': 2, '11001': 1, '00101': 66, '10110': 1}], [array([1, 0, 1, 1, 0]), {'10101': 2, '00001': 3, '01111': 19, '01101': 777, '11101': 8, '01100': 55, '00100': 1, '00101': 39, '01001': 88, '00111': 2, '01011': 3, '01000': 3}], [array([1, 0, 1, 1, 1]), {'01101': 63, '11010': 1, '11000': 4, '10000': 1, '11101': 736, '11111': 5, '11001': 71, '11011': 2, '00101': 6, '01001': 9, '10101': 47, '01111': 3, '10100': 3, '01100': 4, '10001': 3, '11100': 41, '01000': 1}], [array([1, 1, 0, 0, 0]), {'00001': 102, '01111': 2, '00010': 39, '10011': 4, '01010': 1, '10111': 1, '10001': 1, '00011': 709, '00101': 17, '01001': 1, '00110': 10, '00111': 109, '01011': 4}], [array([1, 1, 0, 0, 1]), {'01101': 2, '11010': 1, '10011': 679, '10000': 1, '10111': 84, '00011': 67, '11111': 1, '11011': 5, '00101': 2, '01001': 1, '00110': 1, '10101': 16, '00001': 11, '01111': 1, '00010': 2, '10010': 28, '10001': 86, '10110': 6, '00111': 6}], [array([1, 1, 0, 1, 0]), {'00001': 2, '01111': 84, '01101': 5, '01110': 4, '11010': 1, '10011': 1, '00010': 5, '01010': 49, '00011': 32, '11001': 2, '00101': 2, '01001': 47, '00111': 5, '01011': 759, '01000': 2}], [array([1, 1, 0, 1, 1]), {'01110': 3, '11010': 42, '10011': 37, '11000': 1, '11101': 8, '01010': 6, '10111': 6, '00011': 3, '11111': 101, '11001': 51, '11011': 653, '01001': 4, '01011': 64, '01111': 5, '11110': 8, '10010': 1, '10100': 1, '10001': 3, '00111': 2, '01000': 1}], [array([1, 1, 1, 0, 0]), {'00001': 5, '01111': 2, '00010': 7, '10011': 1, '10111': 1, '00011': 84, '00100': 4, '00101': 53, '00110': 47, '00111': 796}], [array([1, 1, 1, 0, 1]), {'01101': 5, '10011': 66, '10000': 1, '11101': 1, '10111': 730, '00011': 7, '11111': 4, '00101': 1, '00110': 4, '10101': 42, '01111': 2, '10010': 4, '10100': 5, '10001': 5, '10110': 51, '00111': 72}], [array([1, 1, 1, 1, 0]), {'01101': 55, '01110': 69, '11101': 3, '01010': 2, '10111': 1, '00011': 6, '11111': 2, '11011': 1, '00101': 1, '01001': 3, '00110': 3, '01011': 78, '01111': 727, '00010': 1, '01100': 4, '00111': 44}], [array([1, 1, 1, 1, 1]), {'01101': 4, '01110': 6, '11010': 1, '10011': 5, '11101': 41, '01010': 1, '10111': 36, '00011': 3, '11111': 705, '11001': 4, '11011': 66, '01011': 6, '10101': 3, '01111': 65, '11110': 44, '11100': 4, '10110': 2, '00111': 4}]]\n",
    "results_virgo = [[array([0, 0, 0, 0, 0]), {'00000': 974, '00010': 4, '00001': 4, '11000': 3, '00100': 1, '00011': 1, '01000': 4, '10000': 9}], [array([0, 0, 0, 0, 1]), {'00000': 26, '00010': 1, '10100': 4, '11000': 10, '10001': 1, '01000': 4, '10010': 8, '10000': 946}], [array([0, 0, 0, 1, 0]), {'00000': 54, '01001': 5, '11000': 12, '10000': 1, '01011': 1, '01000': 919, '01010': 6, '01100': 2}], [array([0, 0, 0, 1, 1]), {'00000': 3, '11100': 1, '11001': 4, '11011': 1, '11000': 925, '10001': 1, '01000': 23, '01010': 1, '10000': 36, '11010': 5}], [array([0, 0, 1, 0, 0]), {'00000': 21, '10100': 2, '10101': 1, '00110': 8, '00100': 954, '00101': 7, '00111': 1, '01100': 6}], [array([0, 0, 1, 0, 1]), {'00000': 1, '11100': 6, '10100': 940, '10110': 6, '10111': 1, '10101': 4, '10000': 24, '00100': 16, '10010': 1, '00110': 1}], [array([0, 0, 1, 1, 0]), {'01111': 1, '11100': 4, '11000': 1, '00100': 36, '01110': 9, '01000': 21, '01100': 919, '01101': 9}], [array([0, 0, 1, 1, 1]), {'11100': 884, '11101': 4, '10100': 28, '11000': 37, '11111': 1, '11110': 10, '00100': 3, '01000': 1, '01100': 29, '01101': 1, '11010': 2}], [array([0, 1, 0, 0, 0]), {'00000': 39, '10010': 5, '00010': 937, '00001': 3, '00101': 1, '00011': 7, '01000': 1, '01010': 3, '00110': 2, '11010': 2}], [array([0, 1, 0, 0, 1]), {'00000': 2, '00010': 31, '10110': 4, '10001': 2, '10011': 12, '10010': 911, '10000': 35, '11010': 3}], [array([0, 1, 0, 1, 0]), {'00000': 1, '01001': 1, '00010': 47, '10010': 2, '01110': 2, '00011': 1, '01000': 45, '01011': 5, '01010': 880, '00110': 5, '11010': 11}], [array([0, 1, 0, 1, 1]), {'10010': 50, '11011': 10, '10110': 5, '11000': 24, '11110': 2, '01000': 1, '01010': 30, '10000': 2, '11010': 876}], [array([0, 1, 1, 0, 0]), {'00000': 3, '00010': 26, '10110': 11, '10111': 1, '11110': 1, '00100': 45, '00101': 1, '01110': 8, '01010': 1, '00110': 895, '00111': 8}], [array([0, 1, 1, 0, 1]), {'00010': 1, '10100': 40, '10110': 871, '11111': 1, '10111': 7, '10101': 1, '10000': 1, '10011': 2, '11110': 9, '00100': 1, '10010': 38, '00110': 28}], [array([0, 1, 1, 1, 0]), {'01111': 10, '11100': 1, '00010': 3, '00110': 24, '11110': 5, '00100': 1, '01110': 896, '01000': 2, '01010': 27, '01100': 30, '00111': 1}], [array([0, 1, 1, 1, 1]), {'01111': 1, '11100': 40, '10010': 1, '10100': 2, '10110': 36, '11000': 1, '11111': 7, '10111': 1, '00110': 1, '11110': 844, '01110': 32, '01010': 1, '01100': 1, '11101': 4, '11010': 28}], [array([1, 0, 0, 0, 0]), {'00000': 16, '00101': 1, '01001': 6, '00001': 968, '11001': 1, '00011': 3, '10001': 5}], [array([1, 0, 0, 0, 1]), {'00000': 1, '01001': 1, '00001': 27, '11001': 7, '10001': 933, '10101': 2, '10011': 2, '00011': 2, '10010': 1, '10000': 24}], [array([1, 0, 0, 1, 0]), {'01001': 901, '00010': 14, '00001': 46, '11001': 7, '10001': 2, '00101': 2, '00011': 6, '01000': 11, '01011': 8, '01010': 3}], [array([1, 0, 0, 1, 1]), {'01001': 29, '00010': 2, '00001': 1, '11001': 875, '11011': 8, '11000': 23, '10001': 39, '10011': 2, '00011': 1, '01000': 1, '10010': 15, '11101': 4}], [array([1, 0, 1, 0, 0]), {'01001': 1, '11101': 1, '00010': 5, '00001': 26, '10101': 5, '00100': 17, '00101': 930, '00011': 1, '00111': 8, '01101': 6}], [array([1, 0, 1, 0, 1]), {'00001': 1, '10100': 24, '10110': 3, '10111': 3, '10001': 29, '10101': 900, '00101': 27, '10010': 4, '11101': 8, '00111': 1}], [array([1, 0, 1, 1, 0]), {'01001': 19, '01111': 15, '00001': 2, '11001': 1, '10101': 1, '00100': 2, '01000': 1, '01101': 864, '00111': 7, '00110': 20, '00101': 39, '01110': 2, '00011': 1, '01010': 3, '01100': 17, '11101': 6}], [array([1, 0, 1, 1, 1]), {'01001': 1, '11100': 20, '11001': 22, '10110': 17, '11000': 1, '11111': 17, '10101': 53, '10011': 1, '01101': 25, '11010': 3, '11011': 2, '10111': 4, '10001': 1, '11110': 4, '00101': 5, '00110': 1, '11101': 823}], [array([1, 1, 0, 0, 0]), {'00000': 1, '00010': 17, '00001': 59, '11011': 2, '10011': 2, '00011': 908, '01011': 10, '01101': 1}], [array([1, 1, 0, 0, 1]), {'00000': 1, '00010': 2, '00001': 3, '11001': 1, '11011': 4, '10001': 55, '10011': 863, '00011': 45, '01011': 1, '10010': 21, '10000': 3, '11010': 1}], [array([1, 1, 0, 1, 0]), {'01001': 50, '01111': 4, '00010': 2, '00001': 3, '11011': 3, '10011': 2, '00011': 47, '01000': 1, '01011': 868, '01010': 18, '00111': 2}], [array([1, 1, 0, 1, 1]), {'01001': 1, '11001': 49, '11011': 848, '11000': 1, '11111': 1, '10111': 1, '10001': 4, '10011': 43, '11110': 1, '00011': 1, '01011': 31, '10010': 1, '11010': 18}], [array([1, 1, 1, 0, 0]), {'01111': 24, '00001': 3, '11111': 1, '10111': 6, '10011': 1, '00100': 2, '00101': 29, '00011': 22, '01011': 2, '00111': 885, '00110': 24, '01101': 1}], [array([1, 1, 1, 0, 1]), {'01111': 3, '11011': 1, '10110': 24, '11111': 7, '10111': 872, '10101': 40, '10011': 26, '11110': 1, '00101': 2, '00111': 24}], [array([1, 1, 1, 1, 0]), {'01001': 2, '01111': 877, '11011': 2, '11111': 5, '10111': 2, '00100': 1, '00101': 3, '01110': 18, '00011': 1, '01011': 26, '01010': 1, '01101': 33, '00111': 29}], [array([1, 1, 1, 1, 1]), {'01111': 34, '11100': 1, '10100': 1, '11001': 2, '11011': 30, '10110': 1, '11111': 824, '10111': 60, '10101': 5, '10011': 1, '11110': 14, '00011': 1, '00111': 4, '11010': 2, '11101': 20}]]\n"
   ]
  },
  {
   "cell_type": "code",
   "execution_count": 12,
   "metadata": {},
   "outputs": [],
   "source": [
    "def bootstrap(results, target=0, samples=900, repeats=1000):\n",
    "    sampler = []\n",
    "    target = np.array(list((map(int, list(reversed(''.join(list(map(str, results[0])))))))))\n",
    "    results = results[1:]\n",
    "    for i in results:\n",
    "        for r in i:\n",
    "            for _ in range(i[r]):\n",
    "                sampler.append(r)\n",
    "            \n",
    "    probs = []\n",
    "        \n",
    "    for _ in range(repeats):\n",
    "        tally = [0,0]\n",
    "        for i in range(samples):\n",
    "            sample = sampler[random.randint(0, len(sampler) - 1)]\n",
    "            sample = np.array(list(map(int, list(sample))))\n",
    "            \n",
    "            tally[0 if (target == sample).all() else 1] += 1\n",
    "        \n",
    "        probs.append(tally[0] / samples)\n",
    "    return probs"
   ]
  },
  {
   "cell_type": "code",
   "execution_count": 14,
   "metadata": {},
   "outputs": [],
   "source": [
    "n_repeats = 50\n",
    "\n",
    "x_coords_l = np.array([[sum(np.array(results_london[i][0]))] * n_repeats for i in range(len(results_london))]).flatten()\n",
    "y_coords_l = 1 - np.array([bootstrap(results_london[i], target = 0, samples=100, repeats=n_repeats) for i in range(len(results_london))]).flatten()\n",
    "\n",
    "x_coords_v = np.array([[sum(np.array(results_virgo[i][0]))] * n_repeats for i in range(len(results_virgo))]).flatten()\n",
    "y_coords_v = 1 - np.array([bootstrap(results_virgo[i], target = 0, samples=100, repeats=n_repeats) for i in range(len(results_virgo))]).flatten()\n",
    "\n",
    "x_coords_m = np.array([[sum(np.array(results_melb[i][0]))] * n_repeats for i in range(len(results_melb))]).flatten()\n",
    "y_coords_m = 1 - np.array([bootstrap(results_melb[i], target = 0, samples=100, repeats=n_repeats) for i in range(len(results_melb))]).flatten()\n",
    "\n"
   ]
  },
  {
   "cell_type": "code",
   "execution_count": 18,
   "metadata": {},
   "outputs": [
    {
     "data": {
      "image/png": "[encoded data removed]",
      "text/plain": [
       "<Figure size 432x288 with 1 Axes>"
      ]
     },
     "metadata": {
      "needs_background": "light"
     },
     "output_type": "display_data"
    }
   ],
   "source": [
    "fig = plt.figure()\n",
    "ax = sbs.pointplot(x_coords_l, y_coords_l, ci=100, label=\"IBMQ London\", \n",
    "                   color=sbs.xkcd_rgb[\"pale red\"], marker='.', markersize=7)\n",
    "\n",
    "ax.lines[0].set_marker('^')\n",
    "ax.lines[0].set_linestyle('--')\n",
    "\n",
    "sbs.pointplot(x_coords_v, y_coords_v, ci=100, label=\"IBMQ Virgo\", color=sbs.xkcd_rgb[\"blue\"], ax=ax, markersize=7)\n",
    "\n",
    "\n",
    "sbs.pointplot(x_coords_m, y_coords_m, ci=100, label=\"IBMQ Virgo\", color=sbs.xkcd_rgb[\"blue\"], ax=ax, markersize=7)\n",
    "\n",
    "\n",
    "\n",
    "plt.xlabel(\"Hamming Weight of 5-bit states\")\n",
    "plt.ylabel(\"Error Rate\")\n",
    "\n",
    "virgo = mlines.Line2D([], [], color=sbs.xkcd_rgb[\"pale red\"], marker='.', linestyle='--',\n",
    "                          markersize=10, label='IBMQ London')\n",
    "london = mlines.Line2D([], [], color='blue', marker='.',\n",
    "                          markersize=10, label='IBMQ Virgo')\n",
    "melb = mlines.Line2D([], [], color='blue', marker='.',\n",
    "                          markersize=10, label='IBMQ Virgo')\n",
    "\n",
    "plt.legend(handles=[virgo, london])\n",
    "\n",
    "plt.title(\"Measurement Hamming Weight vs Error Rate\")\n",
    "plt.savefig('figs/error_rates_hamming.pdf')"
   ]
  },
  {
   "cell_type": "code",
   "execution_count": null,
   "metadata": {},
   "outputs": [],
   "source": []
  }
 ],
 "metadata": {
  "kernelspec": {
   "display_name": "Python 3",
   "language": "python",
   "name": "python3"
  },
  "language_info": {
   "codemirror_mode": {
    "name": "ipython",
    "version": 3
   },
   "file_extension": ".py",
   "mimetype": "text/x-python",
   "name": "python",
   "nbconvert_exporter": "python",
   "pygments_lexer": "ipython3",
   "version": "3.8.3"
  }
 },
 "nbformat": 4,
 "nbformat_minor": 4
}

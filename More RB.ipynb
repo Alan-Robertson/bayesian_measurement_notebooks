{
 "cells": [
  {
   "cell_type": "markdown",
   "metadata": {},
   "source": [
    "## More Randomised Benchmarking ##"
   ]
  },
  {
   "cell_type": "code",
   "execution_count": null,
   "metadata": {},
   "outputs": [],
   "source": [
    "import random\n",
    "import math\n",
    "import numpy as np\n",
    "\n",
    "import copy\n",
    "\n",
    "\n",
    "import sys, os, time\n",
    "\n",
    "from qinfer import LiuWestResampler\n",
    "from qinfer import utils\n",
    "\n",
    "from qiskit import IBMQ\n",
    "from qiskit import QuantumCircuit, execute, Aer\n",
    "import qiskit.ignis.verification.randomized_benchmarking as rb\n",
    "\n",
    "IBMQ.load_account()\n"
   ]
  },
  {
   "cell_type": "code",
   "execution_count": null,
   "metadata": {},
   "outputs": [],
   "source": [
    "import matplotlib.pyplot as plt\n",
    "import seaborn as sbs\n",
    "\n",
    "import smc_linear as smc\n",
    "Distribution = smc.Distribution\n",
    "\n",
    "sbs.set(style=\"darkgrid\")\n",
    "\n",
    "%matplotlib inline"
   ]
  },
  {
   "cell_type": "markdown",
   "metadata": {},
   "source": [
    "Applies an inv arr string to an existing circuit"
   ]
  },
  {
   "cell_type": "code",
   "execution_count": null,
   "metadata": {},
   "outputs": [],
   "source": [
    "def design_circuit(n_qubits, inv_arr, circuit=None):\n",
    "    \n",
    "    if circuit is None:\n",
    "        circuit = QuantumCircuit(n_qubits, n_qubits)\n",
    "    \n",
    "    for i, element in enumerate(inv_arr):\n",
    "        if element == 1:\n",
    "            circuit.x(i)\n",
    "    \n",
    "    circuit.measure(list(range(n_qubits)), list(range(n_qubits)))\n",
    "    return circuit"
   ]
  },
  {
   "cell_type": "markdown",
   "metadata": {},
   "source": [
    "Construct a random circuit "
   ]
  },
  {
   "cell_type": "code",
   "execution_count": null,
   "metadata": {},
   "outputs": [],
   "source": [
    "def random_circuit(n_qubits):\n",
    "    length_vector = [1]\n",
    "    n_seeds = 1\n",
    "    \n",
    "    initial_list = list(range(0, n_qubits))    \n",
    "    rb_pattern = []\n",
    "    \n",
    "    while len(initial_list) > 1:\n",
    "        sample = random.sample(initial_list, 2)\n",
    "        [initial_list.remove(i) for i in sample]\n",
    "        rb_pattern.append(sample)\n",
    "    \n",
    "    if len(initial_list) == 1:\n",
    "        rb_pattern.append([initial_list[0]])\n",
    "    \n",
    "    \n",
    "    circuit, xdata = rb.randomized_benchmarking_seq(\n",
    "        length_vector = [1],\n",
    "        nseeds = 1,\n",
    "        rb_pattern = rb_pattern\n",
    "        )\n",
    "    circuit = circuit[0][0]\n",
    "    cregs = circuit.cregs\n",
    "    \n",
    "    circuit.remove_final_measurements(inplace=True)\n",
    "    circuit.cregs = cregs\n",
    "    \n",
    "    for i in range(n_qubits):\n",
    "        circuit.barrier(i)\n",
    "        if (round(random.random())):\n",
    "            circuit.x(i)\n",
    "            circuit.barrier(i)\n",
    "    \n",
    "    return circuit"
   ]
  },
  {
   "cell_type": "code",
   "execution_count": null,
   "metadata": {
    "scrolled": false
   },
   "outputs": [],
   "source": [
    "provider = IBMQ.get_provider(group='open', project='main')\n",
    "backend = provider.get_backend('ibmq_16_melbourne')\n",
    "\n",
    "n_qubits = 15\n",
    "\n",
    "n_measurements = 200\n",
    "n_experiments = 20\n",
    "n_points = 2000\n",
    "\n",
    "results = []\n",
    "\n",
    "for i in range(n_experiments):    \n",
    "\n",
    "    result_data = {}\n",
    "    \n",
    "    circuit = random_circuit(n_qubits)\n",
    "\n",
    "    result_data['circuit'] = circuit\n",
    "    result_data['risk'] = []\n",
    "    result_data['mean'] = []\n",
    "    result_data['len'] = len(circuit)\n",
    "    \n",
    "    dist = Distribution(n_points=n_points, n_qubits=n_qubits)\n",
    "\n",
    "    for _ in range(n_measurements):\n",
    "        \n",
    "        inversion_arr = dist.next_experiment()       \n",
    "        \n",
    "        tmp_circuit = copy.deepcopy(circuit)\n",
    "        tmp_circuit = design_circuit(n_qubits, inversion_arr, circuit=tmp_circuit)\n",
    "\n",
    "        job = execute(tmp_circuit, backend, shots=1)\n",
    "        \n",
    "        result = job.result()\n",
    "        outcome = list(map(int, list(list(result.get_counts(circuit).keys())[0])))     \n",
    "        \n",
    "        print(\"Measurements: {} Outcome: {}\".format(inversion_arr, outcome))\n",
    "        dist.measure(outcome, inversion_arr)\n",
    "        \n",
    "        result_data['risk'].append(dist.calc_bayes_risk())\n",
    "        result_data['mean'].append(dist.calc_bayes_mean())\n",
    "\n",
    "    \n",
    "    result_data['distrubtion'] = dist\n",
    "    results.append(result_data)\n"
   ]
  },
  {
   "cell_type": "code",
   "execution_count": 29,
   "metadata": {},
   "outputs": [
    {
     "data": {
      "text/plain": [
       "[<matplotlib.lines.Line2D at 0x7f2c4bca6910>]"
      ]
     },
     "execution_count": 29,
     "metadata": {},
     "output_type": "execute_result"
    },
    {
     "data": {
      "image/png": "[encoded data removed]",
      "text/plain": [
       "<Figure size 432x288 with 1 Axes>"
      ]
     },
     "metadata": {
      "needs_background": "light"
     },
     "output_type": "display_data"
    }
   ],
   "source": [
    "plt.plot(results[0]['risk'])"
   ]
  },
  {
   "cell_type": "code",
   "execution_count": null,
   "metadata": {},
   "outputs": [],
   "source": [
    "init_res = []\n",
    "final_res = []\n",
    "for res in results:\n",
    "    \n",
    "    init_circuit = copy.deepcopy(res['circuit'])\n",
    "    init_circuit = design_circuit(n_qubits, [0] * n_qubits, circuit=init_circuit)\n",
    "    \n",
    "    inv_arr = res['mean'][-1]\n",
    "    \n",
    "    final_circuit = copy.deepcopy(i['circuit'])\n",
    "    final_circuit = design_circuit(n_qubits, inv_arr, circuit=final_circuit)\n",
    "    \n",
    "    init_job = execute(init_circuit, backend, shots=4096)\n",
    "    init_result = init_job.result()\n",
    "    init_res.append(init_result.get_counts(circuit))\n",
    "    \n",
    "    final_job = execute(final_circuit, backend, shots=4096)\n",
    "    final_result = final_job.result()\n",
    "    final_res.append(final_result.get_counts(circuit))\n",
    "    "
   ]
  },
  {
   "cell_type": "code",
   "execution_count": null,
   "metadata": {},
   "outputs": [],
   "source": [
    "def bootstrap(result, samples=900, repeats=1000):\n",
    "    sampler = []\n",
    "    for i in result:\n",
    "        for _ in range(result[i]):\n",
    "            sampler.append(int(i))\n",
    "            \n",
    "    target = int(max(result.keys(), key=lambda key: result[key]))\n",
    "    \n",
    "    probs = []\n",
    "    \n",
    "    for _ in range(repeats):\n",
    "        tally = 0\n",
    "        for i in range(samples):\n",
    "            sample = sampler[random.randint(0, len(sampler) - 1)]\n",
    "            \n",
    "            if sample == target:\n",
    "                tally += 1\n",
    "        \n",
    "        probs.append(tally / samples)\n",
    "    return probs"
   ]
  },
  {
   "cell_type": "code",
   "execution_count": null,
   "metadata": {},
   "outputs": [],
   "source": [
    "results[0]['circuit'].draw()"
   ]
  },
  {
   "cell_type": "code",
   "execution_count": null,
   "metadata": {},
   "outputs": [],
   "source": [
    "samples = 64\n",
    "n_repeats = 64\n",
    "\n",
    "x_coords = np.array([[len(res['circuit'])] * n_repeats for res in results]).flatten()\n",
    "y_coords_init = 1 - np.array([bootstrap(res, samples=samples, repeats=n_repeats) for res in init_res]).flatten()\n",
    "\n",
    "\n",
    "y_coords_final = 1 - np.array([bootstrap(res, samples=samples, repeats=n_repeats) for res in final_res]).flatten()\n",
    "\n",
    "sbs.lineplot(x_coords, y_coords_init)\n",
    "sbs.lineplot(x_coords, y_coords_final)\n",
    "\n",
    "plt.ylabel('Error Rate')\n",
    "plt.xlabel('Circuit Depth')"
   ]
  }
 ],
 "metadata": {
  "kernelspec": {
   "display_name": "Python 3",
   "language": "python",
   "name": "python3"
  },
  "language_info": {
   "codemirror_mode": {
    "name": "ipython",
    "version": 3
   },
   "file_extension": ".py",
   "mimetype": "text/x-python",
   "name": "python",
   "nbconvert_exporter": "python",
   "pygments_lexer": "ipython3",
   "version": "3.8.3"
  }
 },
 "nbformat": 4,
 "nbformat_minor": 4
}

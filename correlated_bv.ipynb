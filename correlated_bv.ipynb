{
 "cells": [
  {
   "cell_type": "code",
   "execution_count": 61,
   "id": "ffd37579",
   "metadata": {},
   "outputs": [
    {
     "name": "stderr",
     "output_type": "stream",
     "text": [
      "/home/alan/aur/miniconda3/lib/python3.8/site-packages/qiskit/providers/ibmq/ibmqfactory.py:192: UserWarning: Timestamps in IBMQ backend properties, jobs, and job results are all now in local time instead of UTC.\n",
      "  warnings.warn('Timestamps in IBMQ backend properties, jobs, and job results '\n",
      "ibmqfactory.load_account:WARNING:2021-05-29 06:55:42,691: Credentials are already in use. The existing account in the session will be replaced.\n"
     ]
    }
   ],
   "source": [
    "import random\n",
    "import math\n",
    "import numpy as np\n",
    "\n",
    "import copy\n",
    "\n",
    "import sys, os, time\n",
    "\n",
    "from qinfer import LiuWestResampler\n",
    "from qinfer import utils\n",
    "\n",
    "from qiskit import IBMQ\n",
    "from qiskit import transpile, QuantumRegister, assemble\n",
    "from qiskit import QuantumCircuit, execute, Aer, QuantumCircuit\n",
    "from qiskit.ignis.mitigation.measurement import complete_meas_cal, CompleteMeasFitter\n",
    "import qiskit.ignis.verification.randomized_benchmarking as rb\n",
    "import matplotlib.lines as mlines\n",
    "\n",
    "IBMQ.load_account()\n",
    "import warnings\n",
    "warnings.filterwarnings(\"ignore\", message=\"numpy.dtype size changed\")\n",
    "warnings.filterwarnings(\"ignore\", message=\"numpy.ufunc size changed\")"
   ]
  },
  {
   "cell_type": "code",
   "execution_count": 2,
   "id": "54029eea",
   "metadata": {},
   "outputs": [],
   "source": [
    "import matplotlib.pyplot as plt\n",
    "import seaborn as sbs\n",
    "\n",
    "import smc_linear as smc\n",
    "Distribution = smc.Distribution\n",
    "\n",
    "sbs.set(style=\"darkgrid\")\n",
    "\n",
    "%matplotlib inline"
   ]
  },
  {
   "cell_type": "code",
   "execution_count": 3,
   "id": "4367b22e",
   "metadata": {},
   "outputs": [],
   "source": [
    "def design_circuit(n_qubits, inv_arr, circuit=None):\n",
    "    \n",
    "    if circuit is None:\n",
    "        circuit = QuantumCircuit(n_qubits, n_qubits)\n",
    "    \n",
    "    for i, element in enumerate(inv_arr):\n",
    "        if element == 1:\n",
    "            circuit.x(i)\n",
    "    \n",
    "    circuit.measure(list(range(n_qubits)), list(range(n_qubits)))\n",
    "    return circuit"
   ]
  },
  {
   "cell_type": "code",
   "execution_count": 4,
   "id": "ab007a23",
   "metadata": {},
   "outputs": [],
   "source": [
    "def bv_circuit(bv_string, n_qubits):\n",
    "        bv_circuit = QuantumCircuit(n_qubits, n_qubits - 1)\n",
    "        \n",
    "        for i in range(n_qubits):\n",
    "            bv_circuit.h(i)\n",
    "            \n",
    "        bv_circuit.z(n_qubits - 1)\n",
    "        \n",
    "        bv_circuit.barrier()\n",
    "        \n",
    "        for i in range(n_qubits -1):\n",
    "            if bv_string[i] == '1':\n",
    "                bv_circuit.cx(i, n_qubits - 1)\n",
    "        \n",
    "        \n",
    "        bv_circuit.barrier()\n",
    "        \n",
    "        for i in range(n_qubits - 1):\n",
    "            bv_circuit.h(i)\n",
    "        \n",
    "        return bv_circuit"
   ]
  },
  {
   "cell_type": "code",
   "execution_count": 5,
   "id": "5475b70e",
   "metadata": {},
   "outputs": [],
   "source": [
    "def gen_error_probs(error_arr_c, error_arr_u, error_arr_d, n_qubits = 4, s_penalty=0.3):\n",
    "\n",
    "    probs = [[0] * (2 ** n_qubits) for _ in range(2 ** n_qubits)]\n",
    "    \n",
    "    if len(error_arr_c) != n_qubits + 1:\n",
    "        raise Exception(\"Incorrect Error Array\")\n",
    "    \n",
    "    if len(error_arr_u) != n_qubits + 1:\n",
    "        raise Exception(\"Incorrect Error Array\")\n",
    "        \n",
    "        \n",
    "    if len(error_arr_d) != n_qubits + 1:\n",
    "        raise Exception(\"Incorrect Error Array\")\n",
    "    \n",
    "    for row in range(2 ** n_qubits):\n",
    "        row_str = bin(row)[2:].zfill(n_qubits)\n",
    "\n",
    "\n",
    "        for col in range(2 ** n_qubits):\n",
    "            col_str = bin(col)[2:].zfill(n_qubits)\n",
    "\n",
    "            diff_str = [i - j for i, j in zip(list(map(int, row_str)), list(map(int, col_str)))]   \n",
    "            \n",
    "            #probs[row][col] -= s_penalty * sum(1 if i == 1 else 0 for i in row_str)\n",
    "            \n",
    "            probs[row][col] += error_arr_u[sum(1 if i == -1 else 0 for i in diff_str)]\n",
    "            probs[row][col] += error_arr_d[sum(1 if i == 1 else 0 for i in diff_str)]\n",
    "            probs[row][col] += error_arr_c[n_qubits - sum(1 if i == 0 else 0 for i in diff_str)]\n",
    "            \n",
    "            probs[row][col] = max(0, probs[row][col])\n",
    "            \n",
    "    #Normalise rows, we can then do arbitrary scaling factors in the error arr\n",
    "    for row, _ in enumerate(probs):\n",
    "        np_row = np.array(probs[row])\n",
    "        if sum(np_row) > 0:\n",
    "            np_row = np_row / sum(np_row) \n",
    "        probs[row] = list(np_row)\n",
    "    \n",
    "    return probs\n"
   ]
  },
  {
   "cell_type": "code",
   "execution_count": 14,
   "id": "de68fa85",
   "metadata": {},
   "outputs": [],
   "source": [
    "def noisy_measure(counts, probs=np.array(gen_error_probs(\n",
    "        [0,3,3,3,1000], # Const\n",
    "        [0,1,2,3,4], # 0 -> 1\n",
    "        [0,9,16,25,36] # 1 -> 0\n",
    "        )),\n",
    "        n_qubits=4):\n",
    "    \n",
    "    vec = np.zeros((2 ** n_qubits, 1))\n",
    "    for i in range(2 ** n_qubits):\n",
    "        try:\n",
    "            vec[i][0] = counts[str(bin(i)[2:].zfill(n_qubits))]\n",
    "        except:\n",
    "            pass\n",
    "    err_counts = list(map(round, list((probs @ vec).flatten())))    \n",
    "    counts_final = {}\n",
    "    for i in range(2 ** n_qubits):\n",
    "        i_str = bin(i)[2:].zfill(n_qubits)\n",
    "        counts_final[i_str] = err_counts[i] \n",
    "    return counts_final"
   ]
  },
  {
   "cell_type": "code",
   "execution_count": 20,
   "id": "36764ef6",
   "metadata": {},
   "outputs": [],
   "source": [
    "def measurement_error(counts, n_qubits=4, probs = gen_error_probs(\n",
    "        [100,10,40,1,1], # Const - Controls correlation of error weights\n",
    "        [0, 4,3,3,3], # 1 -> 0 - Controls error biases\n",
    "        [0,-5,-5,-5,-5] # 0 -> 1 - Controls error biases\n",
    "        )):\n",
    "\n",
    "    counts_final = noisy_measure(counts, n_qubits=n_qubits, probs=probs)\n",
    "    return counts_final"
   ]
  },
  {
   "cell_type": "code",
   "execution_count": 29,
   "id": "fad23178",
   "metadata": {},
   "outputs": [],
   "source": [
    "def sample_distribution(population, n_shots):\n",
    "    # There are much more efficient ways to do this\n",
    "    list_split = []\n",
    "    for element in population:\n",
    "        list_split += [element] * population[element]\n",
    "        \n",
    "    list_pop = [random.choice(list_split) for _ in range(n_shots)]\n",
    "    \n",
    "    new_population = {}\n",
    "    for element in population:\n",
    "        new_population[element] = list_pop.count(element)\n",
    "\n",
    "    return new_population"
   ]
  },
  {
   "cell_type": "code",
   "execution_count": 88,
   "id": "6a55850e",
   "metadata": {},
   "outputs": [
    {
     "data": {
      "text/plain": [
       "{'0000': 32,\n",
       " '0001': 98,\n",
       " '0010': 98,\n",
       " '0011': 0,\n",
       " '0100': 98,\n",
       " '0101': 0,\n",
       " '0110': 0,\n",
       " '0111': 0,\n",
       " '1000': 252,\n",
       " '1001': 13,\n",
       " '1010': 13,\n",
       " '1011': 100,\n",
       " '1100': 13,\n",
       " '1101': 100,\n",
       " '1110': 100,\n",
       " '1111': 0}"
      ]
     },
     "execution_count": 88,
     "metadata": {},
     "output_type": "execute_result"
    }
   ],
   "source": [
    "measurement_error({'1000':1000})"
   ]
  },
  {
   "cell_type": "code",
   "execution_count": 18,
   "id": "b0a0545f",
   "metadata": {},
   "outputs": [],
   "source": [
    "n_qubits = 4\n",
    "circuit = bv_circuit(str(1001), 5)"
   ]
  },
  {
   "cell_type": "code",
   "execution_count": 308,
   "id": "ff06688d",
   "metadata": {},
   "outputs": [],
   "source": [
    "#provider = IBMQ.get_provider(group='open', project='main')\n",
    "#backend = provider.get_backend('ibmq_quito') # ibmq_vigo\n",
    "backend = Aer.get_backend(\"qasm_simulator\")\n",
    "\n",
    "def smc(circuit, probs = gen_error_probs(\n",
    "        [100,10,40,1,1], # Const - Controls correlation of error weights\n",
    "        [0, 4,3,3,3], # 1 -> 0 - Controls error biases\n",
    "        [0,-5,-5,-5,-5] # 0 -> 1 - Controls error biases\n",
    "        ), \n",
    "        n_shots=1,\n",
    "    n_measurements = 100,\n",
    "    n_experiments = 1,\n",
    "    n_points = 4000):\n",
    "\n",
    "    results = []\n",
    "\n",
    "    for i in range(n_experiments):    \n",
    "\n",
    "        result_data = {}\n",
    "\n",
    "        result_data['circuit'] = circuit\n",
    "        result_data['risk'] = []\n",
    "        result_data['mean'] = []\n",
    "        result_data['len'] = len(circuit)\n",
    "\n",
    "        dist = Distribution(n_points=n_points, n_qubits=n_qubits)\n",
    "\n",
    "\n",
    "        for _ in range(n_measurements):\n",
    "\n",
    "            inversion_arr = dist.next_experiment()       \n",
    "\n",
    "            tmp_circuit = copy.deepcopy(circuit)\n",
    "            tmp_circuit = design_circuit(n_qubits, inversion_arr, circuit=tmp_circuit)\n",
    "\n",
    "\n",
    "            job = execute(tmp_circuit, backend, shots=1000)\n",
    "\n",
    "            result = job.result()\n",
    "\n",
    "            noisy_measurement = measurement_error(result.get_counts(circuit), n_qubits=n_qubits, probs=probs)\n",
    "\n",
    "            noisy_counts = sample_distribution(noisy_measurement, n_shots)\n",
    "            #print(noisy_counts)\n",
    "            outcome = list(map(int, list(list(noisy_counts)[0])))     \n",
    "\n",
    "            #print(\"Measurements: {} Outcome: {}\".format(inversion_arr, outcome))\n",
    "            dist.measure(outcome, inversion_arr)\n",
    "        \n",
    "        dist.curr_best_circuit()\n",
    "        mean = dist.calc_bayes_mean()\n",
    "        inversion_arr = [int(b > a) for a, b in zip(mean[:-1:2], mean[1::2])]\n",
    "        tmp_circuit = copy.deepcopy(circuit)\n",
    "        tmp_circuit = design_circuit(n_qubits, inversion_arr, circuit=tmp_circuit)\n",
    "        \n",
    "        job = execute(tmp_circuit, backend, shots=1000)\n",
    "\n",
    "        result = job.result()\n",
    "\n",
    "        noisy_measurement = measurement_error(result.get_counts(circuit), n_qubits=n_qubits, probs=probs)\n",
    "        \n",
    "    return noisy_measurement"
   ]
  },
  {
   "cell_type": "code",
   "execution_count": 294,
   "id": "f26a81a0",
   "metadata": {},
   "outputs": [
    {
     "data": {
      "text/plain": [
       "[1, 1, 1, 1]"
      ]
     },
     "execution_count": 294,
     "metadata": {},
     "output_type": "execute_result"
    }
   ],
   "source": [
    "\n"
   ]
  },
  {
   "cell_type": "code",
   "execution_count": 80,
   "id": "ac7e9a6b",
   "metadata": {},
   "outputs": [
    {
     "data": {
      "text/plain": [
       "Text(0.5, 1.0, 'Correlated BV Risk Reduction')"
      ]
     },
     "execution_count": 80,
     "metadata": {},
     "output_type": "execute_result"
    },
    {
     "data": {
      "image/png": "[encoded data removed]",
      "text/plain": [
       "<Figure size 432x288 with 1 Axes>"
      ]
     },
     "metadata": {
      "needs_background": "light"
     },
     "output_type": "display_data"
    }
   ],
   "source": [
    "[plt.plot(result['risk']) for result in results] \n",
    "plt.xlabel(\"SMC Updates\")\n",
    "plt.ylabel(\"Bayes Risk\")\n",
    "plt.title(\"Correlated BV Risk Reduction\")\n",
    "#plt.savefig('figs/bayes_risk_rb_melbourne.pdf')"
   ]
  },
  {
   "cell_type": "code",
   "execution_count": 41,
   "id": "bede2a95",
   "metadata": {},
   "outputs": [
    {
     "data": {
      "text/html": [
       "<pre style=\"word-wrap: normal;white-space: pre;background: #fff0;line-height: 1.1;font-family: &quot;Courier New&quot;,Courier,monospace\">     ┌───┐      ░            ░ ┌───┐\n",
       "q_0: ┤ H ├──────░───■────────░─┤ H ├\n",
       "     ├───┤      ░   │        ░ ├───┤\n",
       "q_1: ┤ H ├──────░───┼────────░─┤ H ├\n",
       "     ├───┤      ░   │        ░ ├───┤\n",
       "q_2: ┤ H ├──────░───┼────────░─┤ H ├\n",
       "     ├───┤      ░   │        ░ ├───┤\n",
       "q_3: ┤ H ├──────░───┼────■───░─┤ H ├\n",
       "     ├───┤┌───┐ ░ ┌─┴─┐┌─┴─┐ ░ └───┘\n",
       "q_4: ┤ H ├┤ Z ├─░─┤ X ├┤ X ├─░──────\n",
       "     └───┘└───┘ ░ └───┘└───┘ ░      \n",
       "c: 4/═══════════════════════════════\n",
       "                                    </pre>"
      ],
      "text/plain": [
       "     ┌───┐      ░            ░ ┌───┐\n",
       "q_0: ┤ H ├──────░───■────────░─┤ H ├\n",
       "     ├───┤      ░   │        ░ ├───┤\n",
       "q_1: ┤ H ├──────░───┼────────░─┤ H ├\n",
       "     ├───┤      ░   │        ░ ├───┤\n",
       "q_2: ┤ H ├──────░───┼────────░─┤ H ├\n",
       "     ├───┤      ░   │        ░ ├───┤\n",
       "q_3: ┤ H ├──────░───┼────■───░─┤ H ├\n",
       "     ├───┤┌───┐ ░ ┌─┴─┐┌─┴─┐ ░ └───┘\n",
       "q_4: ┤ H ├┤ Z ├─░─┤ X ├┤ X ├─░──────\n",
       "     └───┘└───┘ ░ └───┘└───┘ ░      \n",
       "c: 4/═══════════════════════════════\n",
       "                                    "
      ]
     },
     "execution_count": 41,
     "metadata": {},
     "output_type": "execute_result"
    }
   ],
   "source": [
    "circuit.draw()"
   ]
  },
  {
   "cell_type": "code",
   "execution_count": 236,
   "id": "46acc2ae",
   "metadata": {},
   "outputs": [],
   "source": [
    "# SIM for even numbers of measured qubits \n",
    "def sim(circuit, probs, n_shots=40):\n",
    "    n_qubits = 4\n",
    "\n",
    "    sim_strs = [\n",
    "        [0] * n_qubits, \n",
    "        [1] * n_qubits,\n",
    "        [0, 1] * (n_qubits // 2), \n",
    "        [1,0] * (n_qubits // 2)\n",
    "    ]\n",
    "\n",
    "    sim_results = {}\n",
    "    for inversion_arr in sim_strs:\n",
    "\n",
    "        tmp_circuit = copy.deepcopy(circuit)\n",
    "        tmp_circuit = design_circuit(n_qubits, inversion_arr, circuit=tmp_circuit)\n",
    "\n",
    "\n",
    "        job = execute(tmp_circuit, backend, shots=n_shots // 4)\n",
    "\n",
    "        result = job.result()\n",
    "\n",
    "        noisy_measurement = measurement_error(result.get_counts(circuit), n_qubits=n_qubits, probs=probs)\n",
    "\n",
    "        noisy_counts = sample_distribution(noisy_measurement, n_shots // 4)\n",
    "\n",
    "        for count in noisy_counts:\n",
    "            count_arr = ''.join(map(str, [i ^ j for i, j in zip(inversion_arr, map(int, list(count[::-1])))]))\n",
    "\n",
    "            if count_arr in sim_results:\n",
    "                sim_results[count_arr] += noisy_counts[count]\n",
    "            else:\n",
    "                sim_results[count_arr] = noisy_counts[count]\n",
    "\n",
    "\n",
    "\n",
    "    return sim_results\n"
   ]
  },
  {
   "cell_type": "code",
   "execution_count": 237,
   "id": "5b1ebb77",
   "metadata": {},
   "outputs": [
    {
     "name": "stdout",
     "output_type": "stream",
     "text": [
      "SIM 0.7\n"
     ]
    }
   ],
   "source": [
    "print('SIM', max(sim_results.values()) / sum(list(sim_results.values())))"
   ]
  },
  {
   "cell_type": "code",
   "execution_count": 266,
   "id": "9b074540",
   "metadata": {},
   "outputs": [],
   "source": [
    "# SIM for even numbers of measured qubits \n",
    "n_qubits = 4\n",
    "\n",
    "def aim(circuit, probs, n_shots=40, confirmation_shots=1000):\n",
    "\n",
    "    aim_strs = [[0] * n_qubits for _ in range(n_qubits)]\n",
    "\n",
    "    for i in range(len(aim_strs)):\n",
    "        aim_strs[i][i] = 1\n",
    "\n",
    "\n",
    "    aim_results = {}\n",
    "    for inversion_arr in aim_strs:\n",
    "\n",
    "        tmp_circuit = copy.deepcopy(circuit)\n",
    "        tmp_circuit = design_circuit(n_qubits, inversion_arr, circuit=tmp_circuit)\n",
    "\n",
    "\n",
    "        job = execute(tmp_circuit, backend, shots=n_shots // len(aim_strs))\n",
    "\n",
    "        result = job.result()\n",
    "\n",
    "        noisy_measurement = measurement_error(result.get_counts(circuit), n_qubits=n_qubits, probs=probs)\n",
    "\n",
    "        noisy_counts = sample_distribution(noisy_measurement, n_shots // len(aim_strs))\n",
    "\n",
    "        aim_result = {}\n",
    "        for count in noisy_counts:\n",
    "            count_arr = ''.join(map(str, [i ^ j for i, j in zip(inversion_arr, map(int, list(count[::-1])))]))\n",
    "\n",
    "            if count_arr in aim_result:\n",
    "                aim_result[count_arr] += noisy_counts[count]\n",
    "            else:\n",
    "                aim_result[count_arr] = noisy_counts[count]\n",
    "\n",
    "        aim_results[''.join(map(str, inversion_arr))] = aim_result\n",
    "    \n",
    "    # Find max aim\n",
    "    max_inv_arr = max([(max([b for b in aim_results[i].values()]), i) for i in  aim_results])[1]\n",
    "\n",
    "    # Run confirmation shots for statistics\n",
    "    tmp_circuit = copy.deepcopy(circuit)\n",
    "    tmp_circuit = design_circuit(n_qubits, inversion_arr, circuit=tmp_circuit)\n",
    "\n",
    "    job = execute(tmp_circuit, backend, shots=confirmation_shots)\n",
    "\n",
    "    result = job.result()\n",
    "\n",
    "    noisy_measurement = measurement_error(result.get_counts(circuit), n_qubits=n_qubits, probs=probs)\n",
    "\n",
    "    noisy_counts = sample_distribution(noisy_measurement, confirmation_shots)\n",
    "    \n",
    "    return noisy_counts\n",
    "        "
   ]
  },
  {
   "cell_type": "code",
   "execution_count": null,
   "id": "ee36ce3c",
   "metadata": {},
   "outputs": [],
   "source": []
  },
  {
   "cell_type": "code",
   "execution_count": 267,
   "id": "24428fc5",
   "metadata": {},
   "outputs": [
    {
     "data": {
      "text/plain": [
       "{'0000': 11,\n",
       " '0001': 77,\n",
       " '0010': 71,\n",
       " '0011': 30,\n",
       " '0100': 68,\n",
       " '0101': 38,\n",
       " '0110': 40,\n",
       " '0111': 573,\n",
       " '1000': 0,\n",
       " '1001': 26,\n",
       " '1010': 27,\n",
       " '1011': 0,\n",
       " '1100': 39,\n",
       " '1101': 0,\n",
       " '1110': 0,\n",
       " '1111': 0}"
      ]
     },
     "execution_count": 267,
     "metadata": {},
     "output_type": "execute_result"
    }
   ],
   "source": [
    "aim(circuit, probs)"
   ]
  },
  {
   "cell_type": "code",
   "execution_count": 253,
   "id": "f6d0b572",
   "metadata": {},
   "outputs": [
    {
     "data": {
      "text/plain": [
       "(539, '0010')"
      ]
     },
     "execution_count": 253,
     "metadata": {},
     "output_type": "execute_result"
    }
   ],
   "source": []
  },
  {
   "cell_type": "code",
   "execution_count": 127,
   "id": "1f51771b",
   "metadata": {},
   "outputs": [
    {
     "name": "stdout",
     "output_type": "stream",
     "text": [
      "AIM 0.255\n"
     ]
    }
   ],
   "source": [
    "print('AIM', max(aim_results.values()) / sum(list(aim_results.values())))"
   ]
  },
  {
   "cell_type": "code",
   "execution_count": 275,
   "id": "a449a414",
   "metadata": {},
   "outputs": [],
   "source": [
    "def ibmq_filter(circuit, probs, n_shots=1000):\n",
    "\n",
    "\n",
    "    qr = QuantumRegister(4)\n",
    "    meas_calibs, state_labels = complete_meas_cal(qr=qr, circlabel='mcal')\n",
    "\n",
    "    t_qc = transpile(meas_calibs, backend)\n",
    "    qobj = assemble(t_qc, shots=n_shots)\n",
    "    cal_results = backend.run(qobj, shots=n_shots).result()\n",
    "    meas_fitter = CompleteMeasFitter(cal_results, state_labels, circlabel='mcal')\n",
    "\n",
    "    job = execute(circuit, backend, shots=1000)\n",
    "    result = job.result()\n",
    "    noisy_measurement = measurement_error(result.get_counts(circuit), n_qubits=n_qubits, probs=probs)\n",
    "    noisy_counts = sample_distribution(noisy_measurement, n_shots)\n",
    "\n",
    "    qiskit_results = meas_fitter.filter.apply(noisy_counts)\n",
    "    return qiskit_results"
   ]
  },
  {
   "cell_type": "code",
   "execution_count": null,
   "id": "3841a741",
   "metadata": {},
   "outputs": [],
   "source": []
  },
  {
   "cell_type": "code",
   "execution_count": 139,
   "id": "06b2c203",
   "metadata": {},
   "outputs": [
    {
     "data": {
      "text/plain": [
       "{'0000': 292.0000749351269,\n",
       " '0001': 21.99995559855539,\n",
       " '0010': 14.999970014496174,\n",
       " '0011': 91.9998982432742,\n",
       " '0100': 15.999967979507543,\n",
       " '0101': 115.99991944067031,\n",
       " '0110': 109.9999141017012,\n",
       " '0111': 2.7651354544807206e-05,\n",
       " '1000': 10.00042187997745,\n",
       " '1001': 95.9999016887447,\n",
       " '1010': 103.9999088297105,\n",
       " '1011': 2.760648151598627e-05,\n",
       " '1100': 126.99992913036134,\n",
       " '1101': 2.763097667978073e-05,\n",
       " '1110': 2.765141609030724e-05,\n",
       " '1111': 2.7617645375731335e-05}"
      ]
     },
     "execution_count": 139,
     "metadata": {},
     "output_type": "execute_result"
    }
   ],
   "source": [
    "ibmq_filter(circuit)"
   ]
  },
  {
   "cell_type": "code",
   "execution_count": 301,
   "id": "26b42a02",
   "metadata": {},
   "outputs": [
    {
     "name": "stdout",
     "output_type": "stream",
     "text": [
      "0.26 0.01 0.01 0.10 0.01 0.10 0.10 0.01 0.01 0.10 0.10 0.01 0.10 0.01 0.01 0.01 \n",
      "0.00 0.37 0.00 0.02 0.00 0.02 0.04 0.15 0.00 0.02 0.04 0.15 0.04 0.15 0.00 0.02 \n",
      "0.00 0.00 0.37 0.02 0.00 0.04 0.02 0.15 0.00 0.04 0.02 0.15 0.04 0.00 0.15 0.02 \n",
      "0.00 0.00 0.00 0.56 0.00 0.00 0.00 0.03 0.00 0.00 0.00 0.03 0.06 0.06 0.06 0.22 \n",
      "0.00 0.00 0.00 0.04 0.37 0.02 0.02 0.15 0.00 0.04 0.04 0.00 0.02 0.15 0.15 0.02 \n",
      "0.00 0.00 0.00 0.00 0.00 0.56 0.00 0.03 0.00 0.00 0.06 0.06 0.00 0.03 0.06 0.22 \n",
      "0.00 0.00 0.00 0.00 0.00 0.00 0.56 0.03 0.00 0.06 0.00 0.06 0.00 0.06 0.03 0.22 \n",
      "0.00 0.00 0.00 0.00 0.00 0.00 0.00 0.95 0.00 0.00 0.00 0.00 0.00 0.00 0.00 0.05 \n",
      "0.00 0.00 0.00 0.04 0.00 0.04 0.04 0.00 0.37 0.02 0.02 0.15 0.02 0.15 0.15 0.02 \n",
      "0.00 0.00 0.00 0.00 0.00 0.00 0.06 0.06 0.00 0.56 0.00 0.03 0.00 0.03 0.06 0.22 \n",
      "0.00 0.00 0.00 0.00 0.00 0.06 0.00 0.06 0.00 0.00 0.56 0.03 0.00 0.06 0.03 0.22 \n",
      "0.00 0.00 0.00 0.00 0.00 0.00 0.00 0.00 0.00 0.00 0.00 0.95 0.00 0.00 0.00 0.05 \n",
      "0.00 0.00 0.00 0.06 0.00 0.00 0.00 0.06 0.00 0.00 0.00 0.06 0.56 0.03 0.03 0.22 \n",
      "0.00 0.00 0.00 0.00 0.00 0.00 0.00 0.00 0.00 0.00 0.00 0.00 0.00 0.95 0.00 0.05 \n",
      "0.00 0.00 0.00 0.00 0.00 0.00 0.00 0.00 0.00 0.00 0.00 0.00 0.00 0.00 0.95 0.05 \n",
      "0.00 0.00 0.00 0.00 0.00 0.00 0.00 0.00 0.00 0.00 0.00 0.00 0.00 0.00 0.00 1.00 \n"
     ]
    }
   ],
   "source": [
    "probs = gen_error_probs(\n",
    "        [100,0,10,0,0], # Const - Controls correlation of error weights\n",
    "        [0, 5, 30, 5, 5], # 1 -> 0 - Controls error biases\n",
    "        [0,-20,-20,-20,-20] # 0 -> 1 - Controls error biases\n",
    "        )\n",
    "\n",
    "for line in probs:\n",
    "    for val in line:\n",
    "        print(\"%.2f \" % val, end='')\n",
    "    print()"
   ]
  },
  {
   "cell_type": "code",
   "execution_count": 309,
   "id": "4e0ed243",
   "metadata": {},
   "outputs": [],
   "source": [
    "n_qubits = 4\n",
    "n_shots=40\n",
    "\n",
    "aim_res = []\n",
    "sim_res = []\n",
    "smc_res = []\n",
    "ibmq_res = []\n",
    "for i in range(2 ** n_qubits):\n",
    "    bv_string = bin(i)[2:].zfill(n_qubits)\n",
    "    \n",
    "    circuit = bv_circuit(bv_string, n_qubits + 1)\n",
    "    \n",
    "    aim_res.append(aim(circuit, probs=probs, n_shots=n_shots))\n",
    "    sim_res.append(sim(circuit, probs=probs, n_shots=n_shots))\n",
    "    smc_res.append(smc(circuit, probs=probs, n_measurements=n_shots))\n",
    "    ibmq_res.append(ibmq_filter(circuit, probs, n_shots=n_shots))\n",
    "    \n",
    "\n",
    "sim_probs = [max(r.values()) / sum(list(r.values())) for r in sim_res]\n",
    "aim_probs = [max(r.values()) / sum(list(r.values())) for r in aim_res]\n",
    "smc_probs = [max(r.values()) / sum(list(r.values())) for r in smc_res]\n",
    "ibmq_probs = [max(r.values()) / sum(list(r.values())) for r in ibmq_res]"
   ]
  },
  {
   "cell_type": "code",
   "execution_count": 310,
   "id": "9e9ce7fb",
   "metadata": {},
   "outputs": [
    {
     "data": {
      "text/plain": [
       "[<matplotlib.lines.Line2D at 0x7f45f02df400>]"
      ]
     },
     "execution_count": 310,
     "metadata": {},
     "output_type": "execute_result"
    },
    {
     "data": {
      "image/png": "[encoded data removed]",
      "text/plain": [
       "<Figure size 432x288 with 1 Axes>"
      ]
     },
     "metadata": {
      "needs_background": "light"
     },
     "output_type": "display_data"
    }
   ],
   "source": [
    "plt.title('BV - 4, 2 Qubit Correlated Measurement Errors')\n",
    "plt.plot(sim_probs)\n",
    "plt.plot(aim_probs)\n",
    "plt.plot(smc_probs)\n",
    "plt.plot(ibmq_probs, linestyle='--')"
   ]
  },
  {
   "cell_type": "code",
   "execution_count": null,
   "id": "dfa31a7e",
   "metadata": {},
   "outputs": [],
   "source": [
    "plt.title('BV - 4, 2 Qubit Correlated Measurement Errors')\n",
    "plt.plot(sim_probs, label='SIM')\n",
    "plt.plot(aim_probs, label='AIM')\n",
    "plt.plot(smc_probs, label='SMC')\n",
    "plt.plot(ibmq_probs, linestyle='--', label='Qiskit')\n",
    "plt.legend()"
   ]
  },
  {
   "cell_type": "code",
   "execution_count": null,
   "id": "99f6d092",
   "metadata": {},
   "outputs": [],
   "source": []
  }
 ],
 "metadata": {
  "kernelspec": {
   "display_name": "Python 3",
   "language": "python",
   "name": "python3"
  },
  "language_info": {
   "codemirror_mode": {
    "name": "ipython",
    "version": 3
   },
   "file_extension": ".py",
   "mimetype": "text/x-python",
   "name": "python",
   "nbconvert_exporter": "python",
   "pygments_lexer": "ipython3",
   "version": "3.8.2"
  }
 },
 "nbformat": 4,
 "nbformat_minor": 5
}

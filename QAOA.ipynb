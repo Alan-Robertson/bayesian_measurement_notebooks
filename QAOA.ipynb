{
 "cells": [
  {
   "cell_type": "markdown",
   "id": "marked-titanium",
   "metadata": {},
   "source": [
    "## QAOA ##\n",
    "Applies the QAOA Algorithm\n",
    "The first sections of this notebook make extensive use of code found in the qiskit documentation"
   ]
  },
  {
   "cell_type": "code",
   "execution_count": 3,
   "id": "extended-syndicate",
   "metadata": {},
   "outputs": [],
   "source": [
    "import random\n",
    "import math\n",
    "import numpy as np\n",
    "\n",
    "import copy\n",
    "\n",
    "\n",
    "import sys, os, time\n",
    "\n",
    "from qinfer import LiuWestResampler\n",
    "from qinfer import utils\n",
    "\n",
    "from qiskit import IBMQ\n",
    "from qiskit import QuantumCircuit, execute, Aer\n",
    "import qiskit.ignis.verification.randomized_benchmarking as rb\n",
    "import matplotlib.lines as mlines\n",
    "\n",
    "#IBMQ.load_account()\n"
   ]
  },
  {
   "cell_type": "code",
   "execution_count": null,
   "id": "atlantic-parameter",
   "metadata": {},
   "outputs": [],
   "source": [
    "import numpy as np\n",
    "import networkx as nx  # tool to handle general Graphs \n",
    "import matplotlib.pyplot as plt \n",
    "from matplotlib import cm\n",
    "from matplotlib.ticker import LinearLocator, FormatStrFormatter\n",
    "\n",
    "from qiskit import Aer, IBMQ\n",
    "from qiskit import QuantumRegister, ClassicalRegister, QuantumCircuit, transpile, assemble\n",
    "from qiskit.providers.ibmq import least_busy\n",
    "from qiskit.tools.monitor import job_monitor\n",
    "from qiskit.visualization import plot_histogram"
   ]
  },
  {
   "cell_type": "code",
   "execution_count": null,
   "id": "wooden-fiction",
   "metadata": {},
   "outputs": [],
   "source": [
    "import matplotlib.pyplot as plt\n",
    "import seaborn as sbs\n",
    "\n",
    "import smc_linear as smc\n",
    "Distribution = smc.Distribution\n",
    "\n",
    "sbs.set(style=\"darkgrid\")\n",
    "\n",
    "%matplotlib inline"
   ]
  },
  {
   "cell_type": "code",
   "execution_count": null,
   "id": "completed-rainbow",
   "metadata": {},
   "outputs": [],
   "source": [
    "### QAOA CELL\n",
    "n = 5\n",
    "V = np.arange(0,n,1)\n",
    "E =[(0,1,1.0),(0,2,1.0),(1,2,1.0),(3,2,1.0),(3,4,1.0),(4,2,1.0)] \n",
    "\n",
    "G = nx.Graph()\n",
    "G.add_nodes_from(V)\n",
    "G.add_weighted_edges_from(E)\n",
    "\n",
    "# Generate plot of the Graph\n",
    "colors       = ['r' for node in G.nodes()]\n",
    "default_axes = plt.axes(frameon=True)\n",
    "pos          = nx.spring_layout(G)\n",
    "\n",
    "nx.draw_networkx(G, node_color=colors, node_size=600, alpha=1, ax=default_axes, pos=pos)\n"
   ]
  },
  {
   "cell_type": "code",
   "execution_count": null,
   "id": "elementary-mistress",
   "metadata": {},
   "outputs": [],
   "source": [
    "# Evaluate the function\n",
    "step_size   = 0.1;\n",
    "\n",
    "a_gamma         = np.arange(0, np.pi, step_size)\n",
    "a_beta          = np.arange(0, np.pi, step_size)\n",
    "a_gamma, a_beta = np.meshgrid(a_gamma,a_beta)\n",
    "\n",
    "F1 = 3-(np.sin(2*a_beta)**2*np.sin(2*a_gamma)**2-0.5*np.sin(4*a_beta)*np.sin(4*a_gamma))*(1+np.cos(4*a_gamma)**2)\n",
    "\n",
    "# Grid search for the minimizing variables\n",
    "result = np.where(F1 == np.amax(F1))\n",
    "a      = list(zip(result[0],result[1]))[0]\n",
    "\n",
    "gamma  = a[0]*step_size;\n",
    "beta   = a[1]*step_size;\n",
    "\n",
    "# Plot the expetation value F1\n",
    "fig = plt.figure()\n",
    "ax  = fig.gca(projection='3d')\n",
    "\n",
    "surf = ax.plot_surface(a_gamma, a_beta, F1, cmap=cm.coolwarm, linewidth=0, antialiased=True)\n",
    "\n",
    "ax.set_zlim(1,4)\n",
    "ax.zaxis.set_major_locator(LinearLocator(3))\n",
    "ax.zaxis.set_major_formatter(FormatStrFormatter('%.02f'))\n",
    "\n",
    "plt.show()\n",
    "\n",
    "#The smallest parameters and the expectation can be extracted\n",
    "print('\\n --- OPTIMAL PARAMETERS --- \\n')\n",
    "print('The maximal expectation value is:  M1 = %.03f' % np.amax(F1))\n",
    "print('This is attained for gamma = %.03f and beta = %.03f' % (gamma,beta))"
   ]
  },
  {
   "cell_type": "code",
   "execution_count": 6,
   "id": "quality-recorder",
   "metadata": {},
   "outputs": [
    {
     "data": {
      "text/html": [
       "<pre style=\"word-wrap: normal;white-space: pre;background: #fff0;line-height: 1.1;font-family: &quot;Courier New&quot;,Courier,monospace\">     ┌───┐ ░            ┌────────┐           ┌────────┐                     »\n",
       "q_0: ┤ H ├─░──────■─────┤ P(1.9) ├─────■─────┤ P(1.9) ├─────────────────────»\n",
       "     ├───┤ ░ ┌────┴────┐├────────┤     │     └────────┘           ┌────────┐»\n",
       "q_1: ┤ H ├─░─┤ P(-3.8) ├┤ P(1.9) ├─────┼────────────────────■─────┤ P(1.9) ├»\n",
       "     ├───┤ ░ └─────────┘└────────┘┌────┴────┐┌────────┐┌────┴────┐├────────┤»\n",
       "q_2: ┤ H ├─░──────────────────────┤ P(-3.8) ├┤ P(1.9) ├┤ P(-3.8) ├┤ P(1.9) ├»\n",
       "     ├───┤ ░                      └─────────┘└────────┘└─────────┘└────────┘»\n",
       "q_3: ┤ H ├─░────────────────────────────────────────────────────────────────»\n",
       "     ├───┤ ░                                                                »\n",
       "q_4: ┤ H ├─░────────────────────────────────────────────────────────────────»\n",
       "     └───┘ ░                                                                »\n",
       "c: 5/═══════════════════════════════════════════════════════════════════════»\n",
       "                                                                            »\n",
       "«                                                                     ░ »\n",
       "«q_0: ────────────────────────────────────────────────────────────────░─»\n",
       "«                                                                     ░ »\n",
       "«q_1: ────────────────────────────────────────────────────────────────░─»\n",
       "«     ┌─────────┐┌────────┐                     ┌─────────┐┌────────┐ ░ »\n",
       "«q_2: ┤ P(-3.8) ├┤ P(1.9) ├─────────────────────┤ P(-3.8) ├┤ P(1.9) ├─░─»\n",
       "«     └────┬────┘├────────┤           ┌────────┐└────┬────┘└────────┘ ░ »\n",
       "«q_3: ─────■─────┤ P(1.9) ├─────■─────┤ P(1.9) ├─────┼────────────────░─»\n",
       "«                └────────┘┌────┴────┐├────────┤     │     ┌────────┐ ░ »\n",
       "«q_4: ─────────────────────┤ P(-3.8) ├┤ P(1.9) ├─────■─────┤ P(1.9) ├─░─»\n",
       "«                          └─────────┘└────────┘           └────────┘ ░ »\n",
       "«c: 5/══════════════════════════════════════════════════════════════════»\n",
       "«                                                                       »\n",
       "«     ┌─────────┐ ░ \n",
       "«q_0: ┤ RX(0.4) ├─░─\n",
       "«     ├─────────┤ ░ \n",
       "«q_1: ┤ RX(0.4) ├─░─\n",
       "«     ├─────────┤ ░ \n",
       "«q_2: ┤ RX(0.4) ├─░─\n",
       "«     ├─────────┤ ░ \n",
       "«q_3: ┤ RX(0.4) ├─░─\n",
       "«     ├─────────┤ ░ \n",
       "«q_4: ┤ RX(0.4) ├─░─\n",
       "«     └─────────┘ ░ \n",
       "«c: 5/══════════════\n",
       "«                   </pre>"
      ],
      "text/plain": [
       "     ┌───┐ ░            ┌────────┐           ┌────────┐                     »\n",
       "q_0: ┤ H ├─░──────■─────┤ P(1.9) ├─────■─────┤ P(1.9) ├─────────────────────»\n",
       "     ├───┤ ░ ┌────┴────┐├────────┤     │     └────────┘           ┌────────┐»\n",
       "q_1: ┤ H ├─░─┤ P(-3.8) ├┤ P(1.9) ├─────┼────────────────────■─────┤ P(1.9) ├»\n",
       "     ├───┤ ░ └─────────┘└────────┘┌────┴────┐┌────────┐┌────┴────┐├────────┤»\n",
       "q_2: ┤ H ├─░──────────────────────┤ P(-3.8) ├┤ P(1.9) ├┤ P(-3.8) ├┤ P(1.9) ├»\n",
       "     ├───┤ ░                      └─────────┘└────────┘└─────────┘└────────┘»\n",
       "q_3: ┤ H ├─░────────────────────────────────────────────────────────────────»\n",
       "     ├───┤ ░                                                                »\n",
       "q_4: ┤ H ├─░────────────────────────────────────────────────────────────────»\n",
       "     └───┘ ░                                                                »\n",
       "c: 5/═══════════════════════════════════════════════════════════════════════»\n",
       "                                                                            »\n",
       "«                                                                     ░ »\n",
       "«q_0: ────────────────────────────────────────────────────────────────░─»\n",
       "«                                                                     ░ »\n",
       "«q_1: ────────────────────────────────────────────────────────────────░─»\n",
       "«     ┌─────────┐┌────────┐                     ┌─────────┐┌────────┐ ░ »\n",
       "«q_2: ┤ P(-3.8) ├┤ P(1.9) ├─────────────────────┤ P(-3.8) ├┤ P(1.9) ├─░─»\n",
       "«     └────┬────┘├────────┤           ┌────────┐└────┬────┘└────────┘ ░ »\n",
       "«q_3: ─────■─────┤ P(1.9) ├─────■─────┤ P(1.9) ├─────┼────────────────░─»\n",
       "«                └────────┘┌────┴────┐├────────┤     │     ┌────────┐ ░ »\n",
       "«q_4: ─────────────────────┤ P(-3.8) ├┤ P(1.9) ├─────■─────┤ P(1.9) ├─░─»\n",
       "«                          └─────────┘└────────┘           └────────┘ ░ »\n",
       "«c: 5/══════════════════════════════════════════════════════════════════»\n",
       "«                                                                       »\n",
       "«     ┌─────────┐ ░ \n",
       "«q_0: ┤ RX(0.4) ├─░─\n",
       "«     ├─────────┤ ░ \n",
       "«q_1: ┤ RX(0.4) ├─░─\n",
       "«     ├─────────┤ ░ \n",
       "«q_2: ┤ RX(0.4) ├─░─\n",
       "«     ├─────────┤ ░ \n",
       "«q_3: ┤ RX(0.4) ├─░─\n",
       "«     ├─────────┤ ░ \n",
       "«q_4: ┤ RX(0.4) ├─░─\n",
       "«     └─────────┘ ░ \n",
       "«c: 5/══════════════\n",
       "«                   "
      ]
     },
     "execution_count": 6,
     "metadata": {},
     "output_type": "execute_result"
    }
   ],
   "source": [
    "# prepare the quantum and classical resisters\n",
    "QAOA = QuantumCircuit(len(V), len(V))\n",
    "\n",
    "# apply the layer of Hadamard gates to all qubits\n",
    "QAOA.h(range(len(V)))\n",
    "QAOA.barrier()\n",
    "\n",
    "# apply the Ising type gates with angle gamma along the edges in E\n",
    "for edge in E:\n",
    "    k = edge[0]\n",
    "    l = edge[1]\n",
    "    QAOA.cp(-2*gamma, k, l)\n",
    "    QAOA.p(gamma, k)\n",
    "    QAOA.p(gamma, l)\n",
    "    \n",
    "# then apply the single qubit X rotations with angle beta to all qubits\n",
    "QAOA.barrier()\n",
    "QAOA.rx(2*beta, range(len(V)))\n",
    "\n",
    "# Finally measure the result in the computational basis\n",
    "QAOA.barrier()\n",
    "#QAOA.measure(range(len(V)),range(len(V)))\n",
    "\n",
    "### draw the circuit for comparison\n",
    "QAOA.draw()"
   ]
  },
  {
   "cell_type": "code",
   "execution_count": null,
   "id": "occupational-recycling",
   "metadata": {},
   "outputs": [],
   "source": [
    "# Compute the value of the cost function\n",
    "def cost_function_C(x,G):\n",
    "    \n",
    "    E = G.edges()\n",
    "    if( len(x) != len(G.nodes())):\n",
    "        return np.nan\n",
    "        \n",
    "    C = 0;\n",
    "    for index in E:\n",
    "        e1 = index[0]\n",
    "        e2 = index[1]\n",
    "        \n",
    "        w      = G[e1][e2]['weight']\n",
    "        C = C + w*x[e1]*(1-x[e2]) + w*x[e2]*(1-x[e1])\n",
    "        \n",
    "    return C"
   ]
  },
  {
   "cell_type": "code",
   "execution_count": null,
   "id": "productive-recycling",
   "metadata": {},
   "outputs": [],
   "source": [
    "# run on local simulator\n",
    "backend = Aer.get_backend(\"qasm_simulator\")\n",
    "shots = 10000\n",
    "\n",
    "TQAOA = transpile(QAOA, backend)\n",
    "qobj = assemble(TQAOA)\n",
    "QAOA_results = backend.run(qobj).result()\n",
    "\n",
    "plot_histogram(QAOA_results.get_counts(),figsize = (8,6),bar_labels = False)"
   ]
  },
  {
   "cell_type": "code",
   "execution_count": null,
   "id": "clear-locator",
   "metadata": {},
   "outputs": [],
   "source": [
    "def design_circuit(n_qubits, inv_arr, circuit=None):\n",
    "    \n",
    "    if circuit is None:\n",
    "        circuit = QuantumCircuit(n_qubits, n_qubits)\n",
    "    \n",
    "    for i, element in enumerate(inv_arr):\n",
    "        if element == 1:\n",
    "            circuit.x(i)\n",
    "    \n",
    "    circuit.measure(list(range(n_qubits)), list(range(n_qubits)))\n",
    "    return circuit"
   ]
  },
  {
   "cell_type": "code",
   "execution_count": null,
   "id": "continent-novelty",
   "metadata": {},
   "outputs": [],
   "source": [
    "circuit = QAOA\n",
    "n_qubits = 5\n",
    "provider = IBMQ.get_provider(group='open', project='main')\n",
    "backend = provider.get_backend('ibmq_quito') # ibmq_vigo\n",
    "\n",
    "n_measurements = 40\n",
    "n_experiments = 20\n",
    "n_points = 4000\n",
    "\n",
    "results = []\n",
    "\n",
    "for i in range(n_experiments):    \n",
    "\n",
    "    result_data = {}\n",
    "    \n",
    "    \n",
    "\n",
    "    result_data['circuit'] = circuit\n",
    "    result_data['risk'] = []\n",
    "    result_data['mean'] = []\n",
    "    result_data['len'] = len(circuit)\n",
    "    \n",
    "    dist = Distribution(n_points=n_points, n_qubits=n_qubits)\n",
    "\n",
    "\n",
    "    for _ in range(n_measurements):\n",
    "        \n",
    "        inversion_arr = dist.next_experiment()       \n",
    "        \n",
    "        tmp_circuit = copy.deepcopy(circuit)\n",
    "        tmp_circuit = design_circuit(n_qubits, inversion_arr, circuit=tmp_circuit)\n",
    "\n",
    "        \n",
    "        job = execute(tmp_circuit, backend, shots=1)\n",
    "        \n",
    "        result = job.result()\n",
    "        outcome = list(map(int, list(list(result.get_counts(circuit).keys())[0])))     \n",
    "        \n",
    "        print(\"Measurements: {} Outcome: {}\".format(inversion_arr, outcome))\n",
    "        dist.measure(outcome, inversion_arr)\n",
    "        \n",
    "        result_data['risk'].append(dist.calc_bayes_risk())\n",
    "        result_data['mean'].append(dist.calc_bayes_mean())\n",
    "\n",
    "    \n",
    "    result_data['distrubtion'] = dist\n",
    "    results.append(result_data)"
   ]
  },
  {
   "cell_type": "code",
   "execution_count": 25,
   "id": "forward-dialogue",
   "metadata": {},
   "outputs": [
    {
     "data": {
      "text/plain": [
       "[<matplotlib.lines.Line2D at 0x7fcae412b940>]"
      ]
     },
     "execution_count": 25,
     "metadata": {},
     "output_type": "execute_result"
    },
    {
     "data": {
      "image/png": "[encoded data removed]",
      "text/plain": [
       "<Figure size 432x288 with 1 Axes>"
      ]
     },
     "metadata": {
      "needs_background": "light"
     },
     "output_type": "display_data"
    }
   ],
   "source": [
    "plt.plot(results[3]['risk'])"
   ]
  },
  {
   "cell_type": "code",
   "execution_count": null,
   "id": "quality-calculation",
   "metadata": {},
   "outputs": [],
   "source": [
    "provider = IBMQ.get_provider(group='open', project='main')\n",
    "backend = provider.get_backend('ibmq_quito') # ibmq_vigo\n",
    "\n",
    "for i, result in enumerate(results):\n",
    "    \n",
    "    \n",
    "    tmp_circuit = copy.deepcopy(result['circuit'])\n",
    "    inv_arr = np.zeros(n_qubits, dtype=int)\n",
    "    \n",
    "    tmp_circuit = design_circuit(n_qubits, inv_arr, circuit=tmp_circuit)\n",
    "    job = execute(tmp_circuit, backend, shots=1024)\n",
    "    ibm_result = job.result()\n",
    "    \n",
    "    results[i]['initial'] = ibm_result\n",
    "    \n",
    "    inv_arr = result['distrubtion'].next_experiment()\n",
    "    \n",
    "    tmp_circuit = copy.deepcopy(result['circuit'])\n",
    "    tmp_circuit = design_circuit(n_qubits, inv_arr, circuit=tmp_circuit)\n",
    "    job = execute(tmp_circuit, backend, shots=1024)\n",
    "    ibm_result = job.result() \n",
    "    \n",
    "    results[i]['final'] = ibm_result\n",
    "    \n",
    "    print(i)"
   ]
  },
  {
   "cell_type": "code",
   "execution_count": null,
   "id": "authentic-swimming",
   "metadata": {},
   "outputs": [],
   "source": [
    "plt.plot([max(i['initial'].get_counts().values()) / 1024 for i in results]) \n",
    "plt.plot([max(i['final'].get_counts().values()) / 1024 for i in results])"
   ]
  },
  {
   "cell_type": "code",
   "execution_count": 12,
   "id": "hawaiian-agenda",
   "metadata": {},
   "outputs": [
    {
     "name": "stdout",
     "output_type": "stream",
     "text": [
      "\n",
      " --- SIMULATION RESULTS ---\n",
      "\n",
      "The sampled mean value is M1_sampled = 0.00 while the true value is M1 = 3.43 \n",
      "\n",
      "The approximate solution is x* = 00001 with C(x*) = 2 \n",
      "\n",
      "The cost function is distributed as: \n",
      "\n"
     ]
    },
    {
     "data": {
      "image/png": "[encoded data removed]",
      "text/plain": [
       "<Figure size 576x432 with 1 Axes>"
      ]
     },
     "execution_count": 12,
     "metadata": {},
     "output_type": "execute_result"
    }
   ],
   "source": [
    "# Evaluate the data from the simulator\n",
    "counts = result.get_counts()\n",
    "\n",
    "avr_C       = 0\n",
    "max_C       = [0,0]\n",
    "hist        = {}\n",
    "\n",
    "for k in range(len(G.edges())+1):\n",
    "    hist[str(k)] = hist.get(str(k),0)\n",
    "\n",
    "for sample in list(counts.keys()):\n",
    "\n",
    "    # use sampled bit string x to compute C(x)\n",
    "    x         = [int(num) for num in list(sample)]\n",
    "    tmp_eng   = cost_function_C(x,G)\n",
    "    \n",
    "    # compute the expectation value and energy distribution\n",
    "    avr_C     = avr_C    + counts[sample]*tmp_eng\n",
    "    hist[str(round(tmp_eng))] = hist.get(str(round(tmp_eng)),0) + counts[sample]\n",
    "    \n",
    "    # save best bit string\n",
    "    if( max_C[1] < tmp_eng):\n",
    "        max_C[0] = sample\n",
    "        max_C[1] = tmp_eng\n",
    "                \n",
    "M1_sampled   = avr_C/shots\n",
    "\n",
    "print('\\n --- SIMULATION RESULTS ---\\n')\n",
    "print('The sampled mean value is M1_sampled = %.02f while the true value is M1 = %.02f \\n' % (M1_sampled,np.amax(F1)))\n",
    "print('The approximate solution is x* = %s with C(x*) = %d \\n' % (max_C[0],max_C[1]))\n",
    "print('The cost function is distributed as: \\n')\n",
    "plot_histogram(hist,figsize = (8,6),bar_labels = False)"
   ]
  },
  {
   "cell_type": "code",
   "execution_count": 62,
   "id": "southern-norman",
   "metadata": {},
   "outputs": [
    {
     "data": {
      "image/png": "[encoded data removed]",
      "text/plain": [
       "<Figure size 576x432 with 1 Axes>"
      ]
     },
     "execution_count": 62,
     "metadata": {},
     "output_type": "execute_result"
    }
   ],
   "source": [
    "plot_histogram(results[i]['final'].get_counts(),figsize = (8,6),bar_labels = False)"
   ]
  },
  {
   "cell_type": "code",
   "execution_count": 24,
   "id": "sweet-oasis",
   "metadata": {},
   "outputs": [
    {
     "data": {
      "image/png": "[encoded data removed]",
      "text/plain": [
       "<Figure size 576x432 with 1 Axes>"
      ]
     },
     "execution_count": 24,
     "metadata": {},
     "output_type": "execute_result"
    }
   ],
   "source": [
    "backend = provider.get_backend('ibmq_quito')\n",
    "shots = 10000\n",
    "job = execute(tmp_circuit, backend, shots=8192)\n",
    "QAOA_results = job.result()\n",
    "plot_histogram(QAOA_results.get_counts(),figsize = (8,6),bar_labels = False)"
   ]
  },
  {
   "cell_type": "code",
   "execution_count": null,
   "id": "demanding-jewel",
   "metadata": {},
   "outputs": [],
   "source": [
    "backend = provider.get_backend('ibmq_quito')\n",
    "shots = 10000\n",
    "job = execute(tmp_circuit, backend, shots=1)\n",
    "QAOA_results = job.result()\n",
    "plot_histogram(QAOA_results.get_counts(),figsize = (8,6),bar_labels = False)"
   ]
  }
 ],
 "metadata": {
  "kernelspec": {
   "display_name": "Python 3",
   "language": "python",
   "name": "python3"
  },
  "language_info": {
   "codemirror_mode": {
    "name": "ipython",
    "version": 3
   },
   "file_extension": ".py",
   "mimetype": "text/x-python",
   "name": "python",
   "nbconvert_exporter": "python",
   "pygments_lexer": "ipython3",
   "version": "3.8.3"
  }
 },
 "nbformat": 4,
 "nbformat_minor": 5
}

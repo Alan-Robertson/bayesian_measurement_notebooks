{
 "cells": [
  {
   "cell_type": "markdown",
   "metadata": {},
   "source": [
    "## Armonk Sequential X Results ##\n",
    "\n",
    "This notebook runs a series circuits of increasing depth in X gates over the IBMQ Armonk"
   ]
  },
  {
   "cell_type": "code",
   "execution_count": null,
   "metadata": {},
   "outputs": [],
   "source": [
    "import random\n",
    "import math\n",
    "import numpy as np\n",
    "\n",
    "import copy\n",
    "\n",
    "\n",
    "import sys, os, time\n",
    "\n",
    "from qinfer import LiuWestResampler\n",
    "from qinfer import utils\n",
    "\n",
    "from qiskit import IBMQ\n",
    "from qiskit import QuantumCircuit, execute, Aer\n",
    "import qiskit.ignis.verification.randomized_benchmarking as rb\n",
    "\n",
    "IBMQ.load_account()"
   ]
  },
  {
   "cell_type": "code",
   "execution_count": null,
   "metadata": {},
   "outputs": [],
   "source": [
    "import matplotlib.pyplot as plt\n",
    "import seaborn as sbs\n",
    "\n",
    "import smc_linear as smc\n",
    "Distribution = smc.Distribution\n",
    "\n",
    "sbs.set(style=\"darkgrid\")\n",
    "\n",
    "%matplotlib inline"
   ]
  },
  {
   "cell_type": "markdown",
   "metadata": {},
   "source": [
    "### Circuit Constructors ###\n",
    "Builds our sequential X circuit"
   ]
  },
  {
   "cell_type": "code",
   "execution_count": 1,
   "metadata": {},
   "outputs": [],
   "source": [
    "def initial_circuit(n_qubits, n_gates):\n",
    "    circuit = QuantumCircuit(n_qubits, n_qubits)\n",
    "    for i in range(n_gates):\n",
    "        for j in range(n_qubits):\n",
    "            circuit.x(j)\n",
    "            circuit.barrier(j)\n",
    "    return circuit"
   ]
  },
  {
   "cell_type": "code",
   "execution_count": 2,
   "metadata": {},
   "outputs": [],
   "source": [
    "def design_circuit(n_qubits, inv_arr, circuit=None):\n",
    "    \n",
    "    if circuit is None:\n",
    "        circuit = QuantumCircuit(n_qubits, n_qubits)\n",
    "        \n",
    "    \n",
    "    for i, element in enumerate(inv_arr):\n",
    "        if element == 1:\n",
    "            circuit.x(i)\n",
    "    \n",
    "    circuit.measure(list(range(n_qubits)), list(range(n_qubits)))\n",
    "    return circuit"
   ]
  },
  {
   "cell_type": "markdown",
   "metadata": {},
   "source": [
    "## SMC Runner ##\n",
    "Runs the SMC operations over the constructed circuits"
   ]
  },
  {
   "cell_type": "code",
   "execution_count": null,
   "metadata": {},
   "outputs": [],
   "source": [
    "provider = IBMQ.get_provider(group='open', project='main')\n",
    "backend = provider.get_backend('ibmq_armonk')\n",
    "\n",
    "n_qubits = 1\n",
    "\n",
    "n_measurements = 20\n",
    "n_experiments = 20\n",
    "n_points = 4000\n",
    "\n",
    "results = []\n",
    "\n",
    "for i in range(n_experiments):    \n",
    "\n",
    "    result_data = {}\n",
    "    \n",
    "    circuit = initial_circuit(n_qubits, i)\n",
    "\n",
    "    result_data['circuit'] = circuit\n",
    "    result_data['risk'] = []\n",
    "    result_data['mean'] = []\n",
    "    result_data['len'] = len(circuit)\n",
    "    \n",
    "    dist = Distribution(n_points=n_points, n_qubits=n_qubits)\n",
    "\n",
    "\n",
    "    for _ in range(n_measurements):\n",
    "        \n",
    "        inversion_arr = dist.next_experiment()       \n",
    "        \n",
    "        tmp_circuit = copy.deepcopy(circuit)\n",
    "        tmp_circuit = design_circuit(n_qubits, inversion_arr, circuit=tmp_circuit)\n",
    "\n",
    "        job = execute(tmp_circuit, backend, shots=1)\n",
    "        \n",
    "        result = job.result()\n",
    "        outcome = list(map(int, list(list(result.get_counts(circuit).keys())[0])))     \n",
    "        \n",
    "        print(\"Measurements: {} Outcome: {}\".format(inversion_arr, outcome))\n",
    "        dist.measure(outcome, inversion_arr)\n",
    "        \n",
    "        result_data['risk'].append(dist.calc_bayes_risk())\n",
    "        result_data['mean'].append(dist.calc_bayes_mean())\n",
    "\n",
    "    \n",
    "    result_data['distrubtion'] = dist\n",
    "    results.append(result_data)\n"
   ]
  }
 ],
 "metadata": {
  "kernelspec": {
   "display_name": "Python 3",
   "language": "python",
   "name": "python3"
  },
  "language_info": {
   "codemirror_mode": {
    "name": "ipython",
    "version": 3
   },
   "file_extension": ".py",
   "mimetype": "text/x-python",
   "name": "python",
   "nbconvert_exporter": "python",
   "pygments_lexer": "ipython3",
   "version": "3.8.3"
  }
 },
 "nbformat": 4,
 "nbformat_minor": 4
}

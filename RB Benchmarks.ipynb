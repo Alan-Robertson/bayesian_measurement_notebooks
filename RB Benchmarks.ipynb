{
 "cells": [
  {
   "cell_type": "markdown",
   "metadata": {},
   "source": [
    "## RB Benchmarks on the IBMQ ##"
   ]
  },
  {
   "cell_type": "code",
   "execution_count": null,
   "metadata": {
    "scrolled": false
   },
   "outputs": [],
   "source": [
    "import random\n",
    "import math\n",
    "import numpy as np\n",
    "\n",
    "import copy\n",
    "\n",
    "\n",
    "import sys, os, time\n",
    "\n",
    "from qinfer import LiuWestResampler\n",
    "from qinfer import utils\n",
    "\n",
    "from qiskit import IBMQ\n",
    "from qiskit import QuantumCircuit, execute, Aer\n",
    "import qiskit.ignis.verification.randomized_benchmarking as rb\n",
    "\n",
    "IBMQ.load_account()\n"
   ]
  },
  {
   "cell_type": "code",
   "execution_count": null,
   "metadata": {},
   "outputs": [],
   "source": [
    "import matplotlib.pyplot as plt\n",
    "import seaborn as sbs\n",
    "\n",
    "import smc\n",
    "Distribution = smc.Distribution\n",
    "\n",
    "sbs.set(style=\"darkgrid\")\n",
    "\n",
    "%matplotlib inline"
   ]
  },
  {
   "cell_type": "markdown",
   "metadata": {},
   "source": [
    "Invert and measure circuit adder"
   ]
  },
  {
   "cell_type": "code",
   "execution_count": null,
   "metadata": {},
   "outputs": [],
   "source": [
    "def design_circuit(n_qubits, inv_arr, circuit=None):\n",
    "    \n",
    "    if circuit is None:\n",
    "        circuit = QuantumCircuit(n_qubits, n_qubits)\n",
    "    \n",
    "    for i, element in enumerate(inv_arr):\n",
    "        if element == 1:\n",
    "            circuit.x(i)\n",
    "    \n",
    "    circuit.measure(list(range(n_qubits)), list(range(n_qubits)))\n",
    "    return circuit"
   ]
  },
  {
   "cell_type": "markdown",
   "metadata": {},
   "source": [
    "Random circuit builder"
   ]
  },
  {
   "cell_type": "code",
   "execution_count": null,
   "metadata": {},
   "outputs": [],
   "source": [
    "def random_circuit(n_qubits):\n",
    "    length_vector = [1]\n",
    "    n_seeds = 1\n",
    "    \n",
    "    initial_list = list(range(0, n_qubits))    \n",
    "    rb_pattern = []\n",
    "    \n",
    "    while len(initial_list) > 1:\n",
    "        sample = random.sample(initial_list, 2)\n",
    "        [initial_list.remove(i) for i in sample]\n",
    "        rb_pattern.append(sample)\n",
    "    \n",
    "    if len(initial_list) == 1:\n",
    "        rb_pattern.append([initial_list[0]])\n",
    "    \n",
    "    \n",
    "    circuit, xdata = rb.randomized_benchmarking_seq(\n",
    "        length_vector = [1],\n",
    "        nseeds = 1,\n",
    "        rb_pattern = rb_pattern\n",
    "        )\n",
    "    circuit = circuit[0][0]\n",
    "    cregs = circuit.cregs\n",
    "    \n",
    "    circuit.remove_final_measurements(inplace=True)\n",
    "    circuit.cregs = cregs\n",
    "    \n",
    "    for i in range(n_qubits):\n",
    "        circuit.barrier(i)\n",
    "        if (round(random.random())):\n",
    "            circuit.x(i)\n",
    "            circuit.barrier(i)\n",
    "    \n",
    "    return circuit"
   ]
  },
  {
   "cell_type": "markdown",
   "metadata": {},
   "source": [
    "Some temporary and now unused code to check everything is working without hitting the IBMQ Backend"
   ]
  },
  {
   "cell_type": "code",
   "execution_count": null,
   "metadata": {},
   "outputs": [],
   "source": [
    "def fake_experiment(true_bias, inversion_arr):\n",
    "    result = []\n",
    "    for bias, i in zip(true_bias, inversion_arr):\n",
    "        outcome = i if random.random() < bias[i] else 1 - i\n",
    "        result.append(outcome)\n",
    "    return result"
   ]
  },
  {
   "cell_type": "markdown",
   "metadata": {},
   "source": [
    "Running RB benchmarks using SMB"
   ]
  },
  {
   "cell_type": "code",
   "execution_count": null,
   "metadata": {},
   "outputs": [],
   "source": [
    "provider = IBMQ.get_provider(group='open', project='main')\n",
    "backend = provider.get_backend('ibmq_vigo')\n",
    "\n",
    "n_qubits = 5\n",
    "\n",
    "n_measurements = 200\n",
    "n_experiments = 10\n",
    "n_points = 4000\n",
    "n_qubits = 5\n",
    "\n",
    "results = []\n",
    "\n",
    "for i in range(n_experiments):    \n",
    "\n",
    "    result_data = {}\n",
    "    \n",
    "    circuit = random_circuit(n_qubits)\n",
    "\n",
    "    result_data['circuit'] = circuit\n",
    "    result_data['risk'] = []\n",
    "    result_data['mean'] = []\n",
    "    result_data['len'] = len(circuit)\n",
    "    \n",
    "    dist = Distribution(n_points=n_points, n_qubits=n_qubits)\n",
    "\n",
    "\n",
    "    for _ in range(n_measurements):\n",
    "        \n",
    "        inversion_arr = dist.next_experiment()       \n",
    "        \n",
    "        tmp_circuit = copy.deepcopy(circuit)\n",
    "        tmp_circuit = design_circuit(n_qubits, inversion_arr, circuit=tmp_circuit)\n",
    "\n",
    "        job = execute(tmp_circuit, backend, shots=1)\n",
    "        \n",
    "        result = job.result()\n",
    "        outcome = list(map(int, list(list(result.get_counts(circuit).keys())[0])))     \n",
    "        \n",
    "        print(\"Measurements: {} Outcome: {}\".format(inversion_arr, outcome))\n",
    "        dist.measure(outcome, inversion_arr)\n",
    "        \n",
    "        result_data['risk'].append(dist.calc_bayes_risk())\n",
    "        result_data['mean'].append(dist.calc_bayes_mean())\n",
    "\n",
    "    \n",
    "    result_data['distrubtion'] = dist\n",
    "    results.append(result_data)\n"
   ]
  },
  {
   "cell_type": "markdown",
   "metadata": {},
   "source": [
    "More RB benchmarks"
   ]
  },
  {
   "cell_type": "code",
   "execution_count": null,
   "metadata": {},
   "outputs": [],
   "source": [
    "n_points = 4000\n",
    "n_qubits = 5\n",
    "\n",
    "vals = []\n",
    "m_outcomes = {}\n",
    "m_outcomes_order = []\n",
    "\n",
    "dist = Distribution(n_points=n_points, n_qubits=n_qubits)\n",
    "\n",
    "for m_number, (measurement, outcome) in enumerate(zip(measurements_arr, outcomes_arr)):    \n",
    "\n",
    "    dist.measure(outcome, measurement)\n",
    "\n",
    "    vals.append([dist.calc_bayes_mean(), dist.calc_bayes_risk()])\n",
    "    \n",
    "    bayes_mean = dist.calc_bayes_mean()\n",
    "    m_arr = [1 if bayes_mean[2 * i + 1] < bayes_mean[2 * i] else 0 for i in range(len(bayes_mean) // 2)]\n",
    "           \n",
    "    m_arr_str = ''.join(list(map(str, m_arr)))\n",
    "        \n",
    "    print(m_arr_str)\n",
    "    \n",
    "    if m_number % 10 == 0:\n",
    "        print(\"Calculating outcome: \", m_number)\n",
    "        m_outcomes_order.append(m_arr_str)\n",
    "        \n",
    "        if m_arr_str not in m_outcomes:\n",
    "        \n",
    "            job = execute(tmp_circuit, backend, shots=4000)\n",
    "\n",
    "            result = job.result()\n",
    "\n",
    "            m_outcomes[m_arr_str] = result.get_counts(circuit)    \n"
   ]
  },
  {
   "cell_type": "code",
   "execution_count": null,
   "metadata": {},
   "outputs": [],
   "source": [
    "ex_res = []\n",
    "for i in range(0, len(measurements_arr), 15):\n",
    "    \n",
    "    inversion_arr = measurements_arr[i]       \n",
    "        \n",
    "    tmp_circuit = copy.deepcopy(circuit)\n",
    "    tmp_circuit = design_circuit(n_qubits, inversion_arr, circuit=tmp_circuit)\n",
    "    \n",
    "    job = execute(tmp_circuit, backend, shots=1000)\n",
    "        \n",
    "    result = job.result()\n",
    "    outcome = result.get_counts(circuit)\n",
    "    \n",
    "    ex_res.append(outcome)\n",
    "    print(inversion_arr)\n",
    "    "
   ]
  },
  {
   "cell_type": "code",
   "execution_count": null,
   "metadata": {},
   "outputs": [],
   "source": [
    "def bootstrap(result, target=0, samples=900, repeats=1000):\n",
    "    sampler = []\n",
    "    for i in result:\n",
    "        for _ in range(result[i]):\n",
    "            sampler.append(int(i))\n",
    "            \n",
    "    probs = []\n",
    "    \n",
    "    for _ in range(repeats):\n",
    "        tally = 0\n",
    "        for i in range(samples):\n",
    "            sample = sampler[random.randint(0, len(sampler) - 1)]\n",
    "            \n",
    "            if int(target) == sample:\n",
    "                tally += 1\n",
    "        \n",
    "        probs.append(tally / samples)\n",
    "    return probs"
   ]
  },
  {
   "cell_type": "code",
   "execution_count": null,
   "metadata": {},
   "outputs": [],
   "source": [
    "n_repeats = 100\n",
    "x_coords = np.array([[i * 10] * n_repeats for i in range(len(m_outcomes_order))]).flatten()\n",
    "y_coords = 1 - np.array(\n",
    "    [bootstrap(\n",
    "        m_outcomes[m_outcomes_order[i]], \n",
    "        target = max(m_outcomes[m_outcomes_order[i]], key=lambda key: m_outcomes[m_outcomes_order[i]][key]), \n",
    "        samples=900, repeats=n_repeats) \n",
    "     for i in range(len(m_outcomes_order))\n",
    "    ]).flatten()\n"
   ]
  },
  {
   "cell_type": "markdown",
   "metadata": {},
   "source": [
    "Make plots"
   ]
  },
  {
   "cell_type": "code",
   "execution_count": null,
   "metadata": {},
   "outputs": [],
   "source": [
    "x_coords_adj = [min(i, 1 - i) for i in x_coords]\n",
    "\n",
    "ax = sbs.pointplot(x_coords, y_coords, ci=100)\n",
    "\n",
    "ax.lines[0].set_marker('^')\n",
    "ax.lines[0].set_linestyle('--')\n",
    "\n",
    "# london = mlines.Line2D([], [], color='blue', marker='.',\n",
    "#                           markersize=10, label='IBMQ Virgo')\n",
    "\n",
    "plt.xlabel(\"Characterisation Measurements\")\n",
    "plt.ylabel(\"Error Probability\")\n",
    "plt.title(\"Randomised Depth 14 Circuit Error Rates (IBMQ Melbourne)\")\n",
    "plt.savefig('figs/error_rates_rb_melbourne.pdf')"
   ]
  }
 ],
 "metadata": {
  "kernelspec": {
   "display_name": "Python 3",
   "language": "python",
   "name": "python3"
  },
  "language_info": {
   "codemirror_mode": {
    "name": "ipython",
    "version": 3
   },
   "file_extension": ".py",
   "mimetype": "text/x-python",
   "name": "python",
   "nbconvert_exporter": "python",
   "pygments_lexer": "ipython3",
   "version": "3.8.2"
  }
 },
 "nbformat": 4,
 "nbformat_minor": 4
}
